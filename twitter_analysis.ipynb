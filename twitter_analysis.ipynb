{
 "cells": [
  {
   "cell_type": "code",
   "execution_count": 6,
   "metadata": {
    "collapsed": false
   },
   "outputs": [],
   "source": [
    "import matplotlib.pyplot as plt\n",
    "import numpy as np\n",
    "import pandas as pd\n",
    "\n",
    "%matplotlib inline"
   ]
  },
  {
   "cell_type": "code",
   "execution_count": 7,
   "metadata": {
    "collapsed": false
   },
   "outputs": [],
   "source": [
    "df = pd.read_pickle('twitter_pickle')"
   ]
  },
  {
   "cell_type": "code",
   "execution_count": 8,
   "metadata": {
    "collapsed": false
   },
   "outputs": [
    {
     "data": {
      "text/html": [
       "<div>\n",
       "<table border=\"1\" class=\"dataframe\">\n",
       "  <thead>\n",
       "    <tr style=\"text-align: right;\">\n",
       "      <th></th>\n",
       "      <th>text</th>\n",
       "      <th>user_lang</th>\n",
       "      <th>location</th>\n",
       "      <th>hashtags</th>\n",
       "      <th>retweet</th>\n",
       "      <th>n_retweet</th>\n",
       "      <th>n_followers</th>\n",
       "      <th>n_friends</th>\n",
       "      <th>name</th>\n",
       "      <th>coords</th>\n",
       "      <th>Cisco</th>\n",
       "      <th>CCNA</th>\n",
       "      <th>AWS</th>\n",
       "      <th>Sharepoint</th>\n",
       "      <th>linux</th>\n",
       "      <th>powershell</th>\n",
       "      <th>itil</th>\n",
       "      <th>sql</th>\n",
       "      <th>azure</th>\n",
       "      <th>ceh</th>\n",
       "    </tr>\n",
       "  </thead>\n",
       "  <tbody>\n",
       "    <tr>\n",
       "      <th>0</th>\n",
       "      <td>RT @JessikaDommeUK: I am now available for #Di...</td>\n",
       "      <td>en</td>\n",
       "      <td>UK</td>\n",
       "      <td>[{u'indices': [43, 54], u'text': u'DirectChat'...</td>\n",
       "      <td>False</td>\n",
       "      <td>0</td>\n",
       "      <td>12633</td>\n",
       "      <td>933</td>\n",
       "      <td>⭐️AdultworksFinest⭐️</td>\n",
       "      <td>None</td>\n",
       "      <td>False</td>\n",
       "      <td>False</td>\n",
       "      <td>False</td>\n",
       "      <td>False</td>\n",
       "      <td>False</td>\n",
       "      <td>False</td>\n",
       "      <td>False</td>\n",
       "      <td>False</td>\n",
       "      <td>False</td>\n",
       "      <td>False</td>\n",
       "    </tr>\n",
       "    <tr>\n",
       "      <th>1</th>\n",
       "      <td>yNewsbot: Bugtraq: #Cisco #Security #Advisory:...</td>\n",
       "      <td>en</td>\n",
       "      <td>tryingto #^fi~{|__#}%%*</td>\n",
       "      <td>[{u'indices': [19, 25], u'text': u'Cisco'}, {u...</td>\n",
       "      <td>False</td>\n",
       "      <td>0</td>\n",
       "      <td>2636</td>\n",
       "      <td>1084</td>\n",
       "      <td>❌Siraj Solution❌</td>\n",
       "      <td>None</td>\n",
       "      <td>True</td>\n",
       "      <td>False</td>\n",
       "      <td>False</td>\n",
       "      <td>False</td>\n",
       "      <td>False</td>\n",
       "      <td>False</td>\n",
       "      <td>False</td>\n",
       "      <td>False</td>\n",
       "      <td>False</td>\n",
       "      <td>False</td>\n",
       "    </tr>\n",
       "    <tr>\n",
       "      <th>2</th>\n",
       "      <td>RT @mims: Amazon is going to compete directly ...</td>\n",
       "      <td>en</td>\n",
       "      <td>None</td>\n",
       "      <td>[]</td>\n",
       "      <td>False</td>\n",
       "      <td>0</td>\n",
       "      <td>2624</td>\n",
       "      <td>4916</td>\n",
       "      <td>Leroy Wesley Annon</td>\n",
       "      <td>None</td>\n",
       "      <td>False</td>\n",
       "      <td>False</td>\n",
       "      <td>True</td>\n",
       "      <td>False</td>\n",
       "      <td>False</td>\n",
       "      <td>False</td>\n",
       "      <td>False</td>\n",
       "      <td>False</td>\n",
       "      <td>False</td>\n",
       "      <td>False</td>\n",
       "    </tr>\n",
       "    <tr>\n",
       "      <th>3</th>\n",
       "      <td>#Cisco Battles Shadow Broker Exploits. Read mo...</td>\n",
       "      <td>en</td>\n",
       "      <td>San Mateo, CA</td>\n",
       "      <td>[{u'indices': [0, 6], u'text': u'Cisco'}]</td>\n",
       "      <td>False</td>\n",
       "      <td>0</td>\n",
       "      <td>86</td>\n",
       "      <td>2</td>\n",
       "      <td>Networking News</td>\n",
       "      <td>None</td>\n",
       "      <td>True</td>\n",
       "      <td>False</td>\n",
       "      <td>False</td>\n",
       "      <td>False</td>\n",
       "      <td>False</td>\n",
       "      <td>False</td>\n",
       "      <td>False</td>\n",
       "      <td>False</td>\n",
       "      <td>False</td>\n",
       "      <td>False</td>\n",
       "    </tr>\n",
       "    <tr>\n",
       "      <th>4</th>\n",
       "      <td>#Cisco Battles Shadow Broker Exploits. Read mo...</td>\n",
       "      <td>en</td>\n",
       "      <td>San Mateo, CA</td>\n",
       "      <td>[{u'indices': [0, 6], u'text': u'Cisco'}]</td>\n",
       "      <td>False</td>\n",
       "      <td>0</td>\n",
       "      <td>20</td>\n",
       "      <td>2</td>\n",
       "      <td>Communication News</td>\n",
       "      <td>None</td>\n",
       "      <td>True</td>\n",
       "      <td>False</td>\n",
       "      <td>False</td>\n",
       "      <td>False</td>\n",
       "      <td>False</td>\n",
       "      <td>False</td>\n",
       "      <td>False</td>\n",
       "      <td>False</td>\n",
       "      <td>False</td>\n",
       "      <td>False</td>\n",
       "    </tr>\n",
       "  </tbody>\n",
       "</table>\n",
       "</div>"
      ],
      "text/plain": [
       "                                                text user_lang  \\\n",
       "0  RT @JessikaDommeUK: I am now available for #Di...        en   \n",
       "1  yNewsbot: Bugtraq: #Cisco #Security #Advisory:...        en   \n",
       "2  RT @mims: Amazon is going to compete directly ...        en   \n",
       "3  #Cisco Battles Shadow Broker Exploits. Read mo...        en   \n",
       "4  #Cisco Battles Shadow Broker Exploits. Read mo...        en   \n",
       "\n",
       "                  location                                           hashtags  \\\n",
       "0                       UK  [{u'indices': [43, 54], u'text': u'DirectChat'...   \n",
       "1  tryingto #^fi~{|__#}%%*  [{u'indices': [19, 25], u'text': u'Cisco'}, {u...   \n",
       "2                     None                                                 []   \n",
       "3            San Mateo, CA          [{u'indices': [0, 6], u'text': u'Cisco'}]   \n",
       "4            San Mateo, CA          [{u'indices': [0, 6], u'text': u'Cisco'}]   \n",
       "\n",
       "  retweet  n_retweet  n_followers  n_friends                  name coords  \\\n",
       "0   False          0        12633        933  ⭐️AdultworksFinest⭐️   None   \n",
       "1   False          0         2636       1084      ❌Siraj Solution❌   None   \n",
       "2   False          0         2624       4916    Leroy Wesley Annon   None   \n",
       "3   False          0           86          2       Networking News   None   \n",
       "4   False          0           20          2    Communication News   None   \n",
       "\n",
       "   Cisco   CCNA    AWS Sharepoint  linux powershell   itil    sql  azure  \\\n",
       "0  False  False  False      False  False      False  False  False  False   \n",
       "1   True  False  False      False  False      False  False  False  False   \n",
       "2  False  False   True      False  False      False  False  False  False   \n",
       "3   True  False  False      False  False      False  False  False  False   \n",
       "4   True  False  False      False  False      False  False  False  False   \n",
       "\n",
       "     ceh  \n",
       "0  False  \n",
       "1  False  \n",
       "2  False  \n",
       "3  False  \n",
       "4  False  "
      ]
     },
     "execution_count": 8,
     "metadata": {},
     "output_type": "execute_result"
    }
   ],
   "source": [
    "df.head()"
   ]
  },
  {
   "cell_type": "markdown",
   "metadata": {
    "collapsed": true
   },
   "source": [
    "# Run Some Summary Statistics"
   ]
  },
  {
   "cell_type": "code",
   "execution_count": 24,
   "metadata": {
    "collapsed": false
   },
   "outputs": [
    {
     "data": {
      "image/png": "[encoded data removed]",
      "text/plain": [
       "<matplotlib.figure.Figure at 0x1151d3ed0>"
      ]
     },
     "metadata": {},
     "output_type": "display_data"
    }
   ],
   "source": [
    "# How many tweets in each language?\n",
    "df['user_lang'] = df['user_lang'].apply(lambda x: x.lower() if x else None)\n",
    "lang_counts = pd.Series(df['user_lang']).value_counts()\n",
    "languages = [lang for lang in lang_counts.index]\n",
    "y_pos = np.arange(len(lang_counts))\n",
    "plt.bar(y_pos, lang_counts.values, align = 'center');\n",
    "plt.xticks(y_pos, languages);\n",
    "# Show just the top 10\n",
    "plt.xlim([-0.5, 10.5]);"
   ]
  },
  {
   "cell_type": "code",
   "execution_count": 48,
   "metadata": {
    "collapsed": false
   },
   "outputs": [
    {
     "data": {
      "image/png": "[encoded data removed]",
      "text/plain": [
       "<matplotlib.figure.Figure at 0x12e0c44d0>"
      ]
     },
     "metadata": {},
     "output_type": "display_data"
    }
   ],
   "source": [
    "# How many unique locations\n",
    "location_counts = pd.Series(df['location']).value_counts()\n",
    "locations = [loc for loc in location_counts.index]\n",
    "y_pos = np.arange(len(location_counts))\n",
    "plt.bar(y_pos, location_counts.values, align = 'center');\n",
    "lc, ticks = plt.xticks(y_pos, locations, rotation = 'vertical');\n",
    "# Show just the top 20\n",
    "plt.xlim([-0.5, 20.5]);"
   ]
  },
  {
   "cell_type": "markdown",
   "metadata": {},
   "source": [
    "Unfortunately `location` is a user-defined attribute, and the level of specificity varies a great deal between users--some giving the country (UK, USA), some the state (New York, USA), some the city (Redmond, WA), and some don't give locations at all (Dominating the world).  Another problem is that the same entity may be referred to differently by different users (United States, USA; United Kingdom, UK; Tokyo, 東京). It is also possible for users to simply lie about their locations.  Using Twitter's `coordinates` or `country` fields provides more rigorous data, but these fields are not mandatory, and have `None` values more often than not (as was seen with coordinates in the previous notebook).  To make use of the `location` field given here, a good deal more processing would be required."
   ]
  },
  {
   "cell_type": "code",
   "execution_count": 50,
   "metadata": {
    "collapsed": false
   },
   "outputs": [
    {
     "name": "stdout",
     "output_type": "stream",
     "text": [
      "1563\n"
     ]
    },
    {
     "data": {
      "text/plain": [
       "UK                                78\n",
       "United States                     60\n",
       "USA                               45\n",
       "Global                            32\n",
       "London                            31\n",
       "Redmond, WA                       29\n",
       "New York, USA                     28\n",
       "San Francisco, CA                 28\n",
       "New York, NY                      27\n",
       "London, England                   25\n",
       "Seattle, WA                       24\n",
       "Washington, DC                    19\n",
       "Chicago, IL                       19\n",
       "Houston, TX                       19\n",
       "United Kingdom                    18\n",
       "Epsom, England                    18\n",
       "France                            17\n",
       "San Mateo, CA                     17\n",
       "España                            16\n",
       "Dominating the world              16\n",
       "Boston, MA                        15\n",
       "Manchester, UK                    14\n",
       "Worldwide                         14\n",
       "Germany                           14\n",
       "India                             14\n",
       "San Diego, CA                     14\n",
       "48.75558712,2.33759696            13\n",
       "Dallas, TX                        13\n",
       "Los Angeles, CA                   13\n",
       "Canada                            13\n",
       "                                  ..\n",
       "tra le braccia di Benjamin         1\n",
       "Naples, Florida                    1\n",
       "Maryland, USA                      1\n",
       "new delhi,india                    1\n",
       "México                             1\n",
       "ig: hidayah.azmn                   1\n",
       "pdware.com                         1\n",
       "Балтийск                           1\n",
       "Reston, VA                         1\n",
       "voglio un Parabatai.               1\n",
       "RTP, NC                            1\n",
       "Cincinnati, OH                     1\n",
       "Frankfurt am Main, Hessen          1\n",
       "my own world ଓ                     1\n",
       "Cary, NC & Chicago, IL             1\n",
       "Kanata, Canada                     1\n",
       "Lille                              1\n",
       "Dordrecht, or on a plane           1\n",
       "東京都相模原市                            1\n",
       "Leamington Spa, United Kingdom     1\n",
       "EMEA                               1\n",
       "Montana                            1\n",
       "/home/balıkesir/yalova             1\n",
       "Cranberry Twp, PA                  1\n",
       "جدة                                1\n",
       "Grudziądz, Polska                  1\n",
       "Fort Payne, AL                     1\n",
       "Estado de México                   1\n",
       "sheffield                          1\n",
       "In the Cloud!                      1\n",
       "Name: location, dtype: int64"
      ]
     },
     "execution_count": 50,
     "metadata": {},
     "output_type": "execute_result"
    }
   ],
   "source": [
    "print len(location_counts)\n",
    "location_counts"
   ]
  },
  {
   "cell_type": "code",
   "execution_count": 64,
   "metadata": {
    "collapsed": false
   },
   "outputs": [
    {
     "name": "stdout",
     "output_type": "stream",
     "text": [
      "x: [ True False  True  True False  True False False]\n",
      "x == True: [ True False  True  True False  True False False]\n",
      "1 * (x == True): [1 0 1 1 0 1 0 0]\n",
      "No. True in x: 4\n"
     ]
    },
    {
     "data": {
      "text/plain": [
       "0"
      ]
     },
     "execution_count": 64,
     "metadata": {},
     "output_type": "execute_result"
    }
   ],
   "source": [
    "# How many tweets were retweets?\n",
    "# multiplying by 1 casts True/False values to 1/0 e.g.\n",
    "x = np.array([True, False, True, True, False, True, False, False])\n",
    "print 'x:', x\n",
    "print 'x == True:', x == True\n",
    "print '1 * (x == True):', 1 * (x == True)\n",
    "print 'No. True in x:', sum(1 * (x == True))\n",
    "\n",
    "sum(1 * (df['retweet'] == True)) # Zero!  "
   ]
  },
  {
   "cell_type": "code",
   "execution_count": 96,
   "metadata": {
    "collapsed": false
   },
   "outputs": [
    {
     "data": {
      "text/plain": [
       "0.0"
      ]
     },
     "execution_count": 96,
     "metadata": {},
     "output_type": "execute_result"
    }
   ],
   "source": [
    "# Total number of retweets (we already know the answer from above, but to verify...\n",
    "# sum() requires that we remove non-numeric values\n",
    "sum(df['n_retweet'][~(np.isnan(df['n_retweet']))])"
   ]
  },
  {
   "cell_type": "code",
   "execution_count": 107,
   "metadata": {
    "collapsed": false
   },
   "outputs": [
    {
     "data": {
      "image/png": "[encoded data removed]",
      "text/plain": [
       "<matplotlib.figure.Figure at 0x11ef4ced0>"
      ]
     },
     "metadata": {},
     "output_type": "display_data"
    }
   ],
   "source": [
    "# What is the potenetial audience size of each tweet based on friends or followers?\n",
    "# We do these separately rather than summing, as there may be overlap in the two groups\n",
    "df['n_followers'].hist(bins = 20);\n",
    "plt.xlabel('No. Followers');"
   ]
  },
  {
   "cell_type": "code",
   "execution_count": 108,
   "metadata": {
    "collapsed": false
   },
   "outputs": [
    {
     "data": {
      "image/png": "[encoded data removed]",
      "text/plain": [
       "<matplotlib.figure.Figure at 0x11fb25890>"
      ]
     },
     "metadata": {},
     "output_type": "display_data"
    }
   ],
   "source": [
    "df['n_friends'].hist(bins = 20);\n",
    "plt.xlabel('No. Friends');"
   ]
  },
  {
   "cell_type": "code",
   "execution_count": 109,
   "metadata": {
    "collapsed": false
   },
   "outputs": [
    {
     "data": {
      "image/png": "[encoded data removed]",
      "text/plain": [
       "<matplotlib.figure.Figure at 0x1212888d0>"
      ]
     },
     "metadata": {},
     "output_type": "display_data"
    }
   ],
   "source": [
    "# Zoom in\n",
    "df['n_followers'].hist(bins = 500);\n",
    "plt.xlim([0, 20000]);\n",
    "plt.xlabel('No. Followers');"
   ]
  },
  {
   "cell_type": "code",
   "execution_count": 110,
   "metadata": {
    "collapsed": false
   },
   "outputs": [
    {
     "data": {
      "text/plain": [
       "(5007, 20)"
      ]
     },
     "execution_count": 110,
     "metadata": {},
     "output_type": "execute_result"
    }
   ],
   "source": [
    "df.shape"
   ]
  },
  {
   "cell_type": "markdown",
   "metadata": {},
   "source": [
    "We can see that most users (about 3500 of the 5007 in our data set, not accounting for repeats) have fewer than 100 followers.  At the other extreme, though are users with nearly 160,000 followers.  With such a potentially large audience, it may be worth investigating what they are posting about."
   ]
  },
  {
   "cell_type": "code",
   "execution_count": 113,
   "metadata": {
    "collapsed": false
   },
   "outputs": [
    {
     "data": {
      "text/plain": [
       "150             SECURITY 411\n",
       "654          Microsoft Azure\n",
       "657        La Crónica de Hoy\n",
       "1682                DocuSign\n",
       "1892    Jema Gilsenan (Levi)\n",
       "1941        AdultWork Models\n",
       "2007            Eddy yquemas\n",
       "2016        AdultWork Models\n",
       "2069           Forbes México\n",
       "2310         Antena San Luis\n",
       "2313               Rackspace\n",
       "2968    Kerri Walsh Jennings\n",
       "3005      Swift!On!Security!\n",
       "3031          Mikko Hypponen\n",
       "3175      Swift!On!Security!\n",
       "3684           MacGeneration\n",
       "3706          Tweet Sugerido\n",
       "3732               Rackspace\n",
       "3825              Joe Moreno\n",
       "4002     ❤❤ chrissie-milf ❤❤\n",
       "4408               tinyBuild\n",
       "4493                  NetApp\n",
       "4856           Visual Studio\n",
       "Name: name, dtype: object"
      ]
     },
     "execution_count": 113,
     "metadata": {},
     "output_type": "execute_result"
    }
   ],
   "source": [
    "# First of all, who are the users with the most followers?\n",
    "df['name'][df['n_followers'] > 100000]"
   ]
  },
  {
   "cell_type": "markdown",
   "metadata": {},
   "source": [
    "If the names are to be believed, Microsoft Azure and Rackspace are both among the posters.  So are *AdultWork Models* and *❤❤ chrissie-milf ❤❤*... what on earth do they have to say about IT and IT education?"
   ]
  },
  {
   "cell_type": "code",
   "execution_count": 118,
   "metadata": {
    "collapsed": false
   },
   "outputs": [
    {
     "name": "stdout",
     "output_type": "stream",
     "text": [
      "SECURITY 411 (202807 followers):\n",
      "   HPE, Dell Introduce Systems, Services for Microsoft Azure https://t.co/aOS6e79s0w\n",
      "\n",
      "\n",
      "Microsoft Azure (481218 followers):\n",
      "   Dive deeper into #Azure with @Forbes' \"A Close Look At #Microsoft's Azure Cloud, Part 2: The Offering.\" Read it now: https://t.co/SQMEQq005b\n",
      "\n",
      "\n",
      "La Crónica de Hoy (118881 followers):\n",
      "   Cisco invertirá 4 mil mdd en México https://t.co/4plVFspHiN https://t.co/rH4AUC7I6v\n",
      "\n",
      "\n",
      "DocuSign (165019 followers):\n",
      "   RT @mikekeen: Loving @DocuSign. After I moved onto Arch Linux on my machines, I really missed Apple's Preview app's signature features. Doc…\n",
      "\n",
      "\n",
      "Jema Gilsenan (Levi) (100004 followers):\n",
      "   I'm on cam now at #AdultWork.com. Come check me out! https://t.co/GlXXb4muPW\n",
      "\n",
      "\n",
      "AdultWork Models (131672 followers):\n",
      "   RT @JadeSamantha_JS: and I have free chat on.... https://t.co/YUBmaNC9Fy\n",
      "\n",
      "\n",
      "Eddy yquemas (154665 followers):\n",
      "   #vk NVIDIA Shows Off Their Latest Linux-Powered AI Car Demonstration: For those curious how NVIDIA's DRIVE PX... https://t.co/axJSpXmsT6\n",
      "\n",
      "\n",
      "AdultWork Models (131672 followers):\n",
      "   RT @MadlinMoon: Check out the new movie clip I have just uploaded to #AdultWork.com! https://t.co/EQTYL2BpEt\n",
      "\n",
      "\n",
      "Forbes México (285217 followers):\n",
      "   .@Cisco invertirá 4,000 mdd en México. Esta expansión creará 270 puestos de trabajo directos y 77 indirectos.… https://t.co/TrWk2pnYEg\n",
      "\n",
      "\n",
      "Antena San Luis (114993 followers):\n",
      "   #Cisco invertirá 4,000 millones de dólares en #México / Código Espagueti https://t.co/HAakiGwCdt https://t.co/X6nIq8s9Qj\n",
      "\n",
      "\n",
      "Rackspace (106803 followers):\n",
      "   Keep @Azure cloud security a top priority with @jarretraim's 3:30pm session in booth #521 at #MSIgnite. Learn more:… https://t.co/J9hhtwgbfk\n",
      "\n",
      "\n",
      "Kerri Walsh Jennings (200869 followers):\n",
      "   Thank you for having me @Cisco &amp; crew! I loved your guys' energy &amp; engagement. So fun! @ronaldwong https://t.co/mWSZkzWuEb\n",
      "\n",
      "\n",
      "Swift!On!Security! (142312 followers):\n",
      "   Unsafe at any clock speed: Fixing Linux in the age of forever\n",
      "https://t.co/eKR4JBNSOs\n",
      "\n",
      "\n",
      "Mikko Hypponen (135338 followers):\n",
      "   @taseenb I'm sure you can find an SQL injection from that ticket webshop and get your ticket for -£5.\n",
      "\n",
      "\n",
      "Swift!On!Security! (142312 followers):\n",
      "   The Forever Computer: Linux security in a world without updates https://t.co/eKR4JBNSOs\n",
      "\n",
      "\n",
      "MacGeneration (476687 followers):\n",
      "   Après Cisco, IBM et SAP, Apple obtient le renfort de 5 000 consultants Deloitte qui pousseront iOS en entreprises… https://t.co/uW5aVqNG63\n",
      "\n",
      "\n",
      "Tweet Sugerido (577232 followers):\n",
      "   Después de 25 años, Linux jamás había sido tan importante #tecNovedosos https://t.co/p8QQWX7bpn\n",
      "\n",
      "\n",
      "Rackspace (106806 followers):\n",
      "   See how our Managed Security for Azure can keep your cloud environment safe. Find us at #MSIgnite for more info. https://t.co/CMS7JAa4CV\n",
      "\n",
      "\n",
      "Joe Moreno (129435 followers):\n",
      "   AWS pop-up Coworking and support center. #verycool https://t.co/qkPNmYdh8D\n",
      "\n",
      "\n",
      "❤❤ chrissie-milf ❤❤ (118135 followers):\n",
      "   I am now available for #DirectChat &amp; Phone Chat Bookings via #AdultWork.com.  Come give me a call! https://t.co/yKyQkrhu9b\n",
      "\n",
      "\n",
      "tinyBuild (108187 followers):\n",
      "   @TheMikeRobles yes, or you can play the Open Alpha PC/Mac/Linux build right now\n",
      "\n",
      "\n",
      "NetApp (123458 followers):\n",
      "   RT @NetAppPartners: .@Cisco and George Kurian, @Maria_D_Olson @Henri_P_Richard #NetAppPartners #NetAppInsight https://t.co/uXtnL8EEyz\n",
      "\n",
      "\n",
      "Visual Studio (377632 followers):\n",
      "   Today's Visual Studio Toolbox discusses the awesome PowerShell Tools for #VS2015. TY2 @adamdriscoll Check it out:… https://t.co/g1apQ79WCx\n",
      "\n",
      "\n"
     ]
    }
   ],
   "source": [
    "#df['text'][df['n_followers'] > 100000]\n",
    "for (text, name, followers) in zip(df['text'], df['name'], df['n_followers']):\n",
    "    if followers >= 100000:\n",
    "        print '%s (%d followers):\\n   %s\\n\\n' %(name, followers, text)"
   ]
  },
  {
   "cell_type": "markdown",
   "metadata": {},
   "source": [
    "It is worth noting that for some users (notably *AdultWork Models* and *❤❤ chrissie-milf ❤❤*), the keywords that we originally used to mine tweeter do not appear *at all* in the text of their tweets.  Without digging into it further, my guess would be that a database is involved in generating tweets behind the scenes, and 'SQL' or similar is showing up somewhere else in the original twitter data.  Because our dataframe has boolean values for each of our keywords, we can filter out those rows that have a `False` value for all keywords."
   ]
  },
  {
   "cell_type": "code",
   "execution_count": 122,
   "metadata": {
    "collapsed": false
   },
   "outputs": [],
   "source": [
    "keywords = ['Cisco', 'CCNA', 'AWS', 'Sharepoint', 'linux', 'powershell', 'itil', 'sql', 'azure', 'ceh']\n",
    "remove = []\n",
    "\n",
    "for row in range(5007):\n",
    "    n_false = 0\n",
    "    for kw in keywords:\n",
    "        if df.ix[row, kw] == False:\n",
    "            n_false += 1\n",
    "            if n_false == 10:\n",
    "                remove.append(row)"
   ]
  },
  {
   "cell_type": "code",
   "execution_count": 124,
   "metadata": {
    "collapsed": false
   },
   "outputs": [
    {
     "data": {
      "text/html": [
       "<div>\n",
       "<table border=\"1\" class=\"dataframe\">\n",
       "  <thead>\n",
       "    <tr style=\"text-align: right;\">\n",
       "      <th></th>\n",
       "      <th>Cisco</th>\n",
       "      <th>CCNA</th>\n",
       "      <th>AWS</th>\n",
       "      <th>Sharepoint</th>\n",
       "      <th>linux</th>\n",
       "      <th>powershell</th>\n",
       "      <th>itil</th>\n",
       "      <th>sql</th>\n",
       "      <th>azure</th>\n",
       "      <th>ceh</th>\n",
       "    </tr>\n",
       "  </thead>\n",
       "  <tbody>\n",
       "    <tr>\n",
       "      <th>0</th>\n",
       "      <td>False</td>\n",
       "      <td>False</td>\n",
       "      <td>False</td>\n",
       "      <td>False</td>\n",
       "      <td>False</td>\n",
       "      <td>False</td>\n",
       "      <td>False</td>\n",
       "      <td>False</td>\n",
       "      <td>False</td>\n",
       "      <td>False</td>\n",
       "    </tr>\n",
       "    <tr>\n",
       "      <th>9</th>\n",
       "      <td>False</td>\n",
       "      <td>False</td>\n",
       "      <td>False</td>\n",
       "      <td>False</td>\n",
       "      <td>False</td>\n",
       "      <td>False</td>\n",
       "      <td>False</td>\n",
       "      <td>False</td>\n",
       "      <td>False</td>\n",
       "      <td>False</td>\n",
       "    </tr>\n",
       "    <tr>\n",
       "      <th>15</th>\n",
       "      <td>False</td>\n",
       "      <td>False</td>\n",
       "      <td>False</td>\n",
       "      <td>False</td>\n",
       "      <td>False</td>\n",
       "      <td>False</td>\n",
       "      <td>False</td>\n",
       "      <td>False</td>\n",
       "      <td>False</td>\n",
       "      <td>False</td>\n",
       "    </tr>\n",
       "    <tr>\n",
       "      <th>16</th>\n",
       "      <td>False</td>\n",
       "      <td>False</td>\n",
       "      <td>False</td>\n",
       "      <td>False</td>\n",
       "      <td>False</td>\n",
       "      <td>False</td>\n",
       "      <td>False</td>\n",
       "      <td>False</td>\n",
       "      <td>False</td>\n",
       "      <td>False</td>\n",
       "    </tr>\n",
       "    <tr>\n",
       "      <th>21</th>\n",
       "      <td>False</td>\n",
       "      <td>False</td>\n",
       "      <td>False</td>\n",
       "      <td>False</td>\n",
       "      <td>False</td>\n",
       "      <td>False</td>\n",
       "      <td>False</td>\n",
       "      <td>False</td>\n",
       "      <td>False</td>\n",
       "      <td>False</td>\n",
       "    </tr>\n",
       "    <tr>\n",
       "      <th>25</th>\n",
       "      <td>False</td>\n",
       "      <td>False</td>\n",
       "      <td>False</td>\n",
       "      <td>False</td>\n",
       "      <td>False</td>\n",
       "      <td>False</td>\n",
       "      <td>False</td>\n",
       "      <td>False</td>\n",
       "      <td>False</td>\n",
       "      <td>False</td>\n",
       "    </tr>\n",
       "    <tr>\n",
       "      <th>29</th>\n",
       "      <td>False</td>\n",
       "      <td>False</td>\n",
       "      <td>False</td>\n",
       "      <td>False</td>\n",
       "      <td>False</td>\n",
       "      <td>False</td>\n",
       "      <td>False</td>\n",
       "      <td>False</td>\n",
       "      <td>False</td>\n",
       "      <td>False</td>\n",
       "    </tr>\n",
       "    <tr>\n",
       "      <th>41</th>\n",
       "      <td>False</td>\n",
       "      <td>False</td>\n",
       "      <td>False</td>\n",
       "      <td>False</td>\n",
       "      <td>False</td>\n",
       "      <td>False</td>\n",
       "      <td>False</td>\n",
       "      <td>False</td>\n",
       "      <td>False</td>\n",
       "      <td>False</td>\n",
       "    </tr>\n",
       "    <tr>\n",
       "      <th>43</th>\n",
       "      <td>False</td>\n",
       "      <td>False</td>\n",
       "      <td>False</td>\n",
       "      <td>False</td>\n",
       "      <td>False</td>\n",
       "      <td>False</td>\n",
       "      <td>False</td>\n",
       "      <td>False</td>\n",
       "      <td>False</td>\n",
       "      <td>False</td>\n",
       "    </tr>\n",
       "    <tr>\n",
       "      <th>59</th>\n",
       "      <td>False</td>\n",
       "      <td>False</td>\n",
       "      <td>False</td>\n",
       "      <td>False</td>\n",
       "      <td>False</td>\n",
       "      <td>False</td>\n",
       "      <td>False</td>\n",
       "      <td>False</td>\n",
       "      <td>False</td>\n",
       "      <td>False</td>\n",
       "    </tr>\n",
       "    <tr>\n",
       "      <th>60</th>\n",
       "      <td>False</td>\n",
       "      <td>False</td>\n",
       "      <td>False</td>\n",
       "      <td>False</td>\n",
       "      <td>False</td>\n",
       "      <td>False</td>\n",
       "      <td>False</td>\n",
       "      <td>False</td>\n",
       "      <td>False</td>\n",
       "      <td>False</td>\n",
       "    </tr>\n",
       "    <tr>\n",
       "      <th>61</th>\n",
       "      <td>False</td>\n",
       "      <td>False</td>\n",
       "      <td>False</td>\n",
       "      <td>False</td>\n",
       "      <td>False</td>\n",
       "      <td>False</td>\n",
       "      <td>False</td>\n",
       "      <td>False</td>\n",
       "      <td>False</td>\n",
       "      <td>False</td>\n",
       "    </tr>\n",
       "    <tr>\n",
       "      <th>102</th>\n",
       "      <td>False</td>\n",
       "      <td>False</td>\n",
       "      <td>False</td>\n",
       "      <td>False</td>\n",
       "      <td>False</td>\n",
       "      <td>False</td>\n",
       "      <td>False</td>\n",
       "      <td>False</td>\n",
       "      <td>False</td>\n",
       "      <td>False</td>\n",
       "    </tr>\n",
       "    <tr>\n",
       "      <th>104</th>\n",
       "      <td>False</td>\n",
       "      <td>False</td>\n",
       "      <td>False</td>\n",
       "      <td>False</td>\n",
       "      <td>False</td>\n",
       "      <td>False</td>\n",
       "      <td>False</td>\n",
       "      <td>False</td>\n",
       "      <td>False</td>\n",
       "      <td>False</td>\n",
       "    </tr>\n",
       "    <tr>\n",
       "      <th>106</th>\n",
       "      <td>False</td>\n",
       "      <td>False</td>\n",
       "      <td>False</td>\n",
       "      <td>False</td>\n",
       "      <td>False</td>\n",
       "      <td>False</td>\n",
       "      <td>False</td>\n",
       "      <td>False</td>\n",
       "      <td>False</td>\n",
       "      <td>False</td>\n",
       "    </tr>\n",
       "    <tr>\n",
       "      <th>107</th>\n",
       "      <td>False</td>\n",
       "      <td>False</td>\n",
       "      <td>False</td>\n",
       "      <td>False</td>\n",
       "      <td>False</td>\n",
       "      <td>False</td>\n",
       "      <td>False</td>\n",
       "      <td>False</td>\n",
       "      <td>False</td>\n",
       "      <td>False</td>\n",
       "    </tr>\n",
       "    <tr>\n",
       "      <th>109</th>\n",
       "      <td>False</td>\n",
       "      <td>False</td>\n",
       "      <td>False</td>\n",
       "      <td>False</td>\n",
       "      <td>False</td>\n",
       "      <td>False</td>\n",
       "      <td>False</td>\n",
       "      <td>False</td>\n",
       "      <td>False</td>\n",
       "      <td>False</td>\n",
       "    </tr>\n",
       "    <tr>\n",
       "      <th>112</th>\n",
       "      <td>False</td>\n",
       "      <td>False</td>\n",
       "      <td>False</td>\n",
       "      <td>False</td>\n",
       "      <td>False</td>\n",
       "      <td>False</td>\n",
       "      <td>False</td>\n",
       "      <td>False</td>\n",
       "      <td>False</td>\n",
       "      <td>False</td>\n",
       "    </tr>\n",
       "    <tr>\n",
       "      <th>154</th>\n",
       "      <td>False</td>\n",
       "      <td>False</td>\n",
       "      <td>False</td>\n",
       "      <td>False</td>\n",
       "      <td>False</td>\n",
       "      <td>False</td>\n",
       "      <td>False</td>\n",
       "      <td>False</td>\n",
       "      <td>False</td>\n",
       "      <td>False</td>\n",
       "    </tr>\n",
       "    <tr>\n",
       "      <th>187</th>\n",
       "      <td>False</td>\n",
       "      <td>False</td>\n",
       "      <td>False</td>\n",
       "      <td>False</td>\n",
       "      <td>False</td>\n",
       "      <td>False</td>\n",
       "      <td>False</td>\n",
       "      <td>False</td>\n",
       "      <td>False</td>\n",
       "      <td>False</td>\n",
       "    </tr>\n",
       "    <tr>\n",
       "      <th>190</th>\n",
       "      <td>False</td>\n",
       "      <td>False</td>\n",
       "      <td>False</td>\n",
       "      <td>False</td>\n",
       "      <td>False</td>\n",
       "      <td>False</td>\n",
       "      <td>False</td>\n",
       "      <td>False</td>\n",
       "      <td>False</td>\n",
       "      <td>False</td>\n",
       "    </tr>\n",
       "    <tr>\n",
       "      <th>196</th>\n",
       "      <td>False</td>\n",
       "      <td>False</td>\n",
       "      <td>False</td>\n",
       "      <td>False</td>\n",
       "      <td>False</td>\n",
       "      <td>False</td>\n",
       "      <td>False</td>\n",
       "      <td>False</td>\n",
       "      <td>False</td>\n",
       "      <td>False</td>\n",
       "    </tr>\n",
       "    <tr>\n",
       "      <th>210</th>\n",
       "      <td>False</td>\n",
       "      <td>False</td>\n",
       "      <td>False</td>\n",
       "      <td>False</td>\n",
       "      <td>False</td>\n",
       "      <td>False</td>\n",
       "      <td>False</td>\n",
       "      <td>False</td>\n",
       "      <td>False</td>\n",
       "      <td>False</td>\n",
       "    </tr>\n",
       "    <tr>\n",
       "      <th>211</th>\n",
       "      <td>False</td>\n",
       "      <td>False</td>\n",
       "      <td>False</td>\n",
       "      <td>False</td>\n",
       "      <td>False</td>\n",
       "      <td>False</td>\n",
       "      <td>False</td>\n",
       "      <td>False</td>\n",
       "      <td>False</td>\n",
       "      <td>False</td>\n",
       "    </tr>\n",
       "    <tr>\n",
       "      <th>216</th>\n",
       "      <td>False</td>\n",
       "      <td>False</td>\n",
       "      <td>False</td>\n",
       "      <td>False</td>\n",
       "      <td>False</td>\n",
       "      <td>False</td>\n",
       "      <td>False</td>\n",
       "      <td>False</td>\n",
       "      <td>False</td>\n",
       "      <td>False</td>\n",
       "    </tr>\n",
       "    <tr>\n",
       "      <th>235</th>\n",
       "      <td>False</td>\n",
       "      <td>False</td>\n",
       "      <td>False</td>\n",
       "      <td>False</td>\n",
       "      <td>False</td>\n",
       "      <td>False</td>\n",
       "      <td>False</td>\n",
       "      <td>False</td>\n",
       "      <td>False</td>\n",
       "      <td>False</td>\n",
       "    </tr>\n",
       "    <tr>\n",
       "      <th>243</th>\n",
       "      <td>False</td>\n",
       "      <td>False</td>\n",
       "      <td>False</td>\n",
       "      <td>False</td>\n",
       "      <td>False</td>\n",
       "      <td>False</td>\n",
       "      <td>False</td>\n",
       "      <td>False</td>\n",
       "      <td>False</td>\n",
       "      <td>False</td>\n",
       "    </tr>\n",
       "    <tr>\n",
       "      <th>247</th>\n",
       "      <td>False</td>\n",
       "      <td>False</td>\n",
       "      <td>False</td>\n",
       "      <td>False</td>\n",
       "      <td>False</td>\n",
       "      <td>False</td>\n",
       "      <td>False</td>\n",
       "      <td>False</td>\n",
       "      <td>False</td>\n",
       "      <td>False</td>\n",
       "    </tr>\n",
       "    <tr>\n",
       "      <th>248</th>\n",
       "      <td>False</td>\n",
       "      <td>False</td>\n",
       "      <td>False</td>\n",
       "      <td>False</td>\n",
       "      <td>False</td>\n",
       "      <td>False</td>\n",
       "      <td>False</td>\n",
       "      <td>False</td>\n",
       "      <td>False</td>\n",
       "      <td>False</td>\n",
       "    </tr>\n",
       "    <tr>\n",
       "      <th>249</th>\n",
       "      <td>False</td>\n",
       "      <td>False</td>\n",
       "      <td>False</td>\n",
       "      <td>False</td>\n",
       "      <td>False</td>\n",
       "      <td>False</td>\n",
       "      <td>False</td>\n",
       "      <td>False</td>\n",
       "      <td>False</td>\n",
       "      <td>False</td>\n",
       "    </tr>\n",
       "    <tr>\n",
       "      <th>...</th>\n",
       "      <td>...</td>\n",
       "      <td>...</td>\n",
       "      <td>...</td>\n",
       "      <td>...</td>\n",
       "      <td>...</td>\n",
       "      <td>...</td>\n",
       "      <td>...</td>\n",
       "      <td>...</td>\n",
       "      <td>...</td>\n",
       "      <td>...</td>\n",
       "    </tr>\n",
       "    <tr>\n",
       "      <th>4763</th>\n",
       "      <td>False</td>\n",
       "      <td>False</td>\n",
       "      <td>False</td>\n",
       "      <td>False</td>\n",
       "      <td>False</td>\n",
       "      <td>False</td>\n",
       "      <td>False</td>\n",
       "      <td>False</td>\n",
       "      <td>False</td>\n",
       "      <td>False</td>\n",
       "    </tr>\n",
       "    <tr>\n",
       "      <th>4764</th>\n",
       "      <td>False</td>\n",
       "      <td>False</td>\n",
       "      <td>False</td>\n",
       "      <td>False</td>\n",
       "      <td>False</td>\n",
       "      <td>False</td>\n",
       "      <td>False</td>\n",
       "      <td>False</td>\n",
       "      <td>False</td>\n",
       "      <td>False</td>\n",
       "    </tr>\n",
       "    <tr>\n",
       "      <th>4769</th>\n",
       "      <td>False</td>\n",
       "      <td>False</td>\n",
       "      <td>False</td>\n",
       "      <td>False</td>\n",
       "      <td>False</td>\n",
       "      <td>False</td>\n",
       "      <td>False</td>\n",
       "      <td>False</td>\n",
       "      <td>False</td>\n",
       "      <td>False</td>\n",
       "    </tr>\n",
       "    <tr>\n",
       "      <th>4787</th>\n",
       "      <td>False</td>\n",
       "      <td>False</td>\n",
       "      <td>False</td>\n",
       "      <td>False</td>\n",
       "      <td>False</td>\n",
       "      <td>False</td>\n",
       "      <td>False</td>\n",
       "      <td>False</td>\n",
       "      <td>False</td>\n",
       "      <td>False</td>\n",
       "    </tr>\n",
       "    <tr>\n",
       "      <th>4804</th>\n",
       "      <td>False</td>\n",
       "      <td>False</td>\n",
       "      <td>False</td>\n",
       "      <td>False</td>\n",
       "      <td>False</td>\n",
       "      <td>False</td>\n",
       "      <td>False</td>\n",
       "      <td>False</td>\n",
       "      <td>False</td>\n",
       "      <td>False</td>\n",
       "    </tr>\n",
       "    <tr>\n",
       "      <th>4811</th>\n",
       "      <td>False</td>\n",
       "      <td>False</td>\n",
       "      <td>False</td>\n",
       "      <td>False</td>\n",
       "      <td>False</td>\n",
       "      <td>False</td>\n",
       "      <td>False</td>\n",
       "      <td>False</td>\n",
       "      <td>False</td>\n",
       "      <td>False</td>\n",
       "    </tr>\n",
       "    <tr>\n",
       "      <th>4823</th>\n",
       "      <td>False</td>\n",
       "      <td>False</td>\n",
       "      <td>False</td>\n",
       "      <td>False</td>\n",
       "      <td>False</td>\n",
       "      <td>False</td>\n",
       "      <td>False</td>\n",
       "      <td>False</td>\n",
       "      <td>False</td>\n",
       "      <td>False</td>\n",
       "    </tr>\n",
       "    <tr>\n",
       "      <th>4824</th>\n",
       "      <td>False</td>\n",
       "      <td>False</td>\n",
       "      <td>False</td>\n",
       "      <td>False</td>\n",
       "      <td>False</td>\n",
       "      <td>False</td>\n",
       "      <td>False</td>\n",
       "      <td>False</td>\n",
       "      <td>False</td>\n",
       "      <td>False</td>\n",
       "    </tr>\n",
       "    <tr>\n",
       "      <th>4839</th>\n",
       "      <td>False</td>\n",
       "      <td>False</td>\n",
       "      <td>False</td>\n",
       "      <td>False</td>\n",
       "      <td>False</td>\n",
       "      <td>False</td>\n",
       "      <td>False</td>\n",
       "      <td>False</td>\n",
       "      <td>False</td>\n",
       "      <td>False</td>\n",
       "    </tr>\n",
       "    <tr>\n",
       "      <th>4848</th>\n",
       "      <td>False</td>\n",
       "      <td>False</td>\n",
       "      <td>False</td>\n",
       "      <td>False</td>\n",
       "      <td>False</td>\n",
       "      <td>False</td>\n",
       "      <td>False</td>\n",
       "      <td>False</td>\n",
       "      <td>False</td>\n",
       "      <td>False</td>\n",
       "    </tr>\n",
       "    <tr>\n",
       "      <th>4861</th>\n",
       "      <td>False</td>\n",
       "      <td>False</td>\n",
       "      <td>False</td>\n",
       "      <td>False</td>\n",
       "      <td>False</td>\n",
       "      <td>False</td>\n",
       "      <td>False</td>\n",
       "      <td>False</td>\n",
       "      <td>False</td>\n",
       "      <td>False</td>\n",
       "    </tr>\n",
       "    <tr>\n",
       "      <th>4879</th>\n",
       "      <td>False</td>\n",
       "      <td>False</td>\n",
       "      <td>False</td>\n",
       "      <td>False</td>\n",
       "      <td>False</td>\n",
       "      <td>False</td>\n",
       "      <td>False</td>\n",
       "      <td>False</td>\n",
       "      <td>False</td>\n",
       "      <td>False</td>\n",
       "    </tr>\n",
       "    <tr>\n",
       "      <th>4900</th>\n",
       "      <td>False</td>\n",
       "      <td>False</td>\n",
       "      <td>False</td>\n",
       "      <td>False</td>\n",
       "      <td>False</td>\n",
       "      <td>False</td>\n",
       "      <td>False</td>\n",
       "      <td>False</td>\n",
       "      <td>False</td>\n",
       "      <td>False</td>\n",
       "    </tr>\n",
       "    <tr>\n",
       "      <th>4922</th>\n",
       "      <td>False</td>\n",
       "      <td>False</td>\n",
       "      <td>False</td>\n",
       "      <td>False</td>\n",
       "      <td>False</td>\n",
       "      <td>False</td>\n",
       "      <td>False</td>\n",
       "      <td>False</td>\n",
       "      <td>False</td>\n",
       "      <td>False</td>\n",
       "    </tr>\n",
       "    <tr>\n",
       "      <th>4930</th>\n",
       "      <td>False</td>\n",
       "      <td>False</td>\n",
       "      <td>False</td>\n",
       "      <td>False</td>\n",
       "      <td>False</td>\n",
       "      <td>False</td>\n",
       "      <td>False</td>\n",
       "      <td>False</td>\n",
       "      <td>False</td>\n",
       "      <td>False</td>\n",
       "    </tr>\n",
       "    <tr>\n",
       "      <th>4945</th>\n",
       "      <td>False</td>\n",
       "      <td>False</td>\n",
       "      <td>False</td>\n",
       "      <td>False</td>\n",
       "      <td>False</td>\n",
       "      <td>False</td>\n",
       "      <td>False</td>\n",
       "      <td>False</td>\n",
       "      <td>False</td>\n",
       "      <td>False</td>\n",
       "    </tr>\n",
       "    <tr>\n",
       "      <th>4953</th>\n",
       "      <td>False</td>\n",
       "      <td>False</td>\n",
       "      <td>False</td>\n",
       "      <td>False</td>\n",
       "      <td>False</td>\n",
       "      <td>False</td>\n",
       "      <td>False</td>\n",
       "      <td>False</td>\n",
       "      <td>False</td>\n",
       "      <td>False</td>\n",
       "    </tr>\n",
       "    <tr>\n",
       "      <th>4955</th>\n",
       "      <td>False</td>\n",
       "      <td>False</td>\n",
       "      <td>False</td>\n",
       "      <td>False</td>\n",
       "      <td>False</td>\n",
       "      <td>False</td>\n",
       "      <td>False</td>\n",
       "      <td>False</td>\n",
       "      <td>False</td>\n",
       "      <td>False</td>\n",
       "    </tr>\n",
       "    <tr>\n",
       "      <th>4956</th>\n",
       "      <td>False</td>\n",
       "      <td>False</td>\n",
       "      <td>False</td>\n",
       "      <td>False</td>\n",
       "      <td>False</td>\n",
       "      <td>False</td>\n",
       "      <td>False</td>\n",
       "      <td>False</td>\n",
       "      <td>False</td>\n",
       "      <td>False</td>\n",
       "    </tr>\n",
       "    <tr>\n",
       "      <th>4961</th>\n",
       "      <td>False</td>\n",
       "      <td>False</td>\n",
       "      <td>False</td>\n",
       "      <td>False</td>\n",
       "      <td>False</td>\n",
       "      <td>False</td>\n",
       "      <td>False</td>\n",
       "      <td>False</td>\n",
       "      <td>False</td>\n",
       "      <td>False</td>\n",
       "    </tr>\n",
       "    <tr>\n",
       "      <th>4962</th>\n",
       "      <td>False</td>\n",
       "      <td>False</td>\n",
       "      <td>False</td>\n",
       "      <td>False</td>\n",
       "      <td>False</td>\n",
       "      <td>False</td>\n",
       "      <td>False</td>\n",
       "      <td>False</td>\n",
       "      <td>False</td>\n",
       "      <td>False</td>\n",
       "    </tr>\n",
       "    <tr>\n",
       "      <th>4965</th>\n",
       "      <td>False</td>\n",
       "      <td>False</td>\n",
       "      <td>False</td>\n",
       "      <td>False</td>\n",
       "      <td>False</td>\n",
       "      <td>False</td>\n",
       "      <td>False</td>\n",
       "      <td>False</td>\n",
       "      <td>False</td>\n",
       "      <td>False</td>\n",
       "    </tr>\n",
       "    <tr>\n",
       "      <th>4973</th>\n",
       "      <td>False</td>\n",
       "      <td>False</td>\n",
       "      <td>False</td>\n",
       "      <td>False</td>\n",
       "      <td>False</td>\n",
       "      <td>False</td>\n",
       "      <td>False</td>\n",
       "      <td>False</td>\n",
       "      <td>False</td>\n",
       "      <td>False</td>\n",
       "    </tr>\n",
       "    <tr>\n",
       "      <th>4977</th>\n",
       "      <td>False</td>\n",
       "      <td>False</td>\n",
       "      <td>False</td>\n",
       "      <td>False</td>\n",
       "      <td>False</td>\n",
       "      <td>False</td>\n",
       "      <td>False</td>\n",
       "      <td>False</td>\n",
       "      <td>False</td>\n",
       "      <td>False</td>\n",
       "    </tr>\n",
       "    <tr>\n",
       "      <th>4985</th>\n",
       "      <td>False</td>\n",
       "      <td>False</td>\n",
       "      <td>False</td>\n",
       "      <td>False</td>\n",
       "      <td>False</td>\n",
       "      <td>False</td>\n",
       "      <td>False</td>\n",
       "      <td>False</td>\n",
       "      <td>False</td>\n",
       "      <td>False</td>\n",
       "    </tr>\n",
       "    <tr>\n",
       "      <th>4986</th>\n",
       "      <td>False</td>\n",
       "      <td>False</td>\n",
       "      <td>False</td>\n",
       "      <td>False</td>\n",
       "      <td>False</td>\n",
       "      <td>False</td>\n",
       "      <td>False</td>\n",
       "      <td>False</td>\n",
       "      <td>False</td>\n",
       "      <td>False</td>\n",
       "    </tr>\n",
       "    <tr>\n",
       "      <th>4988</th>\n",
       "      <td>False</td>\n",
       "      <td>False</td>\n",
       "      <td>False</td>\n",
       "      <td>False</td>\n",
       "      <td>False</td>\n",
       "      <td>False</td>\n",
       "      <td>False</td>\n",
       "      <td>False</td>\n",
       "      <td>False</td>\n",
       "      <td>False</td>\n",
       "    </tr>\n",
       "    <tr>\n",
       "      <th>4989</th>\n",
       "      <td>False</td>\n",
       "      <td>False</td>\n",
       "      <td>False</td>\n",
       "      <td>False</td>\n",
       "      <td>False</td>\n",
       "      <td>False</td>\n",
       "      <td>False</td>\n",
       "      <td>False</td>\n",
       "      <td>False</td>\n",
       "      <td>False</td>\n",
       "    </tr>\n",
       "    <tr>\n",
       "      <th>4995</th>\n",
       "      <td>False</td>\n",
       "      <td>False</td>\n",
       "      <td>False</td>\n",
       "      <td>False</td>\n",
       "      <td>False</td>\n",
       "      <td>False</td>\n",
       "      <td>False</td>\n",
       "      <td>False</td>\n",
       "      <td>False</td>\n",
       "      <td>False</td>\n",
       "    </tr>\n",
       "    <tr>\n",
       "      <th>5006</th>\n",
       "      <td>False</td>\n",
       "      <td>False</td>\n",
       "      <td>False</td>\n",
       "      <td>False</td>\n",
       "      <td>False</td>\n",
       "      <td>False</td>\n",
       "      <td>False</td>\n",
       "      <td>False</td>\n",
       "      <td>False</td>\n",
       "      <td>False</td>\n",
       "    </tr>\n",
       "  </tbody>\n",
       "</table>\n",
       "<p>673 rows × 10 columns</p>\n",
       "</div>"
      ],
      "text/plain": [
       "      Cisco   CCNA    AWS Sharepoint  linux powershell   itil    sql  azure  \\\n",
       "0     False  False  False      False  False      False  False  False  False   \n",
       "9     False  False  False      False  False      False  False  False  False   \n",
       "15    False  False  False      False  False      False  False  False  False   \n",
       "16    False  False  False      False  False      False  False  False  False   \n",
       "21    False  False  False      False  False      False  False  False  False   \n",
       "25    False  False  False      False  False      False  False  False  False   \n",
       "29    False  False  False      False  False      False  False  False  False   \n",
       "41    False  False  False      False  False      False  False  False  False   \n",
       "43    False  False  False      False  False      False  False  False  False   \n",
       "59    False  False  False      False  False      False  False  False  False   \n",
       "60    False  False  False      False  False      False  False  False  False   \n",
       "61    False  False  False      False  False      False  False  False  False   \n",
       "102   False  False  False      False  False      False  False  False  False   \n",
       "104   False  False  False      False  False      False  False  False  False   \n",
       "106   False  False  False      False  False      False  False  False  False   \n",
       "107   False  False  False      False  False      False  False  False  False   \n",
       "109   False  False  False      False  False      False  False  False  False   \n",
       "112   False  False  False      False  False      False  False  False  False   \n",
       "154   False  False  False      False  False      False  False  False  False   \n",
       "187   False  False  False      False  False      False  False  False  False   \n",
       "190   False  False  False      False  False      False  False  False  False   \n",
       "196   False  False  False      False  False      False  False  False  False   \n",
       "210   False  False  False      False  False      False  False  False  False   \n",
       "211   False  False  False      False  False      False  False  False  False   \n",
       "216   False  False  False      False  False      False  False  False  False   \n",
       "235   False  False  False      False  False      False  False  False  False   \n",
       "243   False  False  False      False  False      False  False  False  False   \n",
       "247   False  False  False      False  False      False  False  False  False   \n",
       "248   False  False  False      False  False      False  False  False  False   \n",
       "249   False  False  False      False  False      False  False  False  False   \n",
       "...     ...    ...    ...        ...    ...        ...    ...    ...    ...   \n",
       "4763  False  False  False      False  False      False  False  False  False   \n",
       "4764  False  False  False      False  False      False  False  False  False   \n",
       "4769  False  False  False      False  False      False  False  False  False   \n",
       "4787  False  False  False      False  False      False  False  False  False   \n",
       "4804  False  False  False      False  False      False  False  False  False   \n",
       "4811  False  False  False      False  False      False  False  False  False   \n",
       "4823  False  False  False      False  False      False  False  False  False   \n",
       "4824  False  False  False      False  False      False  False  False  False   \n",
       "4839  False  False  False      False  False      False  False  False  False   \n",
       "4848  False  False  False      False  False      False  False  False  False   \n",
       "4861  False  False  False      False  False      False  False  False  False   \n",
       "4879  False  False  False      False  False      False  False  False  False   \n",
       "4900  False  False  False      False  False      False  False  False  False   \n",
       "4922  False  False  False      False  False      False  False  False  False   \n",
       "4930  False  False  False      False  False      False  False  False  False   \n",
       "4945  False  False  False      False  False      False  False  False  False   \n",
       "4953  False  False  False      False  False      False  False  False  False   \n",
       "4955  False  False  False      False  False      False  False  False  False   \n",
       "4956  False  False  False      False  False      False  False  False  False   \n",
       "4961  False  False  False      False  False      False  False  False  False   \n",
       "4962  False  False  False      False  False      False  False  False  False   \n",
       "4965  False  False  False      False  False      False  False  False  False   \n",
       "4973  False  False  False      False  False      False  False  False  False   \n",
       "4977  False  False  False      False  False      False  False  False  False   \n",
       "4985  False  False  False      False  False      False  False  False  False   \n",
       "4986  False  False  False      False  False      False  False  False  False   \n",
       "4988  False  False  False      False  False      False  False  False  False   \n",
       "4989  False  False  False      False  False      False  False  False  False   \n",
       "4995  False  False  False      False  False      False  False  False  False   \n",
       "5006  False  False  False      False  False      False  False  False  False   \n",
       "\n",
       "        ceh  \n",
       "0     False  \n",
       "9     False  \n",
       "15    False  \n",
       "16    False  \n",
       "21    False  \n",
       "25    False  \n",
       "29    False  \n",
       "41    False  \n",
       "43    False  \n",
       "59    False  \n",
       "60    False  \n",
       "61    False  \n",
       "102   False  \n",
       "104   False  \n",
       "106   False  \n",
       "107   False  \n",
       "109   False  \n",
       "112   False  \n",
       "154   False  \n",
       "187   False  \n",
       "190   False  \n",
       "196   False  \n",
       "210   False  \n",
       "211   False  \n",
       "216   False  \n",
       "235   False  \n",
       "243   False  \n",
       "247   False  \n",
       "248   False  \n",
       "249   False  \n",
       "...     ...  \n",
       "4763  False  \n",
       "4764  False  \n",
       "4769  False  \n",
       "4787  False  \n",
       "4804  False  \n",
       "4811  False  \n",
       "4823  False  \n",
       "4824  False  \n",
       "4839  False  \n",
       "4848  False  \n",
       "4861  False  \n",
       "4879  False  \n",
       "4900  False  \n",
       "4922  False  \n",
       "4930  False  \n",
       "4945  False  \n",
       "4953  False  \n",
       "4955  False  \n",
       "4956  False  \n",
       "4961  False  \n",
       "4962  False  \n",
       "4965  False  \n",
       "4973  False  \n",
       "4977  False  \n",
       "4985  False  \n",
       "4986  False  \n",
       "4988  False  \n",
       "4989  False  \n",
       "4995  False  \n",
       "5006  False  \n",
       "\n",
       "[673 rows x 10 columns]"
      ]
     },
     "execution_count": 124,
     "metadata": {},
     "output_type": "execute_result"
    }
   ],
   "source": [
    "# Examine to make sure code ran as expected\n",
    "df.ix[remove, keywords]"
   ]
  },
  {
   "cell_type": "code",
   "execution_count": 126,
   "metadata": {
    "collapsed": false
   },
   "outputs": [],
   "source": [
    "# Looks good-- we lose 673 rows of data\n",
    "df = df.drop(df.index[remove])"
   ]
  },
  {
   "cell_type": "code",
   "execution_count": 127,
   "metadata": {
    "collapsed": false
   },
   "outputs": [
    {
     "data": {
      "text/plain": [
       "(4334, 20)"
      ]
     },
     "execution_count": 127,
     "metadata": {},
     "output_type": "execute_result"
    }
   ],
   "source": [
    "df.shape"
   ]
  },
  {
   "cell_type": "code",
   "execution_count": 164,
   "metadata": {
    "collapsed": false
   },
   "outputs": [],
   "source": [
    "# What are the counts of each of our keywords?\n",
    "kw_counts = []\n",
    "for kw in keywords:\n",
    "    kw_counts.append(sum(1 * (df[kw] == True)))"
   ]
  },
  {
   "cell_type": "code",
   "execution_count": 161,
   "metadata": {
    "collapsed": false
   },
   "outputs": [
    {
     "data": {
      "image/png": "[encoded data removed]",
      "text/plain": [
       "<matplotlib.figure.Figure at 0x12cfd8b90>"
      ]
     },
     "metadata": {},
     "output_type": "display_data"
    }
   ],
   "source": [
    "y_pos = np.arange(len(kw_counts))\n",
    "plt.bar(y_pos, kw_counts, align = 'center');\n",
    "lc, ticks = plt.xticks(y_pos, keywords, rotation = 'vertical');"
   ]
  },
  {
   "cell_type": "code",
   "execution_count": 169,
   "metadata": {
    "collapsed": false
   },
   "outputs": [
    {
     "data": {
      "image/png": "[encoded data removed]",
      "text/plain": [
       "<matplotlib.figure.Figure at 0x1310e30d0>"
      ]
     },
     "metadata": {},
     "output_type": "display_data"
    }
   ],
   "source": [
    "# Or to beautify the graph:\n",
    "ordered_inds = np.argsort(kw_counts)\n",
    "keywords = np.array(keywords)\n",
    "kw_counts = np.array(kw_counts)\n",
    "\n",
    "y_pos = np.arange(len(kw_counts))\n",
    "plt.bar(y_pos, kw_counts[ordered_inds[::-1]], align = 'center');\n",
    "lc, ticks = plt.xticks(y_pos, keywords[ordered_inds[::-1]], rotation = 'vertical');\n",
    "plt.xlim([-0.5, 9.5]);"
   ]
  },
  {
   "cell_type": "markdown",
   "metadata": {},
   "source": [
    "Do users who talk about different keywords have different numbers of followers? There are >1300 linux tweets *vs* only about 800 Azure and Cisco tweets, but how many followers are *seeing*, and potentially *being influenced by* each of these tweets?  \n",
    "\n",
    "A quick way to do this is to just create new columns that multiply n_followers by the boolean (= 1 or 0) for each of the keywords:"
   ]
  },
  {
   "cell_type": "code",
   "execution_count": 199,
   "metadata": {
    "collapsed": false
   },
   "outputs": [],
   "source": [
    "for kw in keywords:\n",
    "    df[kw + '_views'] = pd.to_numeric(df['n_followers'] * df[kw])"
   ]
  },
  {
   "cell_type": "code",
   "execution_count": 174,
   "metadata": {
    "collapsed": false
   },
   "outputs": [
    {
     "data": {
      "text/html": [
       "<div>\n",
       "<table border=\"1\" class=\"dataframe\">\n",
       "  <thead>\n",
       "    <tr style=\"text-align: right;\">\n",
       "      <th></th>\n",
       "      <th>text</th>\n",
       "      <th>user_lang</th>\n",
       "      <th>location</th>\n",
       "      <th>hashtags</th>\n",
       "      <th>retweet</th>\n",
       "      <th>n_retweet</th>\n",
       "      <th>n_followers</th>\n",
       "      <th>n_friends</th>\n",
       "      <th>name</th>\n",
       "      <th>coords</th>\n",
       "      <th>...</th>\n",
       "      <th>Cisco_views</th>\n",
       "      <th>CCNA_views</th>\n",
       "      <th>AWS_views</th>\n",
       "      <th>Sharepoint_views</th>\n",
       "      <th>linux_views</th>\n",
       "      <th>powershell_views</th>\n",
       "      <th>itil_views</th>\n",
       "      <th>sql_views</th>\n",
       "      <th>azure_views</th>\n",
       "      <th>ceh_views</th>\n",
       "    </tr>\n",
       "  </thead>\n",
       "  <tbody>\n",
       "    <tr>\n",
       "      <th>1</th>\n",
       "      <td>yNewsbot: Bugtraq: #Cisco #Security #Advisory:...</td>\n",
       "      <td>en</td>\n",
       "      <td>tryingto #^fi~{|__#}%%*</td>\n",
       "      <td>[{u'indices': [19, 25], u'text': u'Cisco'}, {u...</td>\n",
       "      <td>False</td>\n",
       "      <td>0</td>\n",
       "      <td>2636</td>\n",
       "      <td>1084</td>\n",
       "      <td>❌Siraj Solution❌</td>\n",
       "      <td>None</td>\n",
       "      <td>...</td>\n",
       "      <td>2636</td>\n",
       "      <td>0</td>\n",
       "      <td>0</td>\n",
       "      <td>0</td>\n",
       "      <td>0</td>\n",
       "      <td>0</td>\n",
       "      <td>0</td>\n",
       "      <td>0</td>\n",
       "      <td>0</td>\n",
       "      <td>0</td>\n",
       "    </tr>\n",
       "    <tr>\n",
       "      <th>2</th>\n",
       "      <td>RT @mims: Amazon is going to compete directly ...</td>\n",
       "      <td>en</td>\n",
       "      <td>None</td>\n",
       "      <td>[]</td>\n",
       "      <td>False</td>\n",
       "      <td>0</td>\n",
       "      <td>2624</td>\n",
       "      <td>4916</td>\n",
       "      <td>Leroy Wesley Annon</td>\n",
       "      <td>None</td>\n",
       "      <td>...</td>\n",
       "      <td>0</td>\n",
       "      <td>0</td>\n",
       "      <td>2624</td>\n",
       "      <td>0</td>\n",
       "      <td>0</td>\n",
       "      <td>0</td>\n",
       "      <td>0</td>\n",
       "      <td>0</td>\n",
       "      <td>0</td>\n",
       "      <td>0</td>\n",
       "    </tr>\n",
       "    <tr>\n",
       "      <th>3</th>\n",
       "      <td>#Cisco Battles Shadow Broker Exploits. Read mo...</td>\n",
       "      <td>en</td>\n",
       "      <td>San Mateo, CA</td>\n",
       "      <td>[{u'indices': [0, 6], u'text': u'Cisco'}]</td>\n",
       "      <td>False</td>\n",
       "      <td>0</td>\n",
       "      <td>86</td>\n",
       "      <td>2</td>\n",
       "      <td>Networking News</td>\n",
       "      <td>None</td>\n",
       "      <td>...</td>\n",
       "      <td>86</td>\n",
       "      <td>0</td>\n",
       "      <td>0</td>\n",
       "      <td>0</td>\n",
       "      <td>0</td>\n",
       "      <td>0</td>\n",
       "      <td>0</td>\n",
       "      <td>0</td>\n",
       "      <td>0</td>\n",
       "      <td>0</td>\n",
       "    </tr>\n",
       "    <tr>\n",
       "      <th>4</th>\n",
       "      <td>#Cisco Battles Shadow Broker Exploits. Read mo...</td>\n",
       "      <td>en</td>\n",
       "      <td>San Mateo, CA</td>\n",
       "      <td>[{u'indices': [0, 6], u'text': u'Cisco'}]</td>\n",
       "      <td>False</td>\n",
       "      <td>0</td>\n",
       "      <td>20</td>\n",
       "      <td>2</td>\n",
       "      <td>Communication News</td>\n",
       "      <td>None</td>\n",
       "      <td>...</td>\n",
       "      <td>20</td>\n",
       "      <td>0</td>\n",
       "      <td>0</td>\n",
       "      <td>0</td>\n",
       "      <td>0</td>\n",
       "      <td>0</td>\n",
       "      <td>0</td>\n",
       "      <td>0</td>\n",
       "      <td>0</td>\n",
       "      <td>0</td>\n",
       "    </tr>\n",
       "    <tr>\n",
       "      <th>5</th>\n",
       "      <td>yNewsbot: Bugtraq: #Cisco #Security #Advisory:...</td>\n",
       "      <td>en</td>\n",
       "      <td>tryingto #^fi~{|__#}%%*</td>\n",
       "      <td>[{u'indices': [19, 25], u'text': u'Cisco'}, {u...</td>\n",
       "      <td>False</td>\n",
       "      <td>0</td>\n",
       "      <td>2636</td>\n",
       "      <td>1084</td>\n",
       "      <td>❌Siraj Solution❌</td>\n",
       "      <td>None</td>\n",
       "      <td>...</td>\n",
       "      <td>2636</td>\n",
       "      <td>0</td>\n",
       "      <td>0</td>\n",
       "      <td>0</td>\n",
       "      <td>0</td>\n",
       "      <td>0</td>\n",
       "      <td>0</td>\n",
       "      <td>0</td>\n",
       "      <td>0</td>\n",
       "      <td>0</td>\n",
       "    </tr>\n",
       "  </tbody>\n",
       "</table>\n",
       "<p>5 rows × 30 columns</p>\n",
       "</div>"
      ],
      "text/plain": [
       "                                                text user_lang  \\\n",
       "1  yNewsbot: Bugtraq: #Cisco #Security #Advisory:...        en   \n",
       "2  RT @mims: Amazon is going to compete directly ...        en   \n",
       "3  #Cisco Battles Shadow Broker Exploits. Read mo...        en   \n",
       "4  #Cisco Battles Shadow Broker Exploits. Read mo...        en   \n",
       "5  yNewsbot: Bugtraq: #Cisco #Security #Advisory:...        en   \n",
       "\n",
       "                  location                                           hashtags  \\\n",
       "1  tryingto #^fi~{|__#}%%*  [{u'indices': [19, 25], u'text': u'Cisco'}, {u...   \n",
       "2                     None                                                 []   \n",
       "3            San Mateo, CA          [{u'indices': [0, 6], u'text': u'Cisco'}]   \n",
       "4            San Mateo, CA          [{u'indices': [0, 6], u'text': u'Cisco'}]   \n",
       "5  tryingto #^fi~{|__#}%%*  [{u'indices': [19, 25], u'text': u'Cisco'}, {u...   \n",
       "\n",
       "  retweet  n_retweet  n_followers  n_friends                name coords  \\\n",
       "1   False          0         2636       1084    ❌Siraj Solution❌   None   \n",
       "2   False          0         2624       4916  Leroy Wesley Annon   None   \n",
       "3   False          0           86          2     Networking News   None   \n",
       "4   False          0           20          2  Communication News   None   \n",
       "5   False          0         2636       1084    ❌Siraj Solution❌   None   \n",
       "\n",
       "     ...    Cisco_views CCNA_views AWS_views Sharepoint_views linux_views  \\\n",
       "1    ...           2636          0         0                0           0   \n",
       "2    ...              0          0      2624                0           0   \n",
       "3    ...             86          0         0                0           0   \n",
       "4    ...             20          0         0                0           0   \n",
       "5    ...           2636          0         0                0           0   \n",
       "\n",
       "  powershell_views itil_views sql_views azure_views ceh_views  \n",
       "1                0          0         0           0         0  \n",
       "2                0          0         0           0         0  \n",
       "3                0          0         0           0         0  \n",
       "4                0          0         0           0         0  \n",
       "5                0          0         0           0         0  \n",
       "\n",
       "[5 rows x 30 columns]"
      ]
     },
     "execution_count": 174,
     "metadata": {},
     "output_type": "execute_result"
    }
   ],
   "source": [
    "df.head()"
   ]
  },
  {
   "cell_type": "markdown",
   "metadata": {},
   "source": [
    "Then proceed as before."
   ]
  },
  {
   "cell_type": "code",
   "execution_count": 200,
   "metadata": {
    "collapsed": false
   },
   "outputs": [],
   "source": [
    "kw_views = [kw + '_views' for kw in keywords]\n",
    "\n",
    "kw_view_counts = []\n",
    "for kwv in kw_views:\n",
    "    kw_view_counts.append(df[kwv].sum())"
   ]
  },
  {
   "cell_type": "code",
   "execution_count": 202,
   "metadata": {
    "collapsed": false
   },
   "outputs": [
    {
     "data": {
      "image/png": "[encoded data removed]",
      "text/plain": [
       "<matplotlib.figure.Figure at 0x11c4a9f50>"
      ]
     },
     "metadata": {},
     "output_type": "display_data"
    }
   ],
   "source": [
    "ordered_inds = np.argsort(kw_view_counts)\n",
    "kw_views = np.array(kw_views)\n",
    "kw_view_counts = np.array(kw_view_counts)\n",
    "\n",
    "y_pos = np.arange(len(kw_view_counts))\n",
    "plt.bar(y_pos, kw_view_counts[ordered_inds[::-1]], align = 'center');\n",
    "lc, ticks = plt.xticks(y_pos, kw_views[ordered_inds[::-1]], rotation = 'vertical');\n",
    "plt.xlim([-0.5, 9.5]);"
   ]
  },
  {
   "cell_type": "markdown",
   "metadata": {},
   "source": [
    "The ordering has changed somewhat.  For example, although there were more SQL tweets than AWS tweets, the number of people who might have seen those tweets was roughly the same, with AWS coming out slightly ahead.  Likewise, although there were many fewer Powershell tweets than Sharepoint ones, the Powershell tweets reached a larger audience.  Furthermore, in terms of views, Linux remains in the lead but the gap between it and Azure and Cisco has closed.  Similarly, whereas Azure and Cisco werea bout even for number of tweets, Azure tweets had more (potential) viewers."
   ]
  },
  {
   "cell_type": "markdown",
   "metadata": {},
   "source": [
    "# Some Basic NLP\n",
    "We know that the tweets in our data set are to some extent about our keywords, as those are what we mined for in the first place.  But, beyond that, what are these tweets talking about?  We could simply count the frequencies of different words to see which words are the most frequent, but as is well known in NLP, the top of this list will be crowded with uniformative words like *the, of, I, this, is, etc...*.  "
   ]
  },
  {
   "cell_type": "code",
   "execution_count": 211,
   "metadata": {
    "collapsed": false
   },
   "outputs": [],
   "source": [
    "word_counts = {}\n",
    "\n",
    "for tweet in df['text']:\n",
    "    if tweet == None:\n",
    "        continue\n",
    "    else:\n",
    "        for word in tweet.lower().split():\n",
    "            if word in word_counts:\n",
    "                word_counts[word] += 1\n",
    "            else:\n",
    "                word_counts[word] = 1"
   ]
  },
  {
   "cell_type": "code",
   "execution_count": 215,
   "metadata": {
    "collapsed": false
   },
   "outputs": [
    {
     "name": "stdout",
     "output_type": "stream",
     "text": [
      "             rt: 1512\n",
      "            the: 980\n",
      "             to: 842\n",
      "          linux: 813\n",
      "              -: 769\n",
      "            for: 703\n",
      "            and: 693\n",
      "             in: 601\n",
      "              a: 564\n",
      "             of: 550\n",
      "          cisco: 524\n",
      "         #linux: 463\n",
      "          azure: 445\n",
      "             is: 392\n",
      "             on: 382\n",
      "           with: 381\n",
      "      microsoft: 333\n",
      "             at: 312\n",
      "            sql: 299\n",
      "      #msignite: 296\n",
      "              i: 218\n",
      "         #azure: 215\n",
      "    #sharepoint: 214\n",
      "          &amp;: 210\n",
      "             de: 203\n",
      "            you: 189\n",
      "       software: 186\n",
      "            now: 185\n",
      "            ios: 185\n",
      "            new: 179\n",
      "          cloud: 163\n",
      "             an: 161\n",
      "           this: 157\n",
      "           your: 155\n",
      "           #aws: 155\n",
      "            how: 149\n",
      "           from: 148\n",
      "             it: 146\n",
      "         server: 146\n",
      "             by: 141\n",
      "             as: 136\n",
      "        service: 135\n",
      "              :: 135\n",
      "            via: 130\n",
      "       services: 130\n",
      "           will: 129\n",
      "            aws: 128\n",
      "     sharepoint: 120\n",
      "              y: 117\n",
      "             no: 114\n",
      "           mint: 107\n",
      "           more: 106\n",
      "       security: 106\n",
      "             en: 106\n",
      "            our: 106\n",
      "      available: 105\n",
      "            out: 104\n",
      "            que: 102\n"
     ]
    }
   ],
   "source": [
    "#word_counts\n",
    "threshold = 100\n",
    "\n",
    "for w in sorted(word_counts, key = word_counts.get, reverse = True):\n",
    "    if word_counts[w] > threshold:\n",
    "        print \"%15s: %d\" %(w, word_counts[w])"
   ]
  },
  {
   "cell_type": "markdown",
   "metadata": {},
   "source": [
    "From the list of the most frequent words above, content words other than our keywords include:\n",
    "* #msignite\n",
    "* software\n",
    "* cloud \n",
    "* server\n",
    "* service(s)\n",
    "* security and \n",
    "* available"
   ]
  },
  {
   "cell_type": "markdown",
   "metadata": {},
   "source": [
    "For the remainder of this notebook, I am repeating some of the work I recently did for an online machine learning class that has to do with Latent Dirichlet Allocation (LDA) for document classification.  The work can be found here with more detailed explanations: https://github.com/damiansp/ML_Course/blob/master/clustering_retrieval/5_lda_blank.ipynb"
   ]
  },
  {
   "cell_type": "code",
   "execution_count": 264,
   "metadata": {
    "collapsed": false
   },
   "outputs": [],
   "source": [
    "import graphlab as gl"
   ]
  },
  {
   "cell_type": "code",
   "execution_count": 283,
   "metadata": {
    "collapsed": false
   },
   "outputs": [],
   "source": [
    "df2 = gl.SFrame(df)\n",
    "df2 = df2.dropna(columns = 'text')"
   ]
  },
  {
   "cell_type": "code",
   "execution_count": 284,
   "metadata": {
    "collapsed": false
   },
   "outputs": [],
   "source": [
    "twitter_docs = gl.text_analytics.count_words(df2['text'])"
   ]
  },
  {
   "cell_type": "code",
   "execution_count": 285,
   "metadata": {
    "collapsed": false
   },
   "outputs": [
    {
     "name": "stdout",
     "output_type": "stream",
     "text": [
      "First tweet:\n",
      "yNewsbot: Bugtraq: #Cisco #Security #Advisory: Cisco IOS XE Software NAT Denial of Service Vulnerability https://t.co/UUd7Iqs5hL/s/B7wy #... \n",
      "\n",
      "\n",
      "{'https://t.co/uud7iqs5hl/s/b7wy': 1, 'denial': 1, 'cisco': 1, 'ynewsbot:': 1, 'service': 1, 'bugtraq:': 1, '#advisory:': 1, 'vulnerability': 1, 'ios': 1, 'xe': 1, '#security': 1, 'nat': 1, '#...': 1, '#cisco': 1, 'software': 1}\n"
     ]
    }
   ],
   "source": [
    "twitter_docs = twitter_docs.dict_trim_by_keys(gl.text_analytics.stopwords(), exclude = True)\n",
    "print 'First tweet:\\n', df2['text'][0], '\\n\\n'\n",
    "print twitter_docs[0]"
   ]
  },
  {
   "cell_type": "markdown",
   "metadata": {},
   "source": [
    "Similarly to what was done above, this code converts each tweet to a dictionary of word counts, but removes common words (\"stopwords\")"
   ]
  },
  {
   "cell_type": "code",
   "execution_count": 286,
   "metadata": {
    "collapsed": false
   },
   "outputs": [
    {
     "data": {
      "text/html": [
       "<pre>Learning a topic model</pre>"
      ],
      "text/plain": [
       "Learning a topic model"
      ]
     },
     "metadata": {},
     "output_type": "display_data"
    },
    {
     "data": {
      "text/html": [
       "<pre>       Number of documents      4332</pre>"
      ],
      "text/plain": [
       "       Number of documents      4332"
      ]
     },
     "metadata": {},
     "output_type": "display_data"
    },
    {
     "data": {
      "text/html": [
       "<pre>           Vocabulary size     16094</pre>"
      ],
      "text/plain": [
       "           Vocabulary size     16094"
      ]
     },
     "metadata": {},
     "output_type": "display_data"
    },
    {
     "data": {
      "text/html": [
       "<pre>   Running collapsed Gibbs sampling</pre>"
      ],
      "text/plain": [
       "   Running collapsed Gibbs sampling"
      ]
     },
     "metadata": {},
     "output_type": "display_data"
    },
    {
     "data": {
      "text/html": [
       "<pre>+-----------+---------------+----------------+-----------------+</pre>"
      ],
      "text/plain": [
       "+-----------+---------------+----------------+-----------------+"
      ]
     },
     "metadata": {},
     "output_type": "display_data"
    },
    {
     "data": {
      "text/html": [
       "<pre>| Iteration | Elapsed Time  | Tokens/Second  | Est. Perplexity |</pre>"
      ],
      "text/plain": [
       "| Iteration | Elapsed Time  | Tokens/Second  | Est. Perplexity |"
      ]
     },
     "metadata": {},
     "output_type": "display_data"
    },
    {
     "data": {
      "text/html": [
       "<pre>+-----------+---------------+----------------+-----------------+</pre>"
      ],
      "text/plain": [
       "+-----------+---------------+----------------+-----------------+"
      ]
     },
     "metadata": {},
     "output_type": "display_data"
    },
    {
     "data": {
      "text/html": [
       "<pre>| 10        | 135.53ms      | 4.49043e+06    | 0               |</pre>"
      ],
      "text/plain": [
       "| 10        | 135.53ms      | 4.49043e+06    | 0               |"
      ]
     },
     "metadata": {},
     "output_type": "display_data"
    },
    {
     "data": {
      "text/html": [
       "<pre>| 20        | 258.46ms      | 4.94215e+06    | 0               |</pre>"
      ],
      "text/plain": [
       "| 20        | 258.46ms      | 4.94215e+06    | 0               |"
      ]
     },
     "metadata": {},
     "output_type": "display_data"
    },
    {
     "data": {
      "text/html": [
       "<pre>| 30        | 371.744ms     | 4.85027e+06    | 0               |</pre>"
      ],
      "text/plain": [
       "| 30        | 371.744ms     | 4.85027e+06    | 0               |"
      ]
     },
     "metadata": {},
     "output_type": "display_data"
    },
    {
     "data": {
      "text/html": [
       "<pre>| 40        | 491.803ms     | 3.97815e+06    | 0               |</pre>"
      ],
      "text/plain": [
       "| 40        | 491.803ms     | 3.97815e+06    | 0               |"
      ]
     },
     "metadata": {},
     "output_type": "display_data"
    },
    {
     "data": {
      "text/html": [
       "<pre>| 50        | 640.459ms     | 3.29355e+06    | 0               |</pre>"
      ],
      "text/plain": [
       "| 50        | 640.459ms     | 3.29355e+06    | 0               |"
      ]
     },
     "metadata": {},
     "output_type": "display_data"
    },
    {
     "data": {
      "text/html": [
       "<pre>| 60        | 776.942ms     | 4.45842e+06    | 0               |</pre>"
      ],
      "text/plain": [
       "| 60        | 776.942ms     | 4.45842e+06    | 0               |"
      ]
     },
     "metadata": {},
     "output_type": "display_data"
    },
    {
     "data": {
      "text/html": [
       "<pre>| 70        | 919.086ms     | 3.43138e+06    | 0               |</pre>"
      ],
      "text/plain": [
       "| 70        | 919.086ms     | 3.43138e+06    | 0               |"
      ]
     },
     "metadata": {},
     "output_type": "display_data"
    },
    {
     "data": {
      "text/html": [
       "<pre>| 80        | 1.05s         | 3.44252e+06    | 0               |</pre>"
      ],
      "text/plain": [
       "| 80        | 1.05s         | 3.44252e+06    | 0               |"
      ]
     },
     "metadata": {},
     "output_type": "display_data"
    },
    {
     "data": {
      "text/html": [
       "<pre>| 90        | 1.18s         | 3.40623e+06    | 0               |</pre>"
      ],
      "text/plain": [
       "| 90        | 1.18s         | 3.40623e+06    | 0               |"
      ]
     },
     "metadata": {},
     "output_type": "display_data"
    },
    {
     "data": {
      "text/html": [
       "<pre>| 100       | 1.34s         | 2.65289e+06    | 0               |</pre>"
      ],
      "text/plain": [
       "| 100       | 1.34s         | 2.65289e+06    | 0               |"
      ]
     },
     "metadata": {},
     "output_type": "display_data"
    },
    {
     "data": {
      "text/html": [
       "<pre>| 110       | 1.46s         | 4.49498e+06    | 0               |</pre>"
      ],
      "text/plain": [
       "| 110       | 1.46s         | 4.49498e+06    | 0               |"
      ]
     },
     "metadata": {},
     "output_type": "display_data"
    },
    {
     "data": {
      "text/html": [
       "<pre>| 120       | 1.58s         | 4.95924e+06    | 0               |</pre>"
      ],
      "text/plain": [
       "| 120       | 1.58s         | 4.95924e+06    | 0               |"
      ]
     },
     "metadata": {},
     "output_type": "display_data"
    },
    {
     "data": {
      "text/html": [
       "<pre>| 130       | 1.70s         | 4.44907e+06    | 0               |</pre>"
      ],
      "text/plain": [
       "| 130       | 1.70s         | 4.44907e+06    | 0               |"
      ]
     },
     "metadata": {},
     "output_type": "display_data"
    },
    {
     "data": {
      "text/html": [
       "<pre>| 140       | 1.83s         | 3.39343e+06    | 0               |</pre>"
      ],
      "text/plain": [
       "| 140       | 1.83s         | 3.39343e+06    | 0               |"
      ]
     },
     "metadata": {},
     "output_type": "display_data"
    },
    {
     "data": {
      "text/html": [
       "<pre>| 150       | 1.98s         | 3.46453e+06    | 0               |</pre>"
      ],
      "text/plain": [
       "| 150       | 1.98s         | 3.46453e+06    | 0               |"
      ]
     },
     "metadata": {},
     "output_type": "display_data"
    },
    {
     "data": {
      "text/html": [
       "<pre>| 160       | 2.13s         | 3.73252e+06    | 0               |</pre>"
      ],
      "text/plain": [
       "| 160       | 2.13s         | 3.73252e+06    | 0               |"
      ]
     },
     "metadata": {},
     "output_type": "display_data"
    },
    {
     "data": {
      "text/html": [
       "<pre>| 170       | 2.27s         | 3.0327e+06     | 0               |</pre>"
      ],
      "text/plain": [
       "| 170       | 2.27s         | 3.0327e+06     | 0               |"
      ]
     },
     "metadata": {},
     "output_type": "display_data"
    },
    {
     "data": {
      "text/html": [
       "<pre>| 180       | 2.41s         | 4.30498e+06    | 0               |</pre>"
      ],
      "text/plain": [
       "| 180       | 2.41s         | 4.30498e+06    | 0               |"
      ]
     },
     "metadata": {},
     "output_type": "display_data"
    },
    {
     "data": {
      "text/html": [
       "<pre>| 190       | 2.55s         | 3.25313e+06    | 0               |</pre>"
      ],
      "text/plain": [
       "| 190       | 2.55s         | 3.25313e+06    | 0               |"
      ]
     },
     "metadata": {},
     "output_type": "display_data"
    },
    {
     "data": {
      "text/html": [
       "<pre>| 200       | 2.69s         | 3.65068e+06    | 0               |</pre>"
      ],
      "text/plain": [
       "| 200       | 2.69s         | 3.65068e+06    | 0               |"
      ]
     },
     "metadata": {},
     "output_type": "display_data"
    }
   ],
   "source": [
    "# Run LDA model-- Although covered in the class, I do NOT implement my own code for LDA.  \n",
    "# This is done by graphlab here.\n",
    "topic_model = gl.topic_model.create(twitter_docs, num_topics = 10, num_iterations = 200)"
   ]
  },
  {
   "cell_type": "code",
   "execution_count": 287,
   "metadata": {
    "collapsed": false
   },
   "outputs": [
    {
     "data": {
      "text/plain": [
       "[['sql',\n",
       "  'rt',\n",
       "  'server',\n",
       "  'security',\n",
       "  '.',\n",
       "  '2',\n",
       "  'ceh',\n",
       "  'preview',\n",
       "  'kernel',\n",
       "  'find'],\n",
       " ['rt',\n",
       "  '[patch',\n",
       "  'check',\n",
       "  '@azure',\n",
       "  '@cisco',\n",
       "  'learn',\n",
       "  'support',\n",
       "  'coming',\n",
       "  'share',\n",
       "  'https://t.\\xe2\\x80\\xa6'],\n",
       " ['microsoft',\n",
       "  'azure',\n",
       "  'cloud',\n",
       "  'services',\n",
       "  'dell',\n",
       "  'systems,',\n",
       "  'introduce',\n",
       "  'solution',\n",
       "  'hpe,',\n",
       "  'hpe'],\n",
       " ['#msignite',\n",
       "  '#sharepoint',\n",
       "  'sharepoint',\n",
       "  '2016',\n",
       "  '#office365',\n",
       "  'powershell',\n",
       "  'september',\n",
       "  'session',\n",
       "  'team',\n",
       "  'solutions'],\n",
       " ['linux',\n",
       "  'mint',\n",
       "  'lo',\n",
       "  '#aws',\n",
       "  'tiene',\n",
       "  'este',\n",
       "  'todo',\n",
       "  'mini-pc',\n",
       "  'peque\\xc3\\xb1o',\n",
       "  'preinstalado'],\n",
       " ['rt',\n",
       "  '&amp;',\n",
       "  'aws',\n",
       "  '#cisco',\n",
       "  '#aws',\n",
       "  '|',\n",
       "  'data',\n",
       "  'more:',\n",
       "  'architect',\n",
       "  '\\xe2\\x80\\x93'],\n",
       " ['cisco',\n",
       "  'de',\n",
       "  'ios',\n",
       "  'service',\n",
       "  'en',\n",
       "  'software',\n",
       "  'denial',\n",
       "  'web',\n",
       "  'vulnerability',\n",
       "  'xe'],\n",
       " ['#linux', 'linux', ':', 're:', 'os', 'panther', 'black', 'cool', '10', '+'],\n",
       " ['-',\n",
       "  'software',\n",
       "  'role',\n",
       "  '#itil',\n",
       "  'rt',\n",
       "  'developer',\n",
       "  '/',\n",
       "  '#itsm',\n",
       "  '#jobs',\n",
       "  'consultant'],\n",
       " ['rt',\n",
       "  '#azure',\n",
       "  'azure',\n",
       "  'windows',\n",
       "  'great',\n",
       "  'hosting',\n",
       "  'read',\n",
       "  '@azure:',\n",
       "  'https://t.c\\xe2\\x80\\xa6',\n",
       "  'part']]"
      ]
     },
     "execution_count": 287,
     "metadata": {},
     "output_type": "execute_result"
    }
   ],
   "source": [
    "# Look at top 10 words for each topic cluster:\n",
    "[x['words'] for x in topic_model.get_topics(output_type = 'topic_words', num_words = 10)]"
   ]
  },
  {
   "cell_type": "markdown",
   "metadata": {},
   "source": [
    "The above output shows which words most contibuted to each of the clusters that LDA came up with.  In other words, these are topics or groupings of words that commonly co-occur or describe similar subjects.  Hence we might dub the first cluster the \"Linux\" cluster, which includes tweets about Linux, mint (presumably Linux Mint distribution), certified ethical hacking (ceh), and, it would seem, Spanish-language tweets are relatively more common.\n",
    "\n",
    "Similarly, the 4th cluster might be dubbed \"security\" and includes *cisco, security, vulnerability, and vuln:*.\n",
    "\n",
    "The last cluster includes *sql, server, powershell, developer*, and *engineer* and might be dubbed the \"developer\" cluster.  (With the relatively small data set that went into this clustering, the clusters are somewhat fuzzy, and not all are clearly about a single topic, but considering the paucity of data, LDA does surprisingly well at finding topics.)\n",
    "\n",
    "More generally though, this method can be used to help understand what topics are commonly occuring in the data set, and in a much larger dataset, can be used to quickly filter data. Also, much like Google's PageRank algorithm, LDA can be used to identify similar documents quickly"
   ]
  },
  {
   "cell_type": "code",
   "execution_count": 288,
   "metadata": {
    "collapsed": false
   },
   "outputs": [],
   "source": [
    "df2['lda'] = topic_model.predict(twitter_docs, output_type = 'probability')"
   ]
  },
  {
   "cell_type": "code",
   "execution_count": 289,
   "metadata": {
    "collapsed": false
   },
   "outputs": [
    {
     "data": {
      "text/html": [
       "<div style=\"max-height:1000px;max-width:1500px;overflow:auto;\"><table frame=\"box\" rules=\"cols\">\n",
       "    <tr>\n",
       "        <th style=\"padding-left: 1em; padding-right: 1em; text-align: center\">text</th>\n",
       "        <th style=\"padding-left: 1em; padding-right: 1em; text-align: center\">user_lang</th>\n",
       "        <th style=\"padding-left: 1em; padding-right: 1em; text-align: center\">location</th>\n",
       "        <th style=\"padding-left: 1em; padding-right: 1em; text-align: center\">hashtags</th>\n",
       "        <th style=\"padding-left: 1em; padding-right: 1em; text-align: center\">retweet</th>\n",
       "        <th style=\"padding-left: 1em; padding-right: 1em; text-align: center\">n_retweet</th>\n",
       "    </tr>\n",
       "    <tr>\n",
       "        <td style=\"padding-left: 1em; padding-right: 1em; text-align: center; vertical-align: top\">yNewsbot: Bugtraq: #Cisco<br>#Security #Advisory: ...</td>\n",
       "        <td style=\"padding-left: 1em; padding-right: 1em; text-align: center; vertical-align: top\">en</td>\n",
       "        <td style=\"padding-left: 1em; padding-right: 1em; text-align: center; vertical-align: top\">tryingto #^fi~{|__#}%%*</td>\n",
       "        <td style=\"padding-left: 1em; padding-right: 1em; text-align: center; vertical-align: top\">[{'indices': array('d',<br>[19.0, 25.0]), 'text': ...</td>\n",
       "        <td style=\"padding-left: 1em; padding-right: 1em; text-align: center; vertical-align: top\">0</td>\n",
       "        <td style=\"padding-left: 1em; padding-right: 1em; text-align: center; vertical-align: top\">0.0</td>\n",
       "    </tr>\n",
       "    <tr>\n",
       "        <td style=\"padding-left: 1em; padding-right: 1em; text-align: center; vertical-align: top\">RT @mims: Amazon is going<br>to compete directly with ...</td>\n",
       "        <td style=\"padding-left: 1em; padding-right: 1em; text-align: center; vertical-align: top\">en</td>\n",
       "        <td style=\"padding-left: 1em; padding-right: 1em; text-align: center; vertical-align: top\">None</td>\n",
       "        <td style=\"padding-left: 1em; padding-right: 1em; text-align: center; vertical-align: top\">[]</td>\n",
       "        <td style=\"padding-left: 1em; padding-right: 1em; text-align: center; vertical-align: top\">0</td>\n",
       "        <td style=\"padding-left: 1em; padding-right: 1em; text-align: center; vertical-align: top\">0.0</td>\n",
       "    </tr>\n",
       "    <tr>\n",
       "        <td style=\"padding-left: 1em; padding-right: 1em; text-align: center; vertical-align: top\">#Cisco Battles Shadow<br>Broker Exploits. Read ...</td>\n",
       "        <td style=\"padding-left: 1em; padding-right: 1em; text-align: center; vertical-align: top\">en</td>\n",
       "        <td style=\"padding-left: 1em; padding-right: 1em; text-align: center; vertical-align: top\">San Mateo, CA</td>\n",
       "        <td style=\"padding-left: 1em; padding-right: 1em; text-align: center; vertical-align: top\">[{'indices': array('d',<br>[0.0, 6.0]), 'text': ...</td>\n",
       "        <td style=\"padding-left: 1em; padding-right: 1em; text-align: center; vertical-align: top\">0</td>\n",
       "        <td style=\"padding-left: 1em; padding-right: 1em; text-align: center; vertical-align: top\">0.0</td>\n",
       "    </tr>\n",
       "    <tr>\n",
       "        <td style=\"padding-left: 1em; padding-right: 1em; text-align: center; vertical-align: top\">#Cisco Battles Shadow<br>Broker Exploits. Read ...</td>\n",
       "        <td style=\"padding-left: 1em; padding-right: 1em; text-align: center; vertical-align: top\">en</td>\n",
       "        <td style=\"padding-left: 1em; padding-right: 1em; text-align: center; vertical-align: top\">San Mateo, CA</td>\n",
       "        <td style=\"padding-left: 1em; padding-right: 1em; text-align: center; vertical-align: top\">[{'indices': array('d',<br>[0.0, 6.0]), 'text': ...</td>\n",
       "        <td style=\"padding-left: 1em; padding-right: 1em; text-align: center; vertical-align: top\">0</td>\n",
       "        <td style=\"padding-left: 1em; padding-right: 1em; text-align: center; vertical-align: top\">0.0</td>\n",
       "    </tr>\n",
       "    <tr>\n",
       "        <td style=\"padding-left: 1em; padding-right: 1em; text-align: center; vertical-align: top\">yNewsbot: Bugtraq: #Cisco<br>#Security #Advisory: ...</td>\n",
       "        <td style=\"padding-left: 1em; padding-right: 1em; text-align: center; vertical-align: top\">en</td>\n",
       "        <td style=\"padding-left: 1em; padding-right: 1em; text-align: center; vertical-align: top\">tryingto #^fi~{|__#}%%*</td>\n",
       "        <td style=\"padding-left: 1em; padding-right: 1em; text-align: center; vertical-align: top\">[{'indices': array('d',<br>[19.0, 25.0]), 'text': ...</td>\n",
       "        <td style=\"padding-left: 1em; padding-right: 1em; text-align: center; vertical-align: top\">0</td>\n",
       "        <td style=\"padding-left: 1em; padding-right: 1em; text-align: center; vertical-align: top\">0.0</td>\n",
       "    </tr>\n",
       "    <tr>\n",
       "        <td style=\"padding-left: 1em; padding-right: 1em; text-align: center; vertical-align: top\">RT @entertainscape: Umm .<br>. . SQL databases can ...</td>\n",
       "        <td style=\"padding-left: 1em; padding-right: 1em; text-align: center; vertical-align: top\">en</td>\n",
       "        <td style=\"padding-left: 1em; padding-right: 1em; text-align: center; vertical-align: top\">Montreal, QC</td>\n",
       "        <td style=\"padding-left: 1em; padding-right: 1em; text-align: center; vertical-align: top\">[]</td>\n",
       "        <td style=\"padding-left: 1em; padding-right: 1em; text-align: center; vertical-align: top\">0</td>\n",
       "        <td style=\"padding-left: 1em; padding-right: 1em; text-align: center; vertical-align: top\">0.0</td>\n",
       "    </tr>\n",
       "    <tr>\n",
       "        <td style=\"padding-left: 1em; padding-right: 1em; text-align: center; vertical-align: top\">Fui baixar o arquivo do<br>orkuta (só Deus pode me ...</td>\n",
       "        <td style=\"padding-left: 1em; padding-right: 1em; text-align: center; vertical-align: top\">pt</td>\n",
       "        <td style=\"padding-left: 1em; padding-right: 1em; text-align: center; vertical-align: top\">saint bernard of field.</td>\n",
       "        <td style=\"padding-left: 1em; padding-right: 1em; text-align: center; vertical-align: top\">[]</td>\n",
       "        <td style=\"padding-left: 1em; padding-right: 1em; text-align: center; vertical-align: top\">0</td>\n",
       "        <td style=\"padding-left: 1em; padding-right: 1em; text-align: center; vertical-align: top\">0.0</td>\n",
       "    </tr>\n",
       "    <tr>\n",
       "        <td style=\"padding-left: 1em; padding-right: 1em; text-align: center; vertical-align: top\">Download Large Files from<br>SharePoint Online ...</td>\n",
       "        <td style=\"padding-left: 1em; padding-right: 1em; text-align: center; vertical-align: top\">en</td>\n",
       "        <td style=\"padding-left: 1em; padding-right: 1em; text-align: center; vertical-align: top\">Kolkata, India</td>\n",
       "        <td style=\"padding-left: 1em; padding-right: 1em; text-align: center; vertical-align: top\">[{'indices': array('d',<br>[68.0, 79.0]), 'text': ...</td>\n",
       "        <td style=\"padding-left: 1em; padding-right: 1em; text-align: center; vertical-align: top\">0</td>\n",
       "        <td style=\"padding-left: 1em; padding-right: 1em; text-align: center; vertical-align: top\">0.0</td>\n",
       "    </tr>\n",
       "    <tr>\n",
       "        <td style=\"padding-left: 1em; padding-right: 1em; text-align: center; vertical-align: top\">#TengoUnAmigoQue le pone<br>el * a todas sus ...</td>\n",
       "        <td style=\"padding-left: 1em; padding-right: 1em; text-align: center; vertical-align: top\">es</td>\n",
       "        <td style=\"padding-left: 1em; padding-right: 1em; text-align: center; vertical-align: top\">Tepic, Mexico</td>\n",
       "        <td style=\"padding-left: 1em; padding-right: 1em; text-align: center; vertical-align: top\">[{'indices': array('d',<br>[0.0, 16.0]), 'text': ...</td>\n",
       "        <td style=\"padding-left: 1em; padding-right: 1em; text-align: center; vertical-align: top\">0</td>\n",
       "        <td style=\"padding-left: 1em; padding-right: 1em; text-align: center; vertical-align: top\">0.0</td>\n",
       "    </tr>\n",
       "    <tr>\n",
       "        <td style=\"padding-left: 1em; padding-right: 1em; text-align: center; vertical-align: top\">Microsoft y Lenovo<br>impiden instalar Linux ...</td>\n",
       "        <td style=\"padding-left: 1em; padding-right: 1em; text-align: center; vertical-align: top\">es</td>\n",
       "        <td style=\"padding-left: 1em; padding-right: 1em; text-align: center; vertical-align: top\">Venezuela</td>\n",
       "        <td style=\"padding-left: 1em; padding-right: 1em; text-align: center; vertical-align: top\">[]</td>\n",
       "        <td style=\"padding-left: 1em; padding-right: 1em; text-align: center; vertical-align: top\">0</td>\n",
       "        <td style=\"padding-left: 1em; padding-right: 1em; text-align: center; vertical-align: top\">0.0</td>\n",
       "    </tr>\n",
       "</table>\n",
       "<table frame=\"box\" rules=\"cols\">\n",
       "    <tr>\n",
       "        <th style=\"padding-left: 1em; padding-right: 1em; text-align: center\">n_followers</th>\n",
       "        <th style=\"padding-left: 1em; padding-right: 1em; text-align: center\">n_friends</th>\n",
       "        <th style=\"padding-left: 1em; padding-right: 1em; text-align: center\">name</th>\n",
       "        <th style=\"padding-left: 1em; padding-right: 1em; text-align: center\">coords</th>\n",
       "        <th style=\"padding-left: 1em; padding-right: 1em; text-align: center\">Cisco</th>\n",
       "        <th style=\"padding-left: 1em; padding-right: 1em; text-align: center\">CCNA</th>\n",
       "        <th style=\"padding-left: 1em; padding-right: 1em; text-align: center\">AWS</th>\n",
       "        <th style=\"padding-left: 1em; padding-right: 1em; text-align: center\">Sharepoint</th>\n",
       "        <th style=\"padding-left: 1em; padding-right: 1em; text-align: center\">linux</th>\n",
       "        <th style=\"padding-left: 1em; padding-right: 1em; text-align: center\">powershell</th>\n",
       "        <th style=\"padding-left: 1em; padding-right: 1em; text-align: center\">itil</th>\n",
       "    </tr>\n",
       "    <tr>\n",
       "        <td style=\"padding-left: 1em; padding-right: 1em; text-align: center; vertical-align: top\">2636.0</td>\n",
       "        <td style=\"padding-left: 1em; padding-right: 1em; text-align: center; vertical-align: top\">1084.0</td>\n",
       "        <td style=\"padding-left: 1em; padding-right: 1em; text-align: center; vertical-align: top\">❌Siraj Solution❌</td>\n",
       "        <td style=\"padding-left: 1em; padding-right: 1em; text-align: center; vertical-align: top\">None</td>\n",
       "        <td style=\"padding-left: 1em; padding-right: 1em; text-align: center; vertical-align: top\">1</td>\n",
       "        <td style=\"padding-left: 1em; padding-right: 1em; text-align: center; vertical-align: top\">0</td>\n",
       "        <td style=\"padding-left: 1em; padding-right: 1em; text-align: center; vertical-align: top\">0</td>\n",
       "        <td style=\"padding-left: 1em; padding-right: 1em; text-align: center; vertical-align: top\">0</td>\n",
       "        <td style=\"padding-left: 1em; padding-right: 1em; text-align: center; vertical-align: top\">0</td>\n",
       "        <td style=\"padding-left: 1em; padding-right: 1em; text-align: center; vertical-align: top\">0</td>\n",
       "        <td style=\"padding-left: 1em; padding-right: 1em; text-align: center; vertical-align: top\">0</td>\n",
       "    </tr>\n",
       "    <tr>\n",
       "        <td style=\"padding-left: 1em; padding-right: 1em; text-align: center; vertical-align: top\">2624.0</td>\n",
       "        <td style=\"padding-left: 1em; padding-right: 1em; text-align: center; vertical-align: top\">4916.0</td>\n",
       "        <td style=\"padding-left: 1em; padding-right: 1em; text-align: center; vertical-align: top\">Leroy Wesley Annon</td>\n",
       "        <td style=\"padding-left: 1em; padding-right: 1em; text-align: center; vertical-align: top\">None</td>\n",
       "        <td style=\"padding-left: 1em; padding-right: 1em; text-align: center; vertical-align: top\">0</td>\n",
       "        <td style=\"padding-left: 1em; padding-right: 1em; text-align: center; vertical-align: top\">0</td>\n",
       "        <td style=\"padding-left: 1em; padding-right: 1em; text-align: center; vertical-align: top\">1</td>\n",
       "        <td style=\"padding-left: 1em; padding-right: 1em; text-align: center; vertical-align: top\">0</td>\n",
       "        <td style=\"padding-left: 1em; padding-right: 1em; text-align: center; vertical-align: top\">0</td>\n",
       "        <td style=\"padding-left: 1em; padding-right: 1em; text-align: center; vertical-align: top\">0</td>\n",
       "        <td style=\"padding-left: 1em; padding-right: 1em; text-align: center; vertical-align: top\">0</td>\n",
       "    </tr>\n",
       "    <tr>\n",
       "        <td style=\"padding-left: 1em; padding-right: 1em; text-align: center; vertical-align: top\">86.0</td>\n",
       "        <td style=\"padding-left: 1em; padding-right: 1em; text-align: center; vertical-align: top\">2.0</td>\n",
       "        <td style=\"padding-left: 1em; padding-right: 1em; text-align: center; vertical-align: top\">Networking News</td>\n",
       "        <td style=\"padding-left: 1em; padding-right: 1em; text-align: center; vertical-align: top\">None</td>\n",
       "        <td style=\"padding-left: 1em; padding-right: 1em; text-align: center; vertical-align: top\">1</td>\n",
       "        <td style=\"padding-left: 1em; padding-right: 1em; text-align: center; vertical-align: top\">0</td>\n",
       "        <td style=\"padding-left: 1em; padding-right: 1em; text-align: center; vertical-align: top\">0</td>\n",
       "        <td style=\"padding-left: 1em; padding-right: 1em; text-align: center; vertical-align: top\">0</td>\n",
       "        <td style=\"padding-left: 1em; padding-right: 1em; text-align: center; vertical-align: top\">0</td>\n",
       "        <td style=\"padding-left: 1em; padding-right: 1em; text-align: center; vertical-align: top\">0</td>\n",
       "        <td style=\"padding-left: 1em; padding-right: 1em; text-align: center; vertical-align: top\">0</td>\n",
       "    </tr>\n",
       "    <tr>\n",
       "        <td style=\"padding-left: 1em; padding-right: 1em; text-align: center; vertical-align: top\">20.0</td>\n",
       "        <td style=\"padding-left: 1em; padding-right: 1em; text-align: center; vertical-align: top\">2.0</td>\n",
       "        <td style=\"padding-left: 1em; padding-right: 1em; text-align: center; vertical-align: top\">Communication News</td>\n",
       "        <td style=\"padding-left: 1em; padding-right: 1em; text-align: center; vertical-align: top\">None</td>\n",
       "        <td style=\"padding-left: 1em; padding-right: 1em; text-align: center; vertical-align: top\">1</td>\n",
       "        <td style=\"padding-left: 1em; padding-right: 1em; text-align: center; vertical-align: top\">0</td>\n",
       "        <td style=\"padding-left: 1em; padding-right: 1em; text-align: center; vertical-align: top\">0</td>\n",
       "        <td style=\"padding-left: 1em; padding-right: 1em; text-align: center; vertical-align: top\">0</td>\n",
       "        <td style=\"padding-left: 1em; padding-right: 1em; text-align: center; vertical-align: top\">0</td>\n",
       "        <td style=\"padding-left: 1em; padding-right: 1em; text-align: center; vertical-align: top\">0</td>\n",
       "        <td style=\"padding-left: 1em; padding-right: 1em; text-align: center; vertical-align: top\">0</td>\n",
       "    </tr>\n",
       "    <tr>\n",
       "        <td style=\"padding-left: 1em; padding-right: 1em; text-align: center; vertical-align: top\">2636.0</td>\n",
       "        <td style=\"padding-left: 1em; padding-right: 1em; text-align: center; vertical-align: top\">1084.0</td>\n",
       "        <td style=\"padding-left: 1em; padding-right: 1em; text-align: center; vertical-align: top\">❌Siraj Solution❌</td>\n",
       "        <td style=\"padding-left: 1em; padding-right: 1em; text-align: center; vertical-align: top\">None</td>\n",
       "        <td style=\"padding-left: 1em; padding-right: 1em; text-align: center; vertical-align: top\">1</td>\n",
       "        <td style=\"padding-left: 1em; padding-right: 1em; text-align: center; vertical-align: top\">0</td>\n",
       "        <td style=\"padding-left: 1em; padding-right: 1em; text-align: center; vertical-align: top\">0</td>\n",
       "        <td style=\"padding-left: 1em; padding-right: 1em; text-align: center; vertical-align: top\">0</td>\n",
       "        <td style=\"padding-left: 1em; padding-right: 1em; text-align: center; vertical-align: top\">0</td>\n",
       "        <td style=\"padding-left: 1em; padding-right: 1em; text-align: center; vertical-align: top\">0</td>\n",
       "        <td style=\"padding-left: 1em; padding-right: 1em; text-align: center; vertical-align: top\">0</td>\n",
       "    </tr>\n",
       "    <tr>\n",
       "        <td style=\"padding-left: 1em; padding-right: 1em; text-align: center; vertical-align: top\">630.0</td>\n",
       "        <td style=\"padding-left: 1em; padding-right: 1em; text-align: center; vertical-align: top\">486.0</td>\n",
       "        <td style=\"padding-left: 1em; padding-right: 1em; text-align: center; vertical-align: top\">Maxime Rouiller</td>\n",
       "        <td style=\"padding-left: 1em; padding-right: 1em; text-align: center; vertical-align: top\">None</td>\n",
       "        <td style=\"padding-left: 1em; padding-right: 1em; text-align: center; vertical-align: top\">0</td>\n",
       "        <td style=\"padding-left: 1em; padding-right: 1em; text-align: center; vertical-align: top\">0</td>\n",
       "        <td style=\"padding-left: 1em; padding-right: 1em; text-align: center; vertical-align: top\">0</td>\n",
       "        <td style=\"padding-left: 1em; padding-right: 1em; text-align: center; vertical-align: top\">0</td>\n",
       "        <td style=\"padding-left: 1em; padding-right: 1em; text-align: center; vertical-align: top\">0</td>\n",
       "        <td style=\"padding-left: 1em; padding-right: 1em; text-align: center; vertical-align: top\">0</td>\n",
       "        <td style=\"padding-left: 1em; padding-right: 1em; text-align: center; vertical-align: top\">0</td>\n",
       "    </tr>\n",
       "    <tr>\n",
       "        <td style=\"padding-left: 1em; padding-right: 1em; text-align: center; vertical-align: top\">64.0</td>\n",
       "        <td style=\"padding-left: 1em; padding-right: 1em; text-align: center; vertical-align: top\">206.0</td>\n",
       "        <td style=\"padding-left: 1em; padding-right: 1em; text-align: center; vertical-align: top\">Yuri P.</td>\n",
       "        <td style=\"padding-left: 1em; padding-right: 1em; text-align: center; vertical-align: top\">None</td>\n",
       "        <td style=\"padding-left: 1em; padding-right: 1em; text-align: center; vertical-align: top\">1</td>\n",
       "        <td style=\"padding-left: 1em; padding-right: 1em; text-align: center; vertical-align: top\">0</td>\n",
       "        <td style=\"padding-left: 1em; padding-right: 1em; text-align: center; vertical-align: top\">0</td>\n",
       "        <td style=\"padding-left: 1em; padding-right: 1em; text-align: center; vertical-align: top\">0</td>\n",
       "        <td style=\"padding-left: 1em; padding-right: 1em; text-align: center; vertical-align: top\">0</td>\n",
       "        <td style=\"padding-left: 1em; padding-right: 1em; text-align: center; vertical-align: top\">0</td>\n",
       "        <td style=\"padding-left: 1em; padding-right: 1em; text-align: center; vertical-align: top\">0</td>\n",
       "    </tr>\n",
       "    <tr>\n",
       "        <td style=\"padding-left: 1em; padding-right: 1em; text-align: center; vertical-align: top\">118.0</td>\n",
       "        <td style=\"padding-left: 1em; padding-right: 1em; text-align: center; vertical-align: top\">399.0</td>\n",
       "        <td style=\"padding-left: 1em; padding-right: 1em; text-align: center; vertical-align: top\">piyush kumar singh</td>\n",
       "        <td style=\"padding-left: 1em; padding-right: 1em; text-align: center; vertical-align: top\">None</td>\n",
       "        <td style=\"padding-left: 1em; padding-right: 1em; text-align: center; vertical-align: top\">0</td>\n",
       "        <td style=\"padding-left: 1em; padding-right: 1em; text-align: center; vertical-align: top\">0</td>\n",
       "        <td style=\"padding-left: 1em; padding-right: 1em; text-align: center; vertical-align: top\">0</td>\n",
       "        <td style=\"padding-left: 1em; padding-right: 1em; text-align: center; vertical-align: top\">1</td>\n",
       "        <td style=\"padding-left: 1em; padding-right: 1em; text-align: center; vertical-align: top\">0</td>\n",
       "        <td style=\"padding-left: 1em; padding-right: 1em; text-align: center; vertical-align: top\">0</td>\n",
       "        <td style=\"padding-left: 1em; padding-right: 1em; text-align: center; vertical-align: top\">0</td>\n",
       "    </tr>\n",
       "    <tr>\n",
       "        <td style=\"padding-left: 1em; padding-right: 1em; text-align: center; vertical-align: top\">179.0</td>\n",
       "        <td style=\"padding-left: 1em; padding-right: 1em; text-align: center; vertical-align: top\">619.0</td>\n",
       "        <td style=\"padding-left: 1em; padding-right: 1em; text-align: center; vertical-align: top\">Rafa Arreola</td>\n",
       "        <td style=\"padding-left: 1em; padding-right: 1em; text-align: center; vertical-align: top\">None</td>\n",
       "        <td style=\"padding-left: 1em; padding-right: 1em; text-align: center; vertical-align: top\">0</td>\n",
       "        <td style=\"padding-left: 1em; padding-right: 1em; text-align: center; vertical-align: top\">0</td>\n",
       "        <td style=\"padding-left: 1em; padding-right: 1em; text-align: center; vertical-align: top\">0</td>\n",
       "        <td style=\"padding-left: 1em; padding-right: 1em; text-align: center; vertical-align: top\">0</td>\n",
       "        <td style=\"padding-left: 1em; padding-right: 1em; text-align: center; vertical-align: top\">0</td>\n",
       "        <td style=\"padding-left: 1em; padding-right: 1em; text-align: center; vertical-align: top\">0</td>\n",
       "        <td style=\"padding-left: 1em; padding-right: 1em; text-align: center; vertical-align: top\">0</td>\n",
       "    </tr>\n",
       "    <tr>\n",
       "        <td style=\"padding-left: 1em; padding-right: 1em; text-align: center; vertical-align: top\">2322.0</td>\n",
       "        <td style=\"padding-left: 1em; padding-right: 1em; text-align: center; vertical-align: top\">2216.0</td>\n",
       "        <td style=\"padding-left: 1em; padding-right: 1em; text-align: center; vertical-align: top\">Wolgfang Chacon</td>\n",
       "        <td style=\"padding-left: 1em; padding-right: 1em; text-align: center; vertical-align: top\">None</td>\n",
       "        <td style=\"padding-left: 1em; padding-right: 1em; text-align: center; vertical-align: top\">0</td>\n",
       "        <td style=\"padding-left: 1em; padding-right: 1em; text-align: center; vertical-align: top\">0</td>\n",
       "        <td style=\"padding-left: 1em; padding-right: 1em; text-align: center; vertical-align: top\">0</td>\n",
       "        <td style=\"padding-left: 1em; padding-right: 1em; text-align: center; vertical-align: top\">0</td>\n",
       "        <td style=\"padding-left: 1em; padding-right: 1em; text-align: center; vertical-align: top\">1</td>\n",
       "        <td style=\"padding-left: 1em; padding-right: 1em; text-align: center; vertical-align: top\">0</td>\n",
       "        <td style=\"padding-left: 1em; padding-right: 1em; text-align: center; vertical-align: top\">0</td>\n",
       "    </tr>\n",
       "</table>\n",
       "<table frame=\"box\" rules=\"cols\">\n",
       "    <tr>\n",
       "        <th style=\"padding-left: 1em; padding-right: 1em; text-align: center\">sql</th>\n",
       "        <th style=\"padding-left: 1em; padding-right: 1em; text-align: center\">azure</th>\n",
       "        <th style=\"padding-left: 1em; padding-right: 1em; text-align: center\">ceh</th>\n",
       "        <th style=\"padding-left: 1em; padding-right: 1em; text-align: center\">Cisco_views</th>\n",
       "        <th style=\"padding-left: 1em; padding-right: 1em; text-align: center\">CCNA_views</th>\n",
       "        <th style=\"padding-left: 1em; padding-right: 1em; text-align: center\">AWS_views</th>\n",
       "        <th style=\"padding-left: 1em; padding-right: 1em; text-align: center\">Sharepoint_views</th>\n",
       "        <th style=\"padding-left: 1em; padding-right: 1em; text-align: center\">linux_views</th>\n",
       "        <th style=\"padding-left: 1em; padding-right: 1em; text-align: center\">powershell_views</th>\n",
       "        <th style=\"padding-left: 1em; padding-right: 1em; text-align: center\">itil_views</th>\n",
       "    </tr>\n",
       "    <tr>\n",
       "        <td style=\"padding-left: 1em; padding-right: 1em; text-align: center; vertical-align: top\">0</td>\n",
       "        <td style=\"padding-left: 1em; padding-right: 1em; text-align: center; vertical-align: top\">0</td>\n",
       "        <td style=\"padding-left: 1em; padding-right: 1em; text-align: center; vertical-align: top\">0</td>\n",
       "        <td style=\"padding-left: 1em; padding-right: 1em; text-align: center; vertical-align: top\">2636.0</td>\n",
       "        <td style=\"padding-left: 1em; padding-right: 1em; text-align: center; vertical-align: top\">0.0</td>\n",
       "        <td style=\"padding-left: 1em; padding-right: 1em; text-align: center; vertical-align: top\">0.0</td>\n",
       "        <td style=\"padding-left: 1em; padding-right: 1em; text-align: center; vertical-align: top\">0.0</td>\n",
       "        <td style=\"padding-left: 1em; padding-right: 1em; text-align: center; vertical-align: top\">0.0</td>\n",
       "        <td style=\"padding-left: 1em; padding-right: 1em; text-align: center; vertical-align: top\">0.0</td>\n",
       "        <td style=\"padding-left: 1em; padding-right: 1em; text-align: center; vertical-align: top\">0.0</td>\n",
       "    </tr>\n",
       "    <tr>\n",
       "        <td style=\"padding-left: 1em; padding-right: 1em; text-align: center; vertical-align: top\">0</td>\n",
       "        <td style=\"padding-left: 1em; padding-right: 1em; text-align: center; vertical-align: top\">0</td>\n",
       "        <td style=\"padding-left: 1em; padding-right: 1em; text-align: center; vertical-align: top\">0</td>\n",
       "        <td style=\"padding-left: 1em; padding-right: 1em; text-align: center; vertical-align: top\">0.0</td>\n",
       "        <td style=\"padding-left: 1em; padding-right: 1em; text-align: center; vertical-align: top\">0.0</td>\n",
       "        <td style=\"padding-left: 1em; padding-right: 1em; text-align: center; vertical-align: top\">2624.0</td>\n",
       "        <td style=\"padding-left: 1em; padding-right: 1em; text-align: center; vertical-align: top\">0.0</td>\n",
       "        <td style=\"padding-left: 1em; padding-right: 1em; text-align: center; vertical-align: top\">0.0</td>\n",
       "        <td style=\"padding-left: 1em; padding-right: 1em; text-align: center; vertical-align: top\">0.0</td>\n",
       "        <td style=\"padding-left: 1em; padding-right: 1em; text-align: center; vertical-align: top\">0.0</td>\n",
       "    </tr>\n",
       "    <tr>\n",
       "        <td style=\"padding-left: 1em; padding-right: 1em; text-align: center; vertical-align: top\">0</td>\n",
       "        <td style=\"padding-left: 1em; padding-right: 1em; text-align: center; vertical-align: top\">0</td>\n",
       "        <td style=\"padding-left: 1em; padding-right: 1em; text-align: center; vertical-align: top\">0</td>\n",
       "        <td style=\"padding-left: 1em; padding-right: 1em; text-align: center; vertical-align: top\">86.0</td>\n",
       "        <td style=\"padding-left: 1em; padding-right: 1em; text-align: center; vertical-align: top\">0.0</td>\n",
       "        <td style=\"padding-left: 1em; padding-right: 1em; text-align: center; vertical-align: top\">0.0</td>\n",
       "        <td style=\"padding-left: 1em; padding-right: 1em; text-align: center; vertical-align: top\">0.0</td>\n",
       "        <td style=\"padding-left: 1em; padding-right: 1em; text-align: center; vertical-align: top\">0.0</td>\n",
       "        <td style=\"padding-left: 1em; padding-right: 1em; text-align: center; vertical-align: top\">0.0</td>\n",
       "        <td style=\"padding-left: 1em; padding-right: 1em; text-align: center; vertical-align: top\">0.0</td>\n",
       "    </tr>\n",
       "    <tr>\n",
       "        <td style=\"padding-left: 1em; padding-right: 1em; text-align: center; vertical-align: top\">0</td>\n",
       "        <td style=\"padding-left: 1em; padding-right: 1em; text-align: center; vertical-align: top\">0</td>\n",
       "        <td style=\"padding-left: 1em; padding-right: 1em; text-align: center; vertical-align: top\">0</td>\n",
       "        <td style=\"padding-left: 1em; padding-right: 1em; text-align: center; vertical-align: top\">20.0</td>\n",
       "        <td style=\"padding-left: 1em; padding-right: 1em; text-align: center; vertical-align: top\">0.0</td>\n",
       "        <td style=\"padding-left: 1em; padding-right: 1em; text-align: center; vertical-align: top\">0.0</td>\n",
       "        <td style=\"padding-left: 1em; padding-right: 1em; text-align: center; vertical-align: top\">0.0</td>\n",
       "        <td style=\"padding-left: 1em; padding-right: 1em; text-align: center; vertical-align: top\">0.0</td>\n",
       "        <td style=\"padding-left: 1em; padding-right: 1em; text-align: center; vertical-align: top\">0.0</td>\n",
       "        <td style=\"padding-left: 1em; padding-right: 1em; text-align: center; vertical-align: top\">0.0</td>\n",
       "    </tr>\n",
       "    <tr>\n",
       "        <td style=\"padding-left: 1em; padding-right: 1em; text-align: center; vertical-align: top\">0</td>\n",
       "        <td style=\"padding-left: 1em; padding-right: 1em; text-align: center; vertical-align: top\">0</td>\n",
       "        <td style=\"padding-left: 1em; padding-right: 1em; text-align: center; vertical-align: top\">0</td>\n",
       "        <td style=\"padding-left: 1em; padding-right: 1em; text-align: center; vertical-align: top\">2636.0</td>\n",
       "        <td style=\"padding-left: 1em; padding-right: 1em; text-align: center; vertical-align: top\">0.0</td>\n",
       "        <td style=\"padding-left: 1em; padding-right: 1em; text-align: center; vertical-align: top\">0.0</td>\n",
       "        <td style=\"padding-left: 1em; padding-right: 1em; text-align: center; vertical-align: top\">0.0</td>\n",
       "        <td style=\"padding-left: 1em; padding-right: 1em; text-align: center; vertical-align: top\">0.0</td>\n",
       "        <td style=\"padding-left: 1em; padding-right: 1em; text-align: center; vertical-align: top\">0.0</td>\n",
       "        <td style=\"padding-left: 1em; padding-right: 1em; text-align: center; vertical-align: top\">0.0</td>\n",
       "    </tr>\n",
       "    <tr>\n",
       "        <td style=\"padding-left: 1em; padding-right: 1em; text-align: center; vertical-align: top\">1</td>\n",
       "        <td style=\"padding-left: 1em; padding-right: 1em; text-align: center; vertical-align: top\">0</td>\n",
       "        <td style=\"padding-left: 1em; padding-right: 1em; text-align: center; vertical-align: top\">0</td>\n",
       "        <td style=\"padding-left: 1em; padding-right: 1em; text-align: center; vertical-align: top\">0.0</td>\n",
       "        <td style=\"padding-left: 1em; padding-right: 1em; text-align: center; vertical-align: top\">0.0</td>\n",
       "        <td style=\"padding-left: 1em; padding-right: 1em; text-align: center; vertical-align: top\">0.0</td>\n",
       "        <td style=\"padding-left: 1em; padding-right: 1em; text-align: center; vertical-align: top\">0.0</td>\n",
       "        <td style=\"padding-left: 1em; padding-right: 1em; text-align: center; vertical-align: top\">0.0</td>\n",
       "        <td style=\"padding-left: 1em; padding-right: 1em; text-align: center; vertical-align: top\">0.0</td>\n",
       "        <td style=\"padding-left: 1em; padding-right: 1em; text-align: center; vertical-align: top\">0.0</td>\n",
       "    </tr>\n",
       "    <tr>\n",
       "        <td style=\"padding-left: 1em; padding-right: 1em; text-align: center; vertical-align: top\">0</td>\n",
       "        <td style=\"padding-left: 1em; padding-right: 1em; text-align: center; vertical-align: top\">0</td>\n",
       "        <td style=\"padding-left: 1em; padding-right: 1em; text-align: center; vertical-align: top\">0</td>\n",
       "        <td style=\"padding-left: 1em; padding-right: 1em; text-align: center; vertical-align: top\">64.0</td>\n",
       "        <td style=\"padding-left: 1em; padding-right: 1em; text-align: center; vertical-align: top\">0.0</td>\n",
       "        <td style=\"padding-left: 1em; padding-right: 1em; text-align: center; vertical-align: top\">0.0</td>\n",
       "        <td style=\"padding-left: 1em; padding-right: 1em; text-align: center; vertical-align: top\">0.0</td>\n",
       "        <td style=\"padding-left: 1em; padding-right: 1em; text-align: center; vertical-align: top\">0.0</td>\n",
       "        <td style=\"padding-left: 1em; padding-right: 1em; text-align: center; vertical-align: top\">0.0</td>\n",
       "        <td style=\"padding-left: 1em; padding-right: 1em; text-align: center; vertical-align: top\">0.0</td>\n",
       "    </tr>\n",
       "    <tr>\n",
       "        <td style=\"padding-left: 1em; padding-right: 1em; text-align: center; vertical-align: top\">0</td>\n",
       "        <td style=\"padding-left: 1em; padding-right: 1em; text-align: center; vertical-align: top\">0</td>\n",
       "        <td style=\"padding-left: 1em; padding-right: 1em; text-align: center; vertical-align: top\">0</td>\n",
       "        <td style=\"padding-left: 1em; padding-right: 1em; text-align: center; vertical-align: top\">0.0</td>\n",
       "        <td style=\"padding-left: 1em; padding-right: 1em; text-align: center; vertical-align: top\">0.0</td>\n",
       "        <td style=\"padding-left: 1em; padding-right: 1em; text-align: center; vertical-align: top\">0.0</td>\n",
       "        <td style=\"padding-left: 1em; padding-right: 1em; text-align: center; vertical-align: top\">118.0</td>\n",
       "        <td style=\"padding-left: 1em; padding-right: 1em; text-align: center; vertical-align: top\">0.0</td>\n",
       "        <td style=\"padding-left: 1em; padding-right: 1em; text-align: center; vertical-align: top\">0.0</td>\n",
       "        <td style=\"padding-left: 1em; padding-right: 1em; text-align: center; vertical-align: top\">0.0</td>\n",
       "    </tr>\n",
       "    <tr>\n",
       "        <td style=\"padding-left: 1em; padding-right: 1em; text-align: center; vertical-align: top\">1</td>\n",
       "        <td style=\"padding-left: 1em; padding-right: 1em; text-align: center; vertical-align: top\">0</td>\n",
       "        <td style=\"padding-left: 1em; padding-right: 1em; text-align: center; vertical-align: top\">0</td>\n",
       "        <td style=\"padding-left: 1em; padding-right: 1em; text-align: center; vertical-align: top\">0.0</td>\n",
       "        <td style=\"padding-left: 1em; padding-right: 1em; text-align: center; vertical-align: top\">0.0</td>\n",
       "        <td style=\"padding-left: 1em; padding-right: 1em; text-align: center; vertical-align: top\">0.0</td>\n",
       "        <td style=\"padding-left: 1em; padding-right: 1em; text-align: center; vertical-align: top\">0.0</td>\n",
       "        <td style=\"padding-left: 1em; padding-right: 1em; text-align: center; vertical-align: top\">0.0</td>\n",
       "        <td style=\"padding-left: 1em; padding-right: 1em; text-align: center; vertical-align: top\">0.0</td>\n",
       "        <td style=\"padding-left: 1em; padding-right: 1em; text-align: center; vertical-align: top\">0.0</td>\n",
       "    </tr>\n",
       "    <tr>\n",
       "        <td style=\"padding-left: 1em; padding-right: 1em; text-align: center; vertical-align: top\">0</td>\n",
       "        <td style=\"padding-left: 1em; padding-right: 1em; text-align: center; vertical-align: top\">0</td>\n",
       "        <td style=\"padding-left: 1em; padding-right: 1em; text-align: center; vertical-align: top\">0</td>\n",
       "        <td style=\"padding-left: 1em; padding-right: 1em; text-align: center; vertical-align: top\">0.0</td>\n",
       "        <td style=\"padding-left: 1em; padding-right: 1em; text-align: center; vertical-align: top\">0.0</td>\n",
       "        <td style=\"padding-left: 1em; padding-right: 1em; text-align: center; vertical-align: top\">0.0</td>\n",
       "        <td style=\"padding-left: 1em; padding-right: 1em; text-align: center; vertical-align: top\">0.0</td>\n",
       "        <td style=\"padding-left: 1em; padding-right: 1em; text-align: center; vertical-align: top\">2322.0</td>\n",
       "        <td style=\"padding-left: 1em; padding-right: 1em; text-align: center; vertical-align: top\">0.0</td>\n",
       "        <td style=\"padding-left: 1em; padding-right: 1em; text-align: center; vertical-align: top\">0.0</td>\n",
       "    </tr>\n",
       "</table>\n",
       "<table frame=\"box\" rules=\"cols\">\n",
       "    <tr>\n",
       "        <th style=\"padding-left: 1em; padding-right: 1em; text-align: center\">sql_views</th>\n",
       "        <th style=\"padding-left: 1em; padding-right: 1em; text-align: center\">azure_views</th>\n",
       "        <th style=\"padding-left: 1em; padding-right: 1em; text-align: center\">ceh_views</th>\n",
       "        <th style=\"padding-left: 1em; padding-right: 1em; text-align: center\">key</th>\n",
       "        <th style=\"padding-left: 1em; padding-right: 1em; text-align: center\">lda</th>\n",
       "    </tr>\n",
       "    <tr>\n",
       "        <td style=\"padding-left: 1em; padding-right: 1em; text-align: center; vertical-align: top\">0.0</td>\n",
       "        <td style=\"padding-left: 1em; padding-right: 1em; text-align: center; vertical-align: top\">0.0</td>\n",
       "        <td style=\"padding-left: 1em; padding-right: 1em; text-align: center; vertical-align: top\">0.0</td>\n",
       "        <td style=\"padding-left: 1em; padding-right: 1em; text-align: center; vertical-align: top\">0</td>\n",
       "        <td style=\"padding-left: 1em; padding-right: 1em; text-align: center; vertical-align: top\">[0.0769230769231,<br>0.0769230769231, ...</td>\n",
       "    </tr>\n",
       "    <tr>\n",
       "        <td style=\"padding-left: 1em; padding-right: 1em; text-align: center; vertical-align: top\">0.0</td>\n",
       "        <td style=\"padding-left: 1em; padding-right: 1em; text-align: center; vertical-align: top\">0.0</td>\n",
       "        <td style=\"padding-left: 1em; padding-right: 1em; text-align: center; vertical-align: top\">0.0</td>\n",
       "        <td style=\"padding-left: 1em; padding-right: 1em; text-align: center; vertical-align: top\">1</td>\n",
       "        <td style=\"padding-left: 1em; padding-right: 1em; text-align: center; vertical-align: top\">[0.0806451612903,<br>0.0806451612903, ...</td>\n",
       "    </tr>\n",
       "    <tr>\n",
       "        <td style=\"padding-left: 1em; padding-right: 1em; text-align: center; vertical-align: top\">0.0</td>\n",
       "        <td style=\"padding-left: 1em; padding-right: 1em; text-align: center; vertical-align: top\">0.0</td>\n",
       "        <td style=\"padding-left: 1em; padding-right: 1em; text-align: center; vertical-align: top\">0.0</td>\n",
       "        <td style=\"padding-left: 1em; padding-right: 1em; text-align: center; vertical-align: top\">2</td>\n",
       "        <td style=\"padding-left: 1em; padding-right: 1em; text-align: center; vertical-align: top\">[0.101694915254,<br>0.118644067797, ...</td>\n",
       "    </tr>\n",
       "    <tr>\n",
       "        <td style=\"padding-left: 1em; padding-right: 1em; text-align: center; vertical-align: top\">0.0</td>\n",
       "        <td style=\"padding-left: 1em; padding-right: 1em; text-align: center; vertical-align: top\">0.0</td>\n",
       "        <td style=\"padding-left: 1em; padding-right: 1em; text-align: center; vertical-align: top\">0.0</td>\n",
       "        <td style=\"padding-left: 1em; padding-right: 1em; text-align: center; vertical-align: top\">3</td>\n",
       "        <td style=\"padding-left: 1em; padding-right: 1em; text-align: center; vertical-align: top\">[0.0847457627119,<br>0.0847457627119, ...</td>\n",
       "    </tr>\n",
       "    <tr>\n",
       "        <td style=\"padding-left: 1em; padding-right: 1em; text-align: center; vertical-align: top\">0.0</td>\n",
       "        <td style=\"padding-left: 1em; padding-right: 1em; text-align: center; vertical-align: top\">0.0</td>\n",
       "        <td style=\"padding-left: 1em; padding-right: 1em; text-align: center; vertical-align: top\">0.0</td>\n",
       "        <td style=\"padding-left: 1em; padding-right: 1em; text-align: center; vertical-align: top\">4</td>\n",
       "        <td style=\"padding-left: 1em; padding-right: 1em; text-align: center; vertical-align: top\">[0.0769230769231,<br>0.0769230769231, ...</td>\n",
       "    </tr>\n",
       "    <tr>\n",
       "        <td style=\"padding-left: 1em; padding-right: 1em; text-align: center; vertical-align: top\">630.0</td>\n",
       "        <td style=\"padding-left: 1em; padding-right: 1em; text-align: center; vertical-align: top\">0.0</td>\n",
       "        <td style=\"padding-left: 1em; padding-right: 1em; text-align: center; vertical-align: top\">0.0</td>\n",
       "        <td style=\"padding-left: 1em; padding-right: 1em; text-align: center; vertical-align: top\">5</td>\n",
       "        <td style=\"padding-left: 1em; padding-right: 1em; text-align: center; vertical-align: top\">[0.323529411765,<br>0.0735294117647, ...</td>\n",
       "    </tr>\n",
       "    <tr>\n",
       "        <td style=\"padding-left: 1em; padding-right: 1em; text-align: center; vertical-align: top\">0.0</td>\n",
       "        <td style=\"padding-left: 1em; padding-right: 1em; text-align: center; vertical-align: top\">0.0</td>\n",
       "        <td style=\"padding-left: 1em; padding-right: 1em; text-align: center; vertical-align: top\">0.0</td>\n",
       "        <td style=\"padding-left: 1em; padding-right: 1em; text-align: center; vertical-align: top\">6</td>\n",
       "        <td style=\"padding-left: 1em; padding-right: 1em; text-align: center; vertical-align: top\">[0.0857142857143,<br>0.128571428571, 0.1, ...</td>\n",
       "    </tr>\n",
       "    <tr>\n",
       "        <td style=\"padding-left: 1em; padding-right: 1em; text-align: center; vertical-align: top\">0.0</td>\n",
       "        <td style=\"padding-left: 1em; padding-right: 1em; text-align: center; vertical-align: top\">0.0</td>\n",
       "        <td style=\"padding-left: 1em; padding-right: 1em; text-align: center; vertical-align: top\">0.0</td>\n",
       "        <td style=\"padding-left: 1em; padding-right: 1em; text-align: center; vertical-align: top\">7</td>\n",
       "        <td style=\"padding-left: 1em; padding-right: 1em; text-align: center; vertical-align: top\">[0.103448275862,<br>0.0862068965517, ...</td>\n",
       "    </tr>\n",
       "    <tr>\n",
       "        <td style=\"padding-left: 1em; padding-right: 1em; text-align: center; vertical-align: top\">179.0</td>\n",
       "        <td style=\"padding-left: 1em; padding-right: 1em; text-align: center; vertical-align: top\">0.0</td>\n",
       "        <td style=\"padding-left: 1em; padding-right: 1em; text-align: center; vertical-align: top\">0.0</td>\n",
       "        <td style=\"padding-left: 1em; padding-right: 1em; text-align: center; vertical-align: top\">8</td>\n",
       "        <td style=\"padding-left: 1em; padding-right: 1em; text-align: center; vertical-align: top\">[0.0819672131148,<br>0.0819672131148, ...</td>\n",
       "    </tr>\n",
       "    <tr>\n",
       "        <td style=\"padding-left: 1em; padding-right: 1em; text-align: center; vertical-align: top\">0.0</td>\n",
       "        <td style=\"padding-left: 1em; padding-right: 1em; text-align: center; vertical-align: top\">0.0</td>\n",
       "        <td style=\"padding-left: 1em; padding-right: 1em; text-align: center; vertical-align: top\">0.0</td>\n",
       "        <td style=\"padding-left: 1em; padding-right: 1em; text-align: center; vertical-align: top\">9</td>\n",
       "        <td style=\"padding-left: 1em; padding-right: 1em; text-align: center; vertical-align: top\">[0.0847457627119,<br>0.101694915254, ...</td>\n",
       "    </tr>\n",
       "</table>\n",
       "[10 rows x 32 columns]<br/>\n",
       "</div>"
      ],
      "text/plain": [
       "Columns:\n",
       "\ttext\tstr\n",
       "\tuser_lang\tstr\n",
       "\tlocation\tstr\n",
       "\thashtags\tlist\n",
       "\tretweet\tint\n",
       "\tn_retweet\tfloat\n",
       "\tn_followers\tfloat\n",
       "\tn_friends\tfloat\n",
       "\tname\tstr\n",
       "\tcoords\tdict\n",
       "\tCisco\tint\n",
       "\tCCNA\tint\n",
       "\tAWS\tint\n",
       "\tSharepoint\tint\n",
       "\tlinux\tint\n",
       "\tpowershell\tint\n",
       "\titil\tint\n",
       "\tsql\tint\n",
       "\tazure\tint\n",
       "\tceh\tint\n",
       "\tCisco_views\tfloat\n",
       "\tCCNA_views\tfloat\n",
       "\tAWS_views\tfloat\n",
       "\tSharepoint_views\tfloat\n",
       "\tlinux_views\tfloat\n",
       "\tpowershell_views\tfloat\n",
       "\titil_views\tfloat\n",
       "\tsql_views\tfloat\n",
       "\tazure_views\tfloat\n",
       "\tceh_views\tfloat\n",
       "\tkey\tint\n",
       "\tlda\tarray\n",
       "\n",
       "Rows: 10\n",
       "\n",
       "Data:\n",
       "+-------------------------------+-----------+-------------------------+\n",
       "|              text             | user_lang |         location        |\n",
       "+-------------------------------+-----------+-------------------------+\n",
       "| yNewsbot: Bugtraq: #Cisco ... |     en    | tryingto #^fi~{|__#}%%* |\n",
       "| RT @mims: Amazon is going ... |     en    |           None          |\n",
       "| #Cisco Battles Shadow Brok... |     en    |      San Mateo, CA      |\n",
       "| #Cisco Battles Shadow Brok... |     en    |      San Mateo, CA      |\n",
       "| yNewsbot: Bugtraq: #Cisco ... |     en    | tryingto #^fi~{|__#}%%* |\n",
       "| RT @entertainscape: Umm . ... |     en    |       Montreal, QC      |\n",
       "| Fui baixar o arquivo do or... |     pt    | saint bernard of field. |\n",
       "| Download Large Files from ... |     en    |      Kolkata, India     |\n",
       "| #TengoUnAmigoQue le pone e... |     es    |      Tepic, Mexico      |\n",
       "| Microsoft y Lenovo impiden... |     es    |        Venezuela        |\n",
       "+-------------------------------+-----------+-------------------------+\n",
       "+-------------------------------+---------+-----------+-------------+-----------+\n",
       "|            hashtags           | retweet | n_retweet | n_followers | n_friends |\n",
       "+-------------------------------+---------+-----------+-------------+-----------+\n",
       "| [{'indices': array('d', [1... |    0    |    0.0    |    2636.0   |   1084.0  |\n",
       "|               []              |    0    |    0.0    |    2624.0   |   4916.0  |\n",
       "| [{'indices': array('d', [0... |    0    |    0.0    |     86.0    |    2.0    |\n",
       "| [{'indices': array('d', [0... |    0    |    0.0    |     20.0    |    2.0    |\n",
       "| [{'indices': array('d', [1... |    0    |    0.0    |    2636.0   |   1084.0  |\n",
       "|               []              |    0    |    0.0    |    630.0    |   486.0   |\n",
       "|               []              |    0    |    0.0    |     64.0    |   206.0   |\n",
       "| [{'indices': array('d', [6... |    0    |    0.0    |    118.0    |   399.0   |\n",
       "| [{'indices': array('d', [0... |    0    |    0.0    |    179.0    |   619.0   |\n",
       "|               []              |    0    |    0.0    |    2322.0   |   2216.0  |\n",
       "+-------------------------------+---------+-----------+-------------+-----------+\n",
       "+--------------------+--------+-------+------+-----+------------+-------+------------+\n",
       "|        name        | coords | Cisco | CCNA | AWS | Sharepoint | linux | powershell |\n",
       "+--------------------+--------+-------+------+-----+------------+-------+------------+\n",
       "|  ❌Siraj Solution❌  |  None  |   1   |  0   |  0  |     0      |   0   |     0      |\n",
       "| Leroy Wesley Annon |  None  |   0   |  0   |  1  |     0      |   0   |     0      |\n",
       "|  Networking News   |  None  |   1   |  0   |  0  |     0      |   0   |     0      |\n",
       "| Communication News |  None  |   1   |  0   |  0  |     0      |   0   |     0      |\n",
       "|  ❌Siraj Solution❌  |  None  |   1   |  0   |  0  |     0      |   0   |     0      |\n",
       "|  Maxime Rouiller   |  None  |   0   |  0   |  0  |     0      |   0   |     0      |\n",
       "|      Yuri P.       |  None  |   1   |  0   |  0  |     0      |   0   |     0      |\n",
       "| piyush kumar singh |  None  |   0   |  0   |  0  |     1      |   0   |     0      |\n",
       "|    Rafa Arreola    |  None  |   0   |  0   |  0  |     0      |   0   |     0      |\n",
       "|  Wolgfang Chacon   |  None  |   0   |  0   |  0  |     0      |   1   |     0      |\n",
       "+--------------------+--------+-------+------+-----+------------+-------+------------+\n",
       "+------+-----+-------+-----+-----+\n",
       "| itil | sql | azure | ceh | ... |\n",
       "+------+-----+-------+-----+-----+\n",
       "|  0   |  0  |   0   |  0  | ... |\n",
       "|  0   |  0  |   0   |  0  | ... |\n",
       "|  0   |  0  |   0   |  0  | ... |\n",
       "|  0   |  0  |   0   |  0  | ... |\n",
       "|  0   |  0  |   0   |  0  | ... |\n",
       "|  0   |  1  |   0   |  0  | ... |\n",
       "|  0   |  0  |   0   |  0  | ... |\n",
       "|  0   |  0  |   0   |  0  | ... |\n",
       "|  0   |  1  |   0   |  0  | ... |\n",
       "|  0   |  0  |   0   |  0  | ... |\n",
       "+------+-----+-------+-----+-----+\n",
       "[10 rows x 32 columns]"
      ]
     },
     "execution_count": 289,
     "metadata": {},
     "output_type": "execute_result"
    }
   ],
   "source": [
    "df2['key'] = range(df2.shape[0])\n",
    "df2.head()"
   ]
  },
  {
   "cell_type": "code",
   "execution_count": 290,
   "metadata": {
    "collapsed": false
   },
   "outputs": [
    {
     "data": {
      "text/html": [
       "<pre>Starting brute force nearest neighbors model training.</pre>"
      ],
      "text/plain": [
       "Starting brute force nearest neighbors model training."
      ]
     },
     "metadata": {},
     "output_type": "display_data"
    }
   ],
   "source": [
    "model_lda_rep = gl.nearest_neighbors.create(\n",
    "    df2, label = 'key', features = ['lda'], method = 'brute_force', distance = 'cosine')"
   ]
  },
  {
   "cell_type": "code",
   "execution_count": 291,
   "metadata": {
    "collapsed": false
   },
   "outputs": [
    {
     "data": {
      "text/html": [
       "<pre>Starting pairwise querying.</pre>"
      ],
      "text/plain": [
       "Starting pairwise querying."
      ]
     },
     "metadata": {},
     "output_type": "display_data"
    },
    {
     "data": {
      "text/html": [
       "<pre>+--------------+---------+-------------+--------------+</pre>"
      ],
      "text/plain": [
       "+--------------+---------+-------------+--------------+"
      ]
     },
     "metadata": {},
     "output_type": "display_data"
    },
    {
     "data": {
      "text/html": [
       "<pre>| Query points | # Pairs | % Complete. | Elapsed Time |</pre>"
      ],
      "text/plain": [
       "| Query points | # Pairs | % Complete. | Elapsed Time |"
      ]
     },
     "metadata": {},
     "output_type": "display_data"
    },
    {
     "data": {
      "text/html": [
       "<pre>+--------------+---------+-------------+--------------+</pre>"
      ],
      "text/plain": [
       "+--------------+---------+-------------+--------------+"
      ]
     },
     "metadata": {},
     "output_type": "display_data"
    },
    {
     "data": {
      "text/html": [
       "<pre>| 0            | 1       | 0.023084    | 1.081ms      |</pre>"
      ],
      "text/plain": [
       "| 0            | 1       | 0.023084    | 1.081ms      |"
      ]
     },
     "metadata": {},
     "output_type": "display_data"
    },
    {
     "data": {
      "text/html": [
       "<pre>| Done         |         | 100         | 3.879ms      |</pre>"
      ],
      "text/plain": [
       "| Done         |         | 100         | 3.879ms      |"
      ]
     },
     "metadata": {},
     "output_type": "display_data"
    },
    {
     "data": {
      "text/html": [
       "<pre>+--------------+---------+-------------+--------------+</pre>"
      ],
      "text/plain": [
       "+--------------+---------+-------------+--------------+"
      ]
     },
     "metadata": {},
     "output_type": "display_data"
    },
    {
     "data": {
      "text/html": [
       "<div style=\"max-height:1000px;max-width:1500px;overflow:auto;\"><table frame=\"box\" rules=\"cols\">\n",
       "    <tr>\n",
       "        <th style=\"padding-left: 1em; padding-right: 1em; text-align: center\">query_label</th>\n",
       "        <th style=\"padding-left: 1em; padding-right: 1em; text-align: center\">reference_label</th>\n",
       "        <th style=\"padding-left: 1em; padding-right: 1em; text-align: center\">distance</th>\n",
       "        <th style=\"padding-left: 1em; padding-right: 1em; text-align: center\">rank</th>\n",
       "    </tr>\n",
       "    <tr>\n",
       "        <td style=\"padding-left: 1em; padding-right: 1em; text-align: center; vertical-align: top\">0</td>\n",
       "        <td style=\"padding-left: 1em; padding-right: 1em; text-align: center; vertical-align: top\">0</td>\n",
       "        <td style=\"padding-left: 1em; padding-right: 1em; text-align: center; vertical-align: top\">0.0</td>\n",
       "        <td style=\"padding-left: 1em; padding-right: 1em; text-align: center; vertical-align: top\">1</td>\n",
       "    </tr>\n",
       "    <tr>\n",
       "        <td style=\"padding-left: 1em; padding-right: 1em; text-align: center; vertical-align: top\">0</td>\n",
       "        <td style=\"padding-left: 1em; padding-right: 1em; text-align: center; vertical-align: top\">767</td>\n",
       "        <td style=\"padding-left: 1em; padding-right: 1em; text-align: center; vertical-align: top\">0.00085547000127</td>\n",
       "        <td style=\"padding-left: 1em; padding-right: 1em; text-align: center; vertical-align: top\">2</td>\n",
       "    </tr>\n",
       "    <tr>\n",
       "        <td style=\"padding-left: 1em; padding-right: 1em; text-align: center; vertical-align: top\">0</td>\n",
       "        <td style=\"padding-left: 1em; padding-right: 1em; text-align: center; vertical-align: top\">2644</td>\n",
       "        <td style=\"padding-left: 1em; padding-right: 1em; text-align: center; vertical-align: top\">0.00102727393232</td>\n",
       "        <td style=\"padding-left: 1em; padding-right: 1em; text-align: center; vertical-align: top\">3</td>\n",
       "    </tr>\n",
       "    <tr>\n",
       "        <td style=\"padding-left: 1em; padding-right: 1em; text-align: center; vertical-align: top\">0</td>\n",
       "        <td style=\"padding-left: 1em; padding-right: 1em; text-align: center; vertical-align: top\">4092</td>\n",
       "        <td style=\"padding-left: 1em; padding-right: 1em; text-align: center; vertical-align: top\">0.00102727393232</td>\n",
       "        <td style=\"padding-left: 1em; padding-right: 1em; text-align: center; vertical-align: top\">4</td>\n",
       "    </tr>\n",
       "    <tr>\n",
       "        <td style=\"padding-left: 1em; padding-right: 1em; text-align: center; vertical-align: top\">0</td>\n",
       "        <td style=\"padding-left: 1em; padding-right: 1em; text-align: center; vertical-align: top\">2646</td>\n",
       "        <td style=\"padding-left: 1em; padding-right: 1em; text-align: center; vertical-align: top\">0.00148740990541</td>\n",
       "        <td style=\"padding-left: 1em; padding-right: 1em; text-align: center; vertical-align: top\">5</td>\n",
       "    </tr>\n",
       "    <tr>\n",
       "        <td style=\"padding-left: 1em; padding-right: 1em; text-align: center; vertical-align: top\">0</td>\n",
       "        <td style=\"padding-left: 1em; padding-right: 1em; text-align: center; vertical-align: top\">3313</td>\n",
       "        <td style=\"padding-left: 1em; padding-right: 1em; text-align: center; vertical-align: top\">0.00148740990541</td>\n",
       "        <td style=\"padding-left: 1em; padding-right: 1em; text-align: center; vertical-align: top\">6</td>\n",
       "    </tr>\n",
       "    <tr>\n",
       "        <td style=\"padding-left: 1em; padding-right: 1em; text-align: center; vertical-align: top\">0</td>\n",
       "        <td style=\"padding-left: 1em; padding-right: 1em; text-align: center; vertical-align: top\">2645</td>\n",
       "        <td style=\"padding-left: 1em; padding-right: 1em; text-align: center; vertical-align: top\">0.00165541389916</td>\n",
       "        <td style=\"padding-left: 1em; padding-right: 1em; text-align: center; vertical-align: top\">7</td>\n",
       "    </tr>\n",
       "    <tr>\n",
       "        <td style=\"padding-left: 1em; padding-right: 1em; text-align: center; vertical-align: top\">0</td>\n",
       "        <td style=\"padding-left: 1em; padding-right: 1em; text-align: center; vertical-align: top\">2838</td>\n",
       "        <td style=\"padding-left: 1em; padding-right: 1em; text-align: center; vertical-align: top\">0.00165541389916</td>\n",
       "        <td style=\"padding-left: 1em; padding-right: 1em; text-align: center; vertical-align: top\">8</td>\n",
       "    </tr>\n",
       "    <tr>\n",
       "        <td style=\"padding-left: 1em; padding-right: 1em; text-align: center; vertical-align: top\">0</td>\n",
       "        <td style=\"padding-left: 1em; padding-right: 1em; text-align: center; vertical-align: top\">38</td>\n",
       "        <td style=\"padding-left: 1em; padding-right: 1em; text-align: center; vertical-align: top\">0.00182315557289</td>\n",
       "        <td style=\"padding-left: 1em; padding-right: 1em; text-align: center; vertical-align: top\">9</td>\n",
       "    </tr>\n",
       "    <tr>\n",
       "        <td style=\"padding-left: 1em; padding-right: 1em; text-align: center; vertical-align: top\">0</td>\n",
       "        <td style=\"padding-left: 1em; padding-right: 1em; text-align: center; vertical-align: top\">2647</td>\n",
       "        <td style=\"padding-left: 1em; padding-right: 1em; text-align: center; vertical-align: top\">0.00183173155267</td>\n",
       "        <td style=\"padding-left: 1em; padding-right: 1em; text-align: center; vertical-align: top\">10</td>\n",
       "    </tr>\n",
       "</table>\n",
       "[10 rows x 4 columns]<br/>\n",
       "</div>"
      ],
      "text/plain": [
       "Columns:\n",
       "\tquery_label\tint\n",
       "\treference_label\tint\n",
       "\tdistance\tfloat\n",
       "\trank\tint\n",
       "\n",
       "Rows: 10\n",
       "\n",
       "Data:\n",
       "+-------------+-----------------+------------------+------+\n",
       "| query_label | reference_label |     distance     | rank |\n",
       "+-------------+-----------------+------------------+------+\n",
       "|      0      |        0        |       0.0        |  1   |\n",
       "|      0      |       767       | 0.00085547000127 |  2   |\n",
       "|      0      |       2644      | 0.00102727393232 |  3   |\n",
       "|      0      |       4092      | 0.00102727393232 |  4   |\n",
       "|      0      |       2646      | 0.00148740990541 |  5   |\n",
       "|      0      |       3313      | 0.00148740990541 |  6   |\n",
       "|      0      |       2645      | 0.00165541389916 |  7   |\n",
       "|      0      |       2838      | 0.00165541389916 |  8   |\n",
       "|      0      |        38       | 0.00182315557289 |  9   |\n",
       "|      0      |       2647      | 0.00183173155267 |  10  |\n",
       "+-------------+-----------------+------------------+------+\n",
       "[10 rows x 4 columns]"
      ]
     },
     "execution_count": 291,
     "metadata": {},
     "output_type": "execute_result"
    }
   ],
   "source": [
    "#model_lda_rep.query(wiki[wiki['name'] == 'Paul Krugman'], label = 'name', k = 10)\n",
    "model_lda_rep.query(df2[df2['key'] == 0], label = 'key', k = 10)"
   ]
  },
  {
   "cell_type": "markdown",
   "metadata": {},
   "source": [
    "So, for example, we can see that the relative to tweet 0 (the first row of our dataframe), tweet 767 is deemed the most similar, followed by tweet 2644.  Compare:"
   ]
  },
  {
   "cell_type": "code",
   "execution_count": 296,
   "metadata": {
    "collapsed": false
   },
   "outputs": [
    {
     "data": {
      "text/plain": [
       "'yNewsbot: Bugtraq: #Cisco #Security #Advisory: Cisco IOS XE Software NAT Denial of Service Vulnerability https://t.co/UUd7Iqs5hL/s/B7wy #...'"
      ]
     },
     "execution_count": 296,
     "metadata": {},
     "output_type": "execute_result"
    }
   ],
   "source": [
    "df2['text'][0]"
   ]
  },
  {
   "cell_type": "code",
   "execution_count": 297,
   "metadata": {
    "collapsed": false
   },
   "outputs": [
    {
     "data": {
      "text/plain": [
       "': Bugtraq: #Cisco #Security #Advisory: Cisco IOS and IOS XE Software Multicast Routing Denial of Service V... https://t.co/yf1mihWYhx/......'"
      ]
     },
     "execution_count": 297,
     "metadata": {},
     "output_type": "execute_result"
    }
   ],
   "source": [
    "df2['text'][767]"
   ]
  },
  {
   "cell_type": "code",
   "execution_count": 298,
   "metadata": {
    "collapsed": false
   },
   "outputs": [
    {
     "data": {
      "text/plain": [
       "'Vuln: Cisco IOS and IOS XE Software CVE-2016-6393 Denial of Service Vulnerability https://t.co/D35h8hq4NE #Security #Vulnerabilities'"
      ]
     },
     "execution_count": 298,
     "metadata": {},
     "output_type": "execute_result"
    }
   ],
   "source": [
    "df2['text'][2644]"
   ]
  },
  {
   "cell_type": "code",
   "execution_count": 299,
   "metadata": {
    "collapsed": false
   },
   "outputs": [
    {
     "data": {
      "text/plain": [
       "'Advisory - Cisco IOS and IOS XE Software Smart Install Memory Leak Vulnerability https://t.co/yys8euS3rt'"
      ]
     },
     "execution_count": 299,
     "metadata": {},
     "output_type": "execute_result"
    }
   ],
   "source": [
    "df2['text'][4092]"
   ]
  },
  {
   "cell_type": "markdown",
   "metadata": {},
   "source": [
    "And indeed! We can see that all of these tweets are very similar in content."
   ]
  }
 ],
 "metadata": {
  "kernelspec": {
   "display_name": "Python 2",
   "language": "python",
   "name": "python2"
  },
  "language_info": {
   "codemirror_mode": {
    "name": "ipython",
    "version": 2
   },
   "file_extension": ".py",
   "mimetype": "text/x-python",
   "name": "python",
   "nbconvert_exporter": "python",
   "pygments_lexer": "ipython2",
   "version": "2.7.12"
  }
 },
 "nbformat": 4,
 "nbformat_minor": 0
}
