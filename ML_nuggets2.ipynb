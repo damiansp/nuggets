{
 "cells": [
  {
   "cell_type": "code",
   "execution_count": 1,
   "metadata": {
    "collapsed": true
   },
   "outputs": [],
   "source": [
    "from __future__ import division\n",
    "import matplotlib.pyplot as plt\n",
    "import numpy as np\n",
    "import pandas as pd\n",
    "from scipy.stats.stats import pearsonr \n",
    "from sklearn.cross_validation import cross_val_score, train_test_split\n",
    "#from sklearn.decomposition import KernelPCA\n",
    "#from sklearn.grid_search import GridSearchCV\n",
    "from sklearn.learning_curve import learning_curve, validation_curve\n",
    "from sklearn.linear_model import Lasso, LinearRegression, Ridge\n",
    "from sklearn.pipeline import Pipeline\n",
    "\n",
    "%matplotlib inline"
   ]
  },
  {
   "cell_type": "code",
   "execution_count": 2,
   "metadata": {
    "collapsed": false
   },
   "outputs": [
    {
     "data": {
      "text/html": [
       "<div>\n",
       "<table border=\"1\" class=\"dataframe\">\n",
       "  <thead>\n",
       "    <tr style=\"text-align: right;\">\n",
       "      <th></th>\n",
       "      <th>revenue</th>\n",
       "      <th>weekno</th>\n",
       "      <th>highseason</th>\n",
       "      <th>holiday</th>\n",
       "      <th>displayimp</th>\n",
       "      <th>displaylag</th>\n",
       "      <th>brandpaid</th>\n",
       "      <th>brandclicks</th>\n",
       "      <th>nonbrandpaid</th>\n",
       "      <th>nonbrandclicks</th>\n",
       "      <th>...</th>\n",
       "      <th>logSocialpostlag</th>\n",
       "      <th>organicnew2</th>\n",
       "      <th>logOrganicnew</th>\n",
       "      <th>blognewusers2</th>\n",
       "      <th>blognewusersRecip</th>\n",
       "      <th>Fbpostimplag2</th>\n",
       "      <th>weekOfYear2</th>\n",
       "      <th>sinWeekOfYear</th>\n",
       "      <th>Twpostimp2</th>\n",
       "      <th>logTwpostimp</th>\n",
       "    </tr>\n",
       "  </thead>\n",
       "  <tbody>\n",
       "    <tr>\n",
       "      <th>0</th>\n",
       "      <td>178480</td>\n",
       "      <td>1</td>\n",
       "      <td>1</td>\n",
       "      <td>0</td>\n",
       "      <td>987718</td>\n",
       "      <td>983958.0000</td>\n",
       "      <td>31589</td>\n",
       "      <td>4715</td>\n",
       "      <td>105901</td>\n",
       "      <td>1519</td>\n",
       "      <td>...</td>\n",
       "      <td>198063.75</td>\n",
       "      <td>574369156</td>\n",
       "      <td>10.084391</td>\n",
       "      <td>3717184</td>\n",
       "      <td>0.000519</td>\n",
       "      <td>23343103440</td>\n",
       "      <td>25</td>\n",
       "      <td>0.822984</td>\n",
       "      <td>2245432996</td>\n",
       "      <td>10.766082</td>\n",
       "    </tr>\n",
       "    <tr>\n",
       "      <th>1</th>\n",
       "      <td>185390</td>\n",
       "      <td>2</td>\n",
       "      <td>1</td>\n",
       "      <td>0</td>\n",
       "      <td>660136</td>\n",
       "      <td>907388.9167</td>\n",
       "      <td>30428</td>\n",
       "      <td>4540</td>\n",
       "      <td>108652</td>\n",
       "      <td>1589</td>\n",
       "      <td>...</td>\n",
       "      <td>196355.00</td>\n",
       "      <td>600740100</td>\n",
       "      <td>10.106836</td>\n",
       "      <td>4137156</td>\n",
       "      <td>0.000492</td>\n",
       "      <td>21755266688</td>\n",
       "      <td>36</td>\n",
       "      <td>0.748511</td>\n",
       "      <td>8690900625</td>\n",
       "      <td>11.442771</td>\n",
       "    </tr>\n",
       "    <tr>\n",
       "      <th>2</th>\n",
       "      <td>178130</td>\n",
       "      <td>3</td>\n",
       "      <td>1</td>\n",
       "      <td>0</td>\n",
       "      <td>604606</td>\n",
       "      <td>852862.4167</td>\n",
       "      <td>30715</td>\n",
       "      <td>4417</td>\n",
       "      <td>119398</td>\n",
       "      <td>1595</td>\n",
       "      <td>...</td>\n",
       "      <td>194301.80</td>\n",
       "      <td>664144441</td>\n",
       "      <td>10.157005</td>\n",
       "      <td>10569001</td>\n",
       "      <td>0.000308</td>\n",
       "      <td>22414206939</td>\n",
       "      <td>49</td>\n",
       "      <td>0.663123</td>\n",
       "      <td>42966656656</td>\n",
       "      <td>12.241845</td>\n",
       "    </tr>\n",
       "    <tr>\n",
       "      <th>3</th>\n",
       "      <td>185020</td>\n",
       "      <td>4</td>\n",
       "      <td>1</td>\n",
       "      <td>0</td>\n",
       "      <td>560656</td>\n",
       "      <td>851885.3333</td>\n",
       "      <td>31632</td>\n",
       "      <td>4372</td>\n",
       "      <td>134819</td>\n",
       "      <td>1606</td>\n",
       "      <td>...</td>\n",
       "      <td>196355.00</td>\n",
       "      <td>679540624</td>\n",
       "      <td>10.168464</td>\n",
       "      <td>37601424</td>\n",
       "      <td>0.000163</td>\n",
       "      <td>21358244109</td>\n",
       "      <td>64</td>\n",
       "      <td>0.568065</td>\n",
       "      <td>4117917241</td>\n",
       "      <td>11.069307</td>\n",
       "    </tr>\n",
       "    <tr>\n",
       "      <th>4</th>\n",
       "      <td>170950</td>\n",
       "      <td>5</td>\n",
       "      <td>1</td>\n",
       "      <td>0</td>\n",
       "      <td>326112</td>\n",
       "      <td>827164.4167</td>\n",
       "      <td>NaN</td>\n",
       "      <td>4431</td>\n",
       "      <td>115865</td>\n",
       "      <td>1522</td>\n",
       "      <td>...</td>\n",
       "      <td>216089.00</td>\n",
       "      <td>581533225</td>\n",
       "      <td>10.090589</td>\n",
       "      <td>3069504</td>\n",
       "      <td>0.000571</td>\n",
       "      <td>NaN</td>\n",
       "      <td>81</td>\n",
       "      <td>0.464723</td>\n",
       "      <td>2996248644</td>\n",
       "      <td>10.910313</td>\n",
       "    </tr>\n",
       "  </tbody>\n",
       "</table>\n",
       "<p>5 rows × 57 columns</p>\n",
       "</div>"
      ],
      "text/plain": [
       "   revenue  weekno  highseason  holiday  displayimp   displaylag  brandpaid  \\\n",
       "0   178480       1           1        0      987718  983958.0000      31589   \n",
       "1   185390       2           1        0      660136  907388.9167      30428   \n",
       "2   178130       3           1        0      604606  852862.4167      30715   \n",
       "3   185020       4           1        0      560656  851885.3333      31632   \n",
       "4   170950       5           1        0      326112  827164.4167        NaN   \n",
       "\n",
       "   brandclicks  nonbrandpaid  nonbrandclicks      ...       logSocialpostlag  \\\n",
       "0         4715        105901            1519      ...              198063.75   \n",
       "1         4540        108652            1589      ...              196355.00   \n",
       "2         4417        119398            1595      ...              194301.80   \n",
       "3         4372        134819            1606      ...              196355.00   \n",
       "4         4431        115865            1522      ...              216089.00   \n",
       "\n",
       "   organicnew2  logOrganicnew  blognewusers2  blognewusersRecip  \\\n",
       "0    574369156      10.084391        3717184           0.000519   \n",
       "1    600740100      10.106836        4137156           0.000492   \n",
       "2    664144441      10.157005       10569001           0.000308   \n",
       "3    679540624      10.168464       37601424           0.000163   \n",
       "4    581533225      10.090589        3069504           0.000571   \n",
       "\n",
       "   Fbpostimplag2  weekOfYear2  sinWeekOfYear   Twpostimp2  logTwpostimp  \n",
       "0    23343103440           25       0.822984   2245432996     10.766082  \n",
       "1    21755266688           36       0.748511   8690900625     11.442771  \n",
       "2    22414206939           49       0.663123  42966656656     12.241845  \n",
       "3    21358244109           64       0.568065   4117917241     11.069307  \n",
       "4            NaN           81       0.464723   2996248644     10.910313  \n",
       "\n",
       "[5 rows x 57 columns]"
      ]
     },
     "execution_count": 2,
     "metadata": {},
     "output_type": "execute_result"
    }
   ],
   "source": [
    "df = pd.read_csv('dataCleanNoOutlier.csv')\n",
    "# Drop the Week column, same info is captured in weekno\n",
    "df = df.drop('Week', 1)\n",
    "df.head()"
   ]
  },
  {
   "cell_type": "code",
   "execution_count": 3,
   "metadata": {
    "collapsed": false
   },
   "outputs": [
    {
     "data": {
      "text/plain": [
       "array([ 0.3,  0.2,  0.8,  0. ,  0.6,  1. ])"
      ]
     },
     "execution_count": 3,
     "metadata": {},
     "output_type": "execute_result"
    }
   ],
   "source": [
    "def rescale(x):\n",
    "    '''\n",
    "    Rescale a vector x such that all values lie on the interval [0, 1]\n",
    "    x: an np.array\n",
    "    '''\n",
    "    x = x - np.min(x)\n",
    "    x = x / np.max(x)\n",
    "    return x\n",
    "\n",
    "# Test\n",
    "x = np.array([4, 3, 9, 1, 7, 11])\n",
    "rescale(x)"
   ]
  },
  {
   "cell_type": "code",
   "execution_count": 4,
   "metadata": {
    "collapsed": true
   },
   "outputs": [],
   "source": [
    "# Rescale all columns\n",
    "df.ix[:, 2:59] = df.ix[:, 2:59].apply(rescale) "
   ]
  },
  {
   "cell_type": "code",
   "execution_count": 5,
   "metadata": {
    "collapsed": true
   },
   "outputs": [],
   "source": [
    "# Transform each of the following by their optimal exponential transform\n",
    "df['socialpostimp'] = df['socialpostimp'] ** 0.29\n",
    "df['socialpostimp'] = df['socialpostimp'] ** 0.29\n",
    "df['Fbpostimp'] = df['Fbpostimp'] ** 0.33\n",
    "df['Fbpostimplag'] = df['Fbpostimplag'] ** 0.29\n",
    "df['Fblikes'] = df['Fblikes'] ** 0.60\n",
    "df['Fbengage'] = df['Fbengage'] ** 0.44\n",
    "df['Twpostimp'] = df['Twpostimp'] ** 0.29"
   ]
  },
  {
   "cell_type": "code",
   "execution_count": 6,
   "metadata": {
    "collapsed": false
   },
   "outputs": [],
   "source": [
    "# Rescale all columns\n",
    "df.ix[:, 2:59] = df.ix[:, 2:59].apply(rescale) "
   ]
  },
  {
   "cell_type": "code",
   "execution_count": 7,
   "metadata": {
    "collapsed": false
   },
   "outputs": [],
   "source": [
    "df.fillna(method = 'ffill', axis = 0, inplace = True)\n",
    "df.fillna(method = 'bfill', axis = 0, inplace = True)"
   ]
  },
  {
   "cell_type": "code",
   "execution_count": 8,
   "metadata": {
    "collapsed": true
   },
   "outputs": [],
   "source": [
    "def sse(mod, X, y):\n",
    "    predictions = mod.predict(X)\n",
    "    sq_error = [\n",
    "        (pred - actual) ** 2 for (pred, actual) in zip(predictions, y)]\n",
    "    RSS = sum(sq_error)\n",
    "    \n",
    "    return(RSS)"
   ]
  },
  {
   "cell_type": "code",
   "execution_count": 9,
   "metadata": {
    "collapsed": true
   },
   "outputs": [],
   "source": [
    "currentBest = {'model': 'ridge_clf', 'sse': 4972919587.0328007}"
   ]
  },
  {
   "cell_type": "markdown",
   "metadata": {},
   "source": [
    "# Further Exploration of Interaction Terms\n",
    "Although there has been some limited exploration of interaction terms, none of the best models have made use of these terms.  Given that a number of the predictors appear to have periodic that coincide, it seems reasonable that there may be important interactions that have been missed.  To explore this in a more systematic way, compare correlations between pairs of predictors and the response. For example:"
   ]
  },
  {
   "cell_type": "code",
   "execution_count": 10,
   "metadata": {
    "collapsed": true
   },
   "outputs": [],
   "source": [
    "interactions = []\n",
    "interaction_corrs = []\n",
    "\n",
    "for i in range(1, 46):\n",
    "    for j in range(i + 1, 47):\n",
    "        interaction = df.ix[:, i] * df.ix[:, j]\n",
    "        correlation = abs(pearsonr(df.ix[:, 0], interaction)[0])\n",
    "        interactions.append('{}:{}'.format(df.columns.values[i], df.columns.values[j]))\n",
    "        interaction_corrs.append(correlation)"
   ]
  },
  {
   "cell_type": "code",
   "execution_count": 11,
   "metadata": {
    "collapsed": false
   },
   "outputs": [
    {
     "data": {
      "text/html": [
       "<div>\n",
       "<table border=\"1\" class=\"dataframe\">\n",
       "  <thead>\n",
       "    <tr style=\"text-align: right;\">\n",
       "      <th></th>\n",
       "      <th>interactions</th>\n",
       "      <th>abs_correlations</th>\n",
       "    </tr>\n",
       "  </thead>\n",
       "  <tbody>\n",
       "    <tr>\n",
       "      <th>0</th>\n",
       "      <td>organicnew:rev1weekAgo</td>\n",
       "      <td>0.692465</td>\n",
       "    </tr>\n",
       "    <tr>\n",
       "      <th>1</th>\n",
       "      <td>organicnew:rev3weekAgo</td>\n",
       "      <td>0.661738</td>\n",
       "    </tr>\n",
       "    <tr>\n",
       "      <th>2</th>\n",
       "      <td>brandpaid:organicnew</td>\n",
       "      <td>0.654123</td>\n",
       "    </tr>\n",
       "    <tr>\n",
       "      <th>3</th>\n",
       "      <td>organicnew:rev2weekAgo</td>\n",
       "      <td>0.646716</td>\n",
       "    </tr>\n",
       "    <tr>\n",
       "      <th>4</th>\n",
       "      <td>organicnew:rev4weekAgo</td>\n",
       "      <td>0.641619</td>\n",
       "    </tr>\n",
       "    <tr>\n",
       "      <th>5</th>\n",
       "      <td>organicnew:Fbpostimplag</td>\n",
       "      <td>0.627440</td>\n",
       "    </tr>\n",
       "    <tr>\n",
       "      <th>6</th>\n",
       "      <td>brandpaid:rev1weekAgo</td>\n",
       "      <td>0.598747</td>\n",
       "    </tr>\n",
       "    <tr>\n",
       "      <th>7</th>\n",
       "      <td>highseason:organicnew</td>\n",
       "      <td>0.595880</td>\n",
       "    </tr>\n",
       "    <tr>\n",
       "      <th>8</th>\n",
       "      <td>organicnew:youtube</td>\n",
       "      <td>0.577173</td>\n",
       "    </tr>\n",
       "    <tr>\n",
       "      <th>9</th>\n",
       "      <td>organicnew:youtubelag</td>\n",
       "      <td>0.574794</td>\n",
       "    </tr>\n",
       "  </tbody>\n",
       "</table>\n",
       "</div>"
      ],
      "text/plain": [
       "              interactions  abs_correlations\n",
       "0   organicnew:rev1weekAgo          0.692465\n",
       "1   organicnew:rev3weekAgo          0.661738\n",
       "2     brandpaid:organicnew          0.654123\n",
       "3   organicnew:rev2weekAgo          0.646716\n",
       "4   organicnew:rev4weekAgo          0.641619\n",
       "5  organicnew:Fbpostimplag          0.627440\n",
       "6    brandpaid:rev1weekAgo          0.598747\n",
       "7    highseason:organicnew          0.595880\n",
       "8       organicnew:youtube          0.577173\n",
       "9    organicnew:youtubelag          0.574794"
      ]
     },
     "execution_count": 11,
     "metadata": {},
     "output_type": "execute_result"
    }
   ],
   "source": [
    "cordf = pd.DataFrame(interactions, columns = ['interactions'])\n",
    "cordf['abs_correlations'] = interaction_corrs\n",
    "cordf.sort_values(by = 'abs_correlations', ascending = False, inplace = True)\n",
    "cordf.index = range(cordf.shape[0])\n",
    "cordf.head(10)"
   ]
  },
  {
   "cell_type": "markdown",
   "metadata": {},
   "source": [
    "Add interaction columns to df"
   ]
  },
  {
   "cell_type": "code",
   "execution_count": 12,
   "metadata": {
    "collapsed": false
   },
   "outputs": [
    {
     "data": {
      "text/html": [
       "<div>\n",
       "<table border=\"1\" class=\"dataframe\">\n",
       "  <thead>\n",
       "    <tr style=\"text-align: right;\">\n",
       "      <th></th>\n",
       "      <th>revenue</th>\n",
       "      <th>weekno</th>\n",
       "      <th>highseason</th>\n",
       "      <th>holiday</th>\n",
       "      <th>displayimp</th>\n",
       "      <th>displaylag</th>\n",
       "      <th>brandpaid</th>\n",
       "      <th>brandclicks</th>\n",
       "      <th>nonbrandpaid</th>\n",
       "      <th>nonbrandclicks</th>\n",
       "      <th>...</th>\n",
       "      <th>organicnew:rev1weekAgo</th>\n",
       "      <th>organicnew:rev3weekAgo</th>\n",
       "      <th>brandpaid:organicnew</th>\n",
       "      <th>organicnew:rev2weekAgo</th>\n",
       "      <th>organicnew:rev4weekAgo</th>\n",
       "      <th>organicnew:Fbpostimplag</th>\n",
       "      <th>brandpaid:rev1weekAgo</th>\n",
       "      <th>highseason:organicnew</th>\n",
       "      <th>organicnew:youtube</th>\n",
       "      <th>organicnew:youtubelag</th>\n",
       "    </tr>\n",
       "  </thead>\n",
       "  <tbody>\n",
       "    <tr>\n",
       "      <th>0</th>\n",
       "      <td>178480</td>\n",
       "      <td>1</td>\n",
       "      <td>1</td>\n",
       "      <td>0</td>\n",
       "      <td>0.064597</td>\n",
       "      <td>0.073350</td>\n",
       "      <td>0.491038</td>\n",
       "      <td>0.087455</td>\n",
       "      <td>0.134651</td>\n",
       "      <td>0.131320</td>\n",
       "      <td>...</td>\n",
       "      <td>0.639412</td>\n",
       "      <td>0.639412</td>\n",
       "      <td>0.397723</td>\n",
       "      <td>0.639412</td>\n",
       "      <td>0.639412</td>\n",
       "      <td>0.568964</td>\n",
       "      <td>0.387642</td>\n",
       "      <td>0.809963</td>\n",
       "      <td>0.300182</td>\n",
       "      <td>0.294394</td>\n",
       "    </tr>\n",
       "    <tr>\n",
       "      <th>1</th>\n",
       "      <td>185390</td>\n",
       "      <td>2</td>\n",
       "      <td>1</td>\n",
       "      <td>0</td>\n",
       "      <td>0.035944</td>\n",
       "      <td>0.062603</td>\n",
       "      <td>0.470952</td>\n",
       "      <td>0.042835</td>\n",
       "      <td>0.146745</td>\n",
       "      <td>0.155073</td>\n",
       "      <td>...</td>\n",
       "      <td>0.678238</td>\n",
       "      <td>0.678238</td>\n",
       "      <td>0.404616</td>\n",
       "      <td>0.678238</td>\n",
       "      <td>0.678238</td>\n",
       "      <td>0.596404</td>\n",
       "      <td>0.371785</td>\n",
       "      <td>0.859145</td>\n",
       "      <td>0.409169</td>\n",
       "      <td>0.354803</td>\n",
       "    </tr>\n",
       "    <tr>\n",
       "      <th>2</th>\n",
       "      <td>178130</td>\n",
       "      <td>3</td>\n",
       "      <td>1</td>\n",
       "      <td>0</td>\n",
       "      <td>0.031087</td>\n",
       "      <td>0.054949</td>\n",
       "      <td>0.475917</td>\n",
       "      <td>0.011474</td>\n",
       "      <td>0.193984</td>\n",
       "      <td>0.157109</td>\n",
       "      <td>...</td>\n",
       "      <td>0.818698</td>\n",
       "      <td>0.768237</td>\n",
       "      <td>0.463138</td>\n",
       "      <td>0.768237</td>\n",
       "      <td>0.768237</td>\n",
       "      <td>0.678948</td>\n",
       "      <td>0.400383</td>\n",
       "      <td>0.973149</td>\n",
       "      <td>0.358641</td>\n",
       "      <td>0.446959</td>\n",
       "    </tr>\n",
       "    <tr>\n",
       "      <th>3</th>\n",
       "      <td>185020</td>\n",
       "      <td>4</td>\n",
       "      <td>1</td>\n",
       "      <td>0</td>\n",
       "      <td>0.027243</td>\n",
       "      <td>0.054812</td>\n",
       "      <td>0.491782</td>\n",
       "      <td>0.000000</td>\n",
       "      <td>0.261776</td>\n",
       "      <td>0.160842</td>\n",
       "      <td>...</td>\n",
       "      <td>0.786808</td>\n",
       "      <td>0.789434</td>\n",
       "      <td>0.491782</td>\n",
       "      <td>0.841288</td>\n",
       "      <td>0.789434</td>\n",
       "      <td>0.692028</td>\n",
       "      <td>0.386938</td>\n",
       "      <td>1.000000</td>\n",
       "      <td>0.211041</td>\n",
       "      <td>0.427889</td>\n",
       "    </tr>\n",
       "    <tr>\n",
       "      <th>4</th>\n",
       "      <td>170950</td>\n",
       "      <td>5</td>\n",
       "      <td>1</td>\n",
       "      <td>0</td>\n",
       "      <td>0.006728</td>\n",
       "      <td>0.051342</td>\n",
       "      <td>0.491782</td>\n",
       "      <td>0.015043</td>\n",
       "      <td>0.178453</td>\n",
       "      <td>0.132338</td>\n",
       "      <td>...</td>\n",
       "      <td>0.690458</td>\n",
       "      <td>0.692745</td>\n",
       "      <td>0.404950</td>\n",
       "      <td>0.647884</td>\n",
       "      <td>0.650047</td>\n",
       "      <td>0.569839</td>\n",
       "      <td>0.412365</td>\n",
       "      <td>0.823434</td>\n",
       "      <td>0.173632</td>\n",
       "      <td>0.299396</td>\n",
       "    </tr>\n",
       "  </tbody>\n",
       "</table>\n",
       "<p>5 rows × 67 columns</p>\n",
       "</div>"
      ],
      "text/plain": [
       "   revenue  weekno  highseason  holiday  displayimp  displaylag  brandpaid  \\\n",
       "0   178480       1           1        0    0.064597    0.073350   0.491038   \n",
       "1   185390       2           1        0    0.035944    0.062603   0.470952   \n",
       "2   178130       3           1        0    0.031087    0.054949   0.475917   \n",
       "3   185020       4           1        0    0.027243    0.054812   0.491782   \n",
       "4   170950       5           1        0    0.006728    0.051342   0.491782   \n",
       "\n",
       "   brandclicks  nonbrandpaid  nonbrandclicks          ...            \\\n",
       "0     0.087455      0.134651        0.131320          ...             \n",
       "1     0.042835      0.146745        0.155073          ...             \n",
       "2     0.011474      0.193984        0.157109          ...             \n",
       "3     0.000000      0.261776        0.160842          ...             \n",
       "4     0.015043      0.178453        0.132338          ...             \n",
       "\n",
       "   organicnew:rev1weekAgo  organicnew:rev3weekAgo  brandpaid:organicnew  \\\n",
       "0                0.639412                0.639412              0.397723   \n",
       "1                0.678238                0.678238              0.404616   \n",
       "2                0.818698                0.768237              0.463138   \n",
       "3                0.786808                0.789434              0.491782   \n",
       "4                0.690458                0.692745              0.404950   \n",
       "\n",
       "   organicnew:rev2weekAgo  organicnew:rev4weekAgo  organicnew:Fbpostimplag  \\\n",
       "0                0.639412                0.639412                 0.568964   \n",
       "1                0.678238                0.678238                 0.596404   \n",
       "2                0.768237                0.768237                 0.678948   \n",
       "3                0.841288                0.789434                 0.692028   \n",
       "4                0.647884                0.650047                 0.569839   \n",
       "\n",
       "   brandpaid:rev1weekAgo  highseason:organicnew  organicnew:youtube  \\\n",
       "0               0.387642               0.809963            0.300182   \n",
       "1               0.371785               0.859145            0.409169   \n",
       "2               0.400383               0.973149            0.358641   \n",
       "3               0.386938               1.000000            0.211041   \n",
       "4               0.412365               0.823434            0.173632   \n",
       "\n",
       "   organicnew:youtubelag  \n",
       "0               0.294394  \n",
       "1               0.354803  \n",
       "2               0.446959  \n",
       "3               0.427889  \n",
       "4               0.299396  \n",
       "\n",
       "[5 rows x 67 columns]"
      ]
     },
     "execution_count": 12,
     "metadata": {},
     "output_type": "execute_result"
    }
   ],
   "source": [
    "for i in range(10):\n",
    "    cols = cordf['interactions'][i]\n",
    "    orig_cols = cols.split(':')\n",
    "    df[cols] = df[orig_cols[0]] * df[orig_cols[1]]\n",
    "    \n",
    "df.head()"
   ]
  },
  {
   "cell_type": "code",
   "execution_count": 13,
   "metadata": {
    "collapsed": false
   },
   "outputs": [
    {
     "data": {
      "text/plain": [
       "(117, 67)"
      ]
     },
     "execution_count": 13,
     "metadata": {},
     "output_type": "execute_result"
    }
   ],
   "source": [
    "# Don't forget to recreate test/train sets!\n",
    "# Separate df into X (predictors) and y (response)\n",
    "df.shape"
   ]
  },
  {
   "cell_type": "code",
   "execution_count": 14,
   "metadata": {
    "collapsed": true
   },
   "outputs": [],
   "source": [
    "X = df.ix[:, 1:68]\n",
    "y = df.ix[:, 0]\n",
    "\n",
    "# Now split each into testing and training sets\n",
    "# Ideally, we would stratify the data, but there are too few data in this\n",
    "# sample \n",
    "X_train, X_test, y_train, y_test = train_test_split(\n",
    "    X, y, test_size = 0.25, random_state = 11)"
   ]
  },
  {
   "cell_type": "code",
   "execution_count": 15,
   "metadata": {
    "collapsed": false
   },
   "outputs": [
    {
     "data": {
      "text/html": [
       "<div>\n",
       "<table border=\"1\" class=\"dataframe\">\n",
       "  <thead>\n",
       "    <tr style=\"text-align: right;\">\n",
       "      <th></th>\n",
       "      <th>weekno</th>\n",
       "      <th>highseason</th>\n",
       "      <th>holiday</th>\n",
       "      <th>displayimp</th>\n",
       "      <th>displaylag</th>\n",
       "      <th>brandpaid</th>\n",
       "      <th>brandclicks</th>\n",
       "      <th>nonbrandpaid</th>\n",
       "      <th>nonbrandclicks</th>\n",
       "      <th>organicnew</th>\n",
       "      <th>...</th>\n",
       "      <th>organicnew:rev1weekAgo</th>\n",
       "      <th>organicnew:rev3weekAgo</th>\n",
       "      <th>brandpaid:organicnew</th>\n",
       "      <th>organicnew:rev2weekAgo</th>\n",
       "      <th>organicnew:rev4weekAgo</th>\n",
       "      <th>organicnew:Fbpostimplag</th>\n",
       "      <th>brandpaid:rev1weekAgo</th>\n",
       "      <th>highseason:organicnew</th>\n",
       "      <th>organicnew:youtube</th>\n",
       "      <th>organicnew:youtubelag</th>\n",
       "    </tr>\n",
       "  </thead>\n",
       "  <tbody>\n",
       "    <tr>\n",
       "      <th>110</th>\n",
       "      <td>111</td>\n",
       "      <td>1</td>\n",
       "      <td>0</td>\n",
       "      <td>0.504781</td>\n",
       "      <td>0.965312</td>\n",
       "      <td>0.442370</td>\n",
       "      <td>0.614227</td>\n",
       "      <td>0.370969</td>\n",
       "      <td>0.487954</td>\n",
       "      <td>0.518850</td>\n",
       "      <td>...</td>\n",
       "      <td>0.282514</td>\n",
       "      <td>0.301164</td>\n",
       "      <td>0.229524</td>\n",
       "      <td>0.331221</td>\n",
       "      <td>0.311793</td>\n",
       "      <td>0.305120</td>\n",
       "      <td>0.240870</td>\n",
       "      <td>0.518850</td>\n",
       "      <td>0.446364</td>\n",
       "      <td>0.472873</td>\n",
       "    </tr>\n",
       "    <tr>\n",
       "      <th>28</th>\n",
       "      <td>29</td>\n",
       "      <td>0</td>\n",
       "      <td>0</td>\n",
       "      <td>0.060270</td>\n",
       "      <td>0.060954</td>\n",
       "      <td>0.481003</td>\n",
       "      <td>0.601989</td>\n",
       "      <td>0.171516</td>\n",
       "      <td>0.268069</td>\n",
       "      <td>0.594431</td>\n",
       "      <td>...</td>\n",
       "      <td>0.338878</td>\n",
       "      <td>0.366802</td>\n",
       "      <td>0.285923</td>\n",
       "      <td>0.275001</td>\n",
       "      <td>0.301230</td>\n",
       "      <td>0.361566</td>\n",
       "      <td>0.274215</td>\n",
       "      <td>0.000000</td>\n",
       "      <td>0.103296</td>\n",
       "      <td>0.038972</td>\n",
       "    </tr>\n",
       "    <tr>\n",
       "      <th>51</th>\n",
       "      <td>52</td>\n",
       "      <td>1</td>\n",
       "      <td>0</td>\n",
       "      <td>0.402618</td>\n",
       "      <td>0.373283</td>\n",
       "      <td>0.595848</td>\n",
       "      <td>0.993881</td>\n",
       "      <td>0.534335</td>\n",
       "      <td>0.441127</td>\n",
       "      <td>0.834825</td>\n",
       "      <td>...</td>\n",
       "      <td>0.518148</td>\n",
       "      <td>0.580293</td>\n",
       "      <td>0.497429</td>\n",
       "      <td>0.535501</td>\n",
       "      <td>0.096977</td>\n",
       "      <td>0.781028</td>\n",
       "      <td>0.369823</td>\n",
       "      <td>0.834825</td>\n",
       "      <td>0.518300</td>\n",
       "      <td>0.435800</td>\n",
       "    </tr>\n",
       "    <tr>\n",
       "      <th>56</th>\n",
       "      <td>57</td>\n",
       "      <td>1</td>\n",
       "      <td>0</td>\n",
       "      <td>0.420757</td>\n",
       "      <td>0.605760</td>\n",
       "      <td>0.645554</td>\n",
       "      <td>0.648649</td>\n",
       "      <td>0.387652</td>\n",
       "      <td>0.377672</td>\n",
       "      <td>0.917639</td>\n",
       "      <td>...</td>\n",
       "      <td>0.707407</td>\n",
       "      <td>0.809252</td>\n",
       "      <td>0.592385</td>\n",
       "      <td>0.788525</td>\n",
       "      <td>0.718906</td>\n",
       "      <td>0.757653</td>\n",
       "      <td>0.497657</td>\n",
       "      <td>0.917639</td>\n",
       "      <td>0.608404</td>\n",
       "      <td>0.693622</td>\n",
       "    </tr>\n",
       "    <tr>\n",
       "      <th>39</th>\n",
       "      <td>40</td>\n",
       "      <td>1</td>\n",
       "      <td>0</td>\n",
       "      <td>0.201701</td>\n",
       "      <td>0.142477</td>\n",
       "      <td>0.703339</td>\n",
       "      <td>0.789648</td>\n",
       "      <td>0.341876</td>\n",
       "      <td>0.415677</td>\n",
       "      <td>0.707983</td>\n",
       "      <td>...</td>\n",
       "      <td>0.322859</td>\n",
       "      <td>0.372799</td>\n",
       "      <td>0.497952</td>\n",
       "      <td>0.305114</td>\n",
       "      <td>0.503015</td>\n",
       "      <td>0.632490</td>\n",
       "      <td>0.320741</td>\n",
       "      <td>0.707983</td>\n",
       "      <td>0.323618</td>\n",
       "      <td>0.341021</td>\n",
       "    </tr>\n",
       "  </tbody>\n",
       "</table>\n",
       "<p>5 rows × 66 columns</p>\n",
       "</div>"
      ],
      "text/plain": [
       "     weekno  highseason  holiday  displayimp  displaylag  brandpaid  \\\n",
       "110     111           1        0    0.504781    0.965312   0.442370   \n",
       "28       29           0        0    0.060270    0.060954   0.481003   \n",
       "51       52           1        0    0.402618    0.373283   0.595848   \n",
       "56       57           1        0    0.420757    0.605760   0.645554   \n",
       "39       40           1        0    0.201701    0.142477   0.703339   \n",
       "\n",
       "     brandclicks  nonbrandpaid  nonbrandclicks  organicnew  \\\n",
       "110     0.614227      0.370969        0.487954    0.518850   \n",
       "28      0.601989      0.171516        0.268069    0.594431   \n",
       "51      0.993881      0.534335        0.441127    0.834825   \n",
       "56      0.648649      0.387652        0.377672    0.917639   \n",
       "39      0.789648      0.341876        0.415677    0.707983   \n",
       "\n",
       "             ...            organicnew:rev1weekAgo  organicnew:rev3weekAgo  \\\n",
       "110          ...                          0.282514                0.301164   \n",
       "28           ...                          0.338878                0.366802   \n",
       "51           ...                          0.518148                0.580293   \n",
       "56           ...                          0.707407                0.809252   \n",
       "39           ...                          0.322859                0.372799   \n",
       "\n",
       "     brandpaid:organicnew  organicnew:rev2weekAgo  organicnew:rev4weekAgo  \\\n",
       "110              0.229524                0.331221                0.311793   \n",
       "28               0.285923                0.275001                0.301230   \n",
       "51               0.497429                0.535501                0.096977   \n",
       "56               0.592385                0.788525                0.718906   \n",
       "39               0.497952                0.305114                0.503015   \n",
       "\n",
       "     organicnew:Fbpostimplag  brandpaid:rev1weekAgo  highseason:organicnew  \\\n",
       "110                 0.305120               0.240870               0.518850   \n",
       "28                  0.361566               0.274215               0.000000   \n",
       "51                  0.781028               0.369823               0.834825   \n",
       "56                  0.757653               0.497657               0.917639   \n",
       "39                  0.632490               0.320741               0.707983   \n",
       "\n",
       "     organicnew:youtube  organicnew:youtubelag  \n",
       "110            0.446364               0.472873  \n",
       "28             0.103296               0.038972  \n",
       "51             0.518300               0.435800  \n",
       "56             0.608404               0.693622  \n",
       "39             0.323618               0.341021  \n",
       "\n",
       "[5 rows x 66 columns]"
      ]
     },
     "execution_count": 15,
     "metadata": {},
     "output_type": "execute_result"
    }
   ],
   "source": [
    "X_train.head()"
   ]
  },
  {
   "cell_type": "code",
   "execution_count": 16,
   "metadata": {
    "collapsed": false
   },
   "outputs": [],
   "source": [
    "pipe_lasso = Pipeline([(\n",
    "            'clf', Lasso(random_state = 11, max_iter = 1000000))])\n",
    "alpha_range = np.linspace(1, 100, 30)\n",
    "train_scores, test_scores = validation_curve(estimator = pipe_lasso,\n",
    "                                             X = X_train,\n",
    "                                             y = y_train,\n",
    "                                             param_name = 'clf__alpha',\n",
    "                                             param_range = alpha_range,\n",
    "                                             cv = 30,\n",
    "                                             n_jobs = -1)\n",
    "train_mean = np.mean(train_scores, axis = 1)\n",
    "train_std  = np.std(train_scores,  axis = 1)\n",
    "test_mean  = np.mean(test_scores,  axis = 1)\n",
    "test_std   = np.std(test_scores,   axis = 1)"
   ]
  },
  {
   "cell_type": "code",
   "execution_count": 19,
   "metadata": {
    "collapsed": false
   },
   "outputs": [
    {
     "data": {
      "image/png": "[encoded data removed]",
      "text/plain": [
       "<matplotlib.figure.Figure at 0x1171bf250>"
      ]
     },
     "metadata": {},
     "output_type": "display_data"
    }
   ],
   "source": [
    "plt.plot(alpha_range,\n",
    "         train_mean,\n",
    "         color = 'blue',\n",
    "         marker = 'o',\n",
    "         markersize = 5,\n",
    "         label = 'training accuracy');\n",
    "plt.fill_between(alpha_range,\n",
    "                 train_mean + train_std,\n",
    "                 train_mean - train_std,\n",
    "                 alpha = 0.15,\n",
    "                 color = 'blue');\n",
    "plt.plot(alpha_range,\n",
    "         test_mean,\n",
    "         color = 'red',\n",
    "         linestyle = '--',\n",
    "         marker = 's',\n",
    "         markersize = 5,\n",
    "         label = 'validation accuracy');\n",
    "plt.fill_between(alpha_range,\n",
    "                 test_mean + test_std,\n",
    "                 test_mean - test_std,\n",
    "                 alpha = 0.15,\n",
    "                 color = 'red');\n",
    "plt.grid();\n",
    "#plt.xscale('log');\n",
    "plt.legend(loc = 'lower right');\n",
    "plt.xlabel('Parameter alpha');\n",
    "plt.ylabel('Accuracy');\n",
    "#plt.ylim([-2.5, -2]); # zoom to see alpha peak at ~ 50\n",
    "plt.show();"
   ]
  },
  {
   "cell_type": "code",
   "execution_count": 20,
   "metadata": {
    "collapsed": false
   },
   "outputs": [
    {
     "data": {
      "text/plain": [
       "6080841400.2420101"
      ]
     },
     "execution_count": 20,
     "metadata": {},
     "output_type": "execute_result"
    }
   ],
   "source": [
    "lasso_clf2 = Lasso(alpha = 50, random_state = 11, max_iter = 1000000) # 72, 310\n",
    "lasso_clf2.fit(X_train, y_train)\n",
    "sse(lasso_clf2, X_test, y_test)"
   ]
  },
  {
   "cell_type": "code",
   "execution_count": 21,
   "metadata": {
    "collapsed": false
   },
   "outputs": [
    {
     "data": {
      "text/plain": [
       "{'model': 'ridge_clf', 'sse': 4972919587.032801}"
      ]
     },
     "execution_count": 21,
     "metadata": {},
     "output_type": "execute_result"
    }
   ],
   "source": [
    "currentBest"
   ]
  },
  {
   "cell_type": "code",
   "execution_count": 22,
   "metadata": {
    "collapsed": false
   },
   "outputs": [],
   "source": [
    "#zip(df.columns.values, lasso_clf2.coef_)\n",
    "# As before: the first predictor is the intercept term, NOT 'revenue'"
   ]
  },
  {
   "cell_type": "code",
   "execution_count": 23,
   "metadata": {
    "collapsed": false
   },
   "outputs": [],
   "source": [
    "#X_train.shape\n",
    "#X_train.ix[1, 0:63]"
   ]
  },
  {
   "cell_type": "code",
   "execution_count": 24,
   "metadata": {
    "collapsed": true
   },
   "outputs": [],
   "source": [
    "pipe_ridge = Pipeline([('clf', Ridge(random_state = 11))])\n",
    "\n",
    "alpha_range = np.linspace(0, 30, num = 30)\n",
    "# ipython gets hung up if you attempt to use the entire X_train data, so a few cols are omitted\n",
    "# here\n",
    "train_scores, test_scores = validation_curve(estimator = pipe_ridge,\n",
    "                                             X = X_train.ix[:, 0:63],\n",
    "                                             y = y_train,\n",
    "                                             param_name = 'clf__alpha',\n",
    "                                             param_range = alpha_range,\n",
    "                                             cv = 30,\n",
    "                                             n_jobs = -1)"
   ]
  },
  {
   "cell_type": "code",
   "execution_count": 25,
   "metadata": {
    "collapsed": true
   },
   "outputs": [],
   "source": [
    "train_mean = np.mean(train_scores, axis = 1)\n",
    "train_std  = np.std(train_scores,  axis = 1)\n",
    "test_mean  = np.mean(test_scores,  axis = 1)\n",
    "test_std   = np.std(test_scores,   axis = 1)"
   ]
  },
  {
   "cell_type": "code",
   "execution_count": 28,
   "metadata": {
    "collapsed": false
   },
   "outputs": [
    {
     "data": {
      "image/png": "[encoded data removed]",
      "text/plain": [
       "<matplotlib.figure.Figure at 0x1173be810>"
      ]
     },
     "metadata": {},
     "output_type": "display_data"
    }
   ],
   "source": [
    "plt.plot(alpha_range,\n",
    "         train_mean,\n",
    "         color = 'blue',\n",
    "         marker = 'o',\n",
    "         markersize = 5,\n",
    "         label = 'training accuracy');\n",
    "plt.fill_between(alpha_range,\n",
    "                 train_mean + train_std,\n",
    "                 train_mean - train_std,\n",
    "                 alpha = 0.15,\n",
    "                 color = 'blue');\n",
    "plt.plot(alpha_range,\n",
    "         test_mean,\n",
    "         color = 'red',\n",
    "         linestyle = '--',\n",
    "         marker = 's',\n",
    "         markersize = 5,\n",
    "         label = 'validation accuracy');\n",
    "plt.fill_between(alpha_range,\n",
    "                 test_mean + test_std,\n",
    "                 test_mean - test_std,\n",
    "                 alpha = 0.15,\n",
    "                 color = 'red');\n",
    "plt.grid();\n",
    "plt.legend(loc = 'lower left');\n",
    "#plt.xscale('log');\n",
    "plt.xlabel('Parameter alpha');\n",
    "plt.ylabel('Accuracy');\n",
    "#plt.ylim([-2, -1.5]); # uncomment to zoom in to see peak alpha ~ 15 better\n",
    "plt.show();"
   ]
  },
  {
   "cell_type": "code",
   "execution_count": 29,
   "metadata": {
    "collapsed": false
   },
   "outputs": [
    {
     "data": {
      "text/plain": [
       "4944749755.1920271"
      ]
     },
     "execution_count": 29,
     "metadata": {},
     "output_type": "execute_result"
    }
   ],
   "source": [
    "ridge_clf2 = Ridge(alpha = 15, random_state = 11) # 2.x, 4.5\n",
    "ridge_clf2.fit(X_train, y_train)\n",
    "sse(ridge_clf2, X_test, y_test)"
   ]
  },
  {
   "cell_type": "code",
   "execution_count": 30,
   "metadata": {
    "collapsed": false
   },
   "outputs": [
    {
     "data": {
      "text/plain": [
       "{'model': 'ridge_clf', 'sse': 4972919587.032801}"
      ]
     },
     "execution_count": 30,
     "metadata": {},
     "output_type": "execute_result"
    }
   ],
   "source": [
    "currentBest"
   ]
  },
  {
   "cell_type": "code",
   "execution_count": 31,
   "metadata": {
    "collapsed": true
   },
   "outputs": [],
   "source": [
    "# A slight improvement.  Update:\n",
    "currentBest = { 'model': 'ridge_clf2', 'sse': sse(ridge_clf2, X_test, y_test)}"
   ]
  },
  {
   "cell_type": "code",
   "execution_count": 32,
   "metadata": {
    "collapsed": false
   },
   "outputs": [
    {
     "name": "stdout",
     "output_type": "stream",
     "text": [
      "Avg. error: $12838.42\n",
      "Std Dev. of revenue: $23841.97\n"
     ]
    }
   ],
   "source": [
    "avg_error = np.sqrt(currentBest['sse'] / len(y_test))\n",
    "print 'Avg. error: $%.2f' % avg_error\n",
    "print 'Std Dev. of revenue: $%.2f'%np.std(df['revenue'])"
   ]
  },
  {
   "cell_type": "markdown",
   "metadata": {},
   "source": [
    "Just to get a visual sense of how well the current best model is performing, plot the revenue with it's mean and the interval of ± 1sd and ± avg. model error"
   ]
  },
  {
   "cell_type": "code",
   "execution_count": 33,
   "metadata": {
    "collapsed": false
   },
   "outputs": [
    {
     "data": {
      "image/png": "[encoded data removed]",
      "text/plain": [
       "<matplotlib.figure.Figure at 0x117334b90>"
      ]
     },
     "metadata": {},
     "output_type": "display_data"
    }
   ],
   "source": [
    "plt.plot(y_train, 'bo');\n",
    "m = np.mean(y_train)\n",
    "s = np.std(y_train)\n",
    "plt.plot((0, 120), (m, m), 'k-');\n",
    "plt.plot((0, 120), (m + s, m + s), 'k--');\n",
    "plt.plot((0, 120), (m - s, m - s), 'k--');\n",
    "plt.plot((0, 120), (m + avg_error, m + avg_error), 'r--');\n",
    "plt.plot((0, 120), (m - avg_error, m - avg_error), 'r--');"
   ]
  },
  {
   "cell_type": "code",
   "execution_count": null,
   "metadata": {
    "collapsed": true
   },
   "outputs": [],
   "source": []
  }
 ],
 "metadata": {
  "kernelspec": {
   "display_name": "Python 2",
   "language": "python",
   "name": "python2"
  },
  "language_info": {
   "codemirror_mode": {
    "name": "ipython",
    "version": 2
   },
   "file_extension": ".py",
   "mimetype": "text/x-python",
   "name": "python",
   "nbconvert_exporter": "python",
   "pygments_lexer": "ipython2",
   "version": "2.7.12"
  }
 },
 "nbformat": 4,
 "nbformat_minor": 0
}
