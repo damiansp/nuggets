{
 "cells": [
  {
   "cell_type": "markdown",
   "metadata": {},
   "source": [
    "# Compile Twitter Data\n",
    "Compile raw .json files from twitter feed into an organized file for performing analytics "
   ]
  },
  {
   "cell_type": "code",
   "execution_count": 1,
   "metadata": {
    "collapsed": true
   },
   "outputs": [],
   "source": [
    "import json\n",
    "import matplotlib.pyplot as plt\n",
    "import pandas as pd\n",
    "import re"
   ]
  },
  {
   "cell_type": "code",
   "execution_count": 2,
   "metadata": {
    "collapsed": true
   },
   "outputs": [],
   "source": [
    "path_to_data = 'nuggets5k.json' # use smaller file for development              \n",
    "tweet_data = []\n",
    "tweet_file = open(path_to_data, 'r')"
   ]
  },
  {
   "cell_type": "code",
   "execution_count": 3,
   "metadata": {
    "collapsed": false
   },
   "outputs": [
    {
     "name": "stdout",
     "output_type": "stream",
     "text": [
      "5007\n"
     ]
    }
   ],
   "source": [
    "for line in tweet_file:\n",
    "    try:\n",
    "        tweet = json.loads(line)\n",
    "        tweet_data.append(tweet)\n",
    "    except:\n",
    "        continue\n",
    "\n",
    "print len(tweet_data)"
   ]
  },
  {
   "cell_type": "markdown",
   "metadata": {},
   "source": [
    "There are 5007 total tweets that were stored in the `nuggets5k.json` file by the `twitter_mine.py` program."
   ]
  },
  {
   "cell_type": "markdown",
   "metadata": {},
   "source": [
    "# Extract and organize data"
   ]
  },
  {
   "cell_type": "markdown",
   "metadata": {},
   "source": [
    "Examine a tweet to see what kind of data are available "
   ]
  },
  {
   "cell_type": "code",
   "execution_count": 17,
   "metadata": {
    "collapsed": false
   },
   "outputs": [
    {
     "data": {
      "text/plain": [
       "{u'contributors': None,\n",
       " u'coordinates': None,\n",
       " u'created_at': u'Wed Sep 28 18:18:31 +0000 2016',\n",
       " u'entities': {u'hashtags': [],\n",
       "  u'symbols': [],\n",
       "  u'urls': [{u'display_url': u'bit.ly/2dDAEap',\n",
       "    u'expanded_url': u'http://bit.ly/2dDAEap',\n",
       "    u'indices': [59, 82],\n",
       "    u'url': u'https://t.co/FWJJjww3oT'}],\n",
       "  u'user_mentions': []},\n",
       " u'favorite_count': 0,\n",
       " u'favorited': False,\n",
       " u'filter_level': u'low',\n",
       " u'geo': None,\n",
       " u'id': 781196404836278273,\n",
       " u'id_str': u'781196404836278273',\n",
       " u'in_reply_to_screen_name': None,\n",
       " u'in_reply_to_status_id': None,\n",
       " u'in_reply_to_status_id_str': None,\n",
       " u'in_reply_to_user_id': None,\n",
       " u'in_reply_to_user_id_str': None,\n",
       " u'is_quote_status': False,\n",
       " u'lang': u'und',\n",
       " u'place': None,\n",
       " u'possibly_sensitive': False,\n",
       " u'retweet_count': 0,\n",
       " u'retweeted': False,\n",
       " u'source': u'<a href=\"http://twitterfeed.com\" rel=\"nofollow\">twitterfeed</a>',\n",
       " u'text': u'Microsoft y Lenovo impiden instalar Linux en... - PoderPDA https://t.co/FWJJjww3oT',\n",
       " u'timestamp_ms': u'1475086711497',\n",
       " u'truncated': False,\n",
       " u'user': {u'contributors_enabled': False,\n",
       "  u'created_at': u'Tue May 12 21:57:47 +0000 2009',\n",
       "  u'default_profile': False,\n",
       "  u'default_profile_image': False,\n",
       "  u'description': u'Webmaster y Fotografo wolgfangchacon@gmail.com',\n",
       "  u'favourites_count': 236,\n",
       "  u'follow_request_sent': None,\n",
       "  u'followers_count': 2322,\n",
       "  u'following': None,\n",
       "  u'friends_count': 2216,\n",
       "  u'geo_enabled': False,\n",
       "  u'id': 39607348,\n",
       "  u'id_str': u'39607348',\n",
       "  u'is_translator': False,\n",
       "  u'lang': u'es',\n",
       "  u'listed_count': 108,\n",
       "  u'location': u'Venezuela',\n",
       "  u'name': u'Wolgfang Chacon',\n",
       "  u'notifications': None,\n",
       "  u'profile_background_color': u'022330',\n",
       "  u'profile_background_image_url': u'http://abs.twimg.com/images/themes/theme15/bg.png',\n",
       "  u'profile_background_image_url_https': u'https://abs.twimg.com/images/themes/theme15/bg.png',\n",
       "  u'profile_background_tile': False,\n",
       "  u'profile_banner_url': u'https://pbs.twimg.com/profile_banners/39607348/1397479859',\n",
       "  u'profile_image_url': u'http://pbs.twimg.com/profile_images/2511084435/txgq3agylblp7aylywhf_normal.jpeg',\n",
       "  u'profile_image_url_https': u'https://pbs.twimg.com/profile_images/2511084435/txgq3agylblp7aylywhf_normal.jpeg',\n",
       "  u'profile_link_color': u'0084B4',\n",
       "  u'profile_sidebar_border_color': u'A8C7F7',\n",
       "  u'profile_sidebar_fill_color': u'C0DFEC',\n",
       "  u'profile_text_color': u'333333',\n",
       "  u'profile_use_background_image': True,\n",
       "  u'protected': False,\n",
       "  u'screen_name': u'wchacon',\n",
       "  u'statuses_count': 135743,\n",
       "  u'time_zone': u'Caracas',\n",
       "  u'url': None,\n",
       "  u'utc_offset': -14400,\n",
       "  u'verified': False}}"
      ]
     },
     "execution_count": 17,
     "metadata": {},
     "output_type": "execute_result"
    }
   ],
   "source": [
    "tweet_data[11]"
   ]
  },
  {
   "cell_type": "markdown",
   "metadata": {},
   "source": [
    "To begin, extract the following fields into a data file:\n",
    "* text (the actual content of the tweet -- for which some NLP may be done)\n",
    "* lang\n",
    "* location\n",
    "* hashtags (keywords, can serve as proxy for the content subject)\n",
    "* retweeted (boolean -- is this content worth repeating?)\n",
    "* followers_count (how many people is this content reaching?)\n",
    "* friends_count (how many people is this content reaching?)\n",
    "* name (how many unique users posting about these topics?)"
   ]
  },
  {
   "cell_type": "code",
   "execution_count": 50,
   "metadata": {
    "collapsed": true
   },
   "outputs": [],
   "source": [
    "def add_column(keys, col_name):\n",
    "    data = []\n",
    "    \n",
    "    for tweet in tweet_data:\n",
    "        if len(keys) == 1:\n",
    "            if tweet.has_key(keys[0]):\n",
    "                data.append(tweet[keys[0]])\n",
    "            else:\n",
    "                data.append(None)\n",
    "        elif len(keys) == 2:\n",
    "            if tweet.has_key(keys[0]) and tweet[keys[0]].has_key(keys[1]):\n",
    "                data.append(tweet[keys[0]][keys[1]])\n",
    "            else:\n",
    "                data.append(None)\n",
    "        else: \n",
    "            print 'Function not designed to handle key depth > 2'\n",
    "            return\n",
    "    df[col_name] = data"
   ]
  },
  {
   "cell_type": "code",
   "execution_count": 87,
   "metadata": {
    "collapsed": false
   },
   "outputs": [],
   "source": [
    "df = pd.DataFrame()\n",
    "add_column(['text'], 'text')\n",
    "add_column(['user', 'lang'], 'user_lang')\n",
    "add_column(['user', 'location'], 'location')\n",
    "add_column(['entities', 'hashtags'], 'hashtags')\n",
    "add_column(['retweeted'], 'retweet')\n",
    "add_column(['retweet_count'], 'n_retweet')\n",
    "add_column(['user', 'followers_count'], 'n_followers')\n",
    "add_column(['user', 'friends_count'], 'n_friends')\n",
    "add_column(['user', 'name'], 'name')\n",
    "add_column(['coordinates'], 'coords')"
   ]
  },
  {
   "cell_type": "code",
   "execution_count": 76,
   "metadata": {
    "collapsed": false
   },
   "outputs": [
    {
     "data": {
      "text/html": [
       "<div>\n",
       "<table border=\"1\" class=\"dataframe\">\n",
       "  <thead>\n",
       "    <tr style=\"text-align: right;\">\n",
       "      <th></th>\n",
       "      <th>text</th>\n",
       "      <th>user_lang</th>\n",
       "      <th>location</th>\n",
       "      <th>hashtags</th>\n",
       "      <th>retweet</th>\n",
       "      <th>n_retweet</th>\n",
       "      <th>n_followers</th>\n",
       "      <th>n_friends</th>\n",
       "      <th>name</th>\n",
       "      <th>coords</th>\n",
       "    </tr>\n",
       "  </thead>\n",
       "  <tbody>\n",
       "    <tr>\n",
       "      <th>0</th>\n",
       "      <td>RT @JessikaDommeUK: I am now available for #Di...</td>\n",
       "      <td>en</td>\n",
       "      <td>UK</td>\n",
       "      <td>[{u'indices': [43, 54], u'text': u'DirectChat'...</td>\n",
       "      <td>False</td>\n",
       "      <td>0</td>\n",
       "      <td>12633</td>\n",
       "      <td>933</td>\n",
       "      <td>⭐️AdultworksFinest⭐️</td>\n",
       "      <td>None</td>\n",
       "    </tr>\n",
       "    <tr>\n",
       "      <th>1</th>\n",
       "      <td>yNewsbot: Bugtraq: #Cisco #Security #Advisory:...</td>\n",
       "      <td>en</td>\n",
       "      <td>tryingto #^fi~{|__#}%%*</td>\n",
       "      <td>[{u'indices': [19, 25], u'text': u'Cisco'}, {u...</td>\n",
       "      <td>False</td>\n",
       "      <td>0</td>\n",
       "      <td>2636</td>\n",
       "      <td>1084</td>\n",
       "      <td>❌Siraj Solution❌</td>\n",
       "      <td>None</td>\n",
       "    </tr>\n",
       "    <tr>\n",
       "      <th>2</th>\n",
       "      <td>RT @mims: Amazon is going to compete directly ...</td>\n",
       "      <td>en</td>\n",
       "      <td>None</td>\n",
       "      <td>[]</td>\n",
       "      <td>False</td>\n",
       "      <td>0</td>\n",
       "      <td>2624</td>\n",
       "      <td>4916</td>\n",
       "      <td>Leroy Wesley Annon</td>\n",
       "      <td>None</td>\n",
       "    </tr>\n",
       "    <tr>\n",
       "      <th>3</th>\n",
       "      <td>#Cisco Battles Shadow Broker Exploits. Read mo...</td>\n",
       "      <td>en</td>\n",
       "      <td>San Mateo, CA</td>\n",
       "      <td>[{u'indices': [0, 6], u'text': u'Cisco'}]</td>\n",
       "      <td>False</td>\n",
       "      <td>0</td>\n",
       "      <td>86</td>\n",
       "      <td>2</td>\n",
       "      <td>Networking News</td>\n",
       "      <td>None</td>\n",
       "    </tr>\n",
       "    <tr>\n",
       "      <th>4</th>\n",
       "      <td>#Cisco Battles Shadow Broker Exploits. Read mo...</td>\n",
       "      <td>en</td>\n",
       "      <td>San Mateo, CA</td>\n",
       "      <td>[{u'indices': [0, 6], u'text': u'Cisco'}]</td>\n",
       "      <td>False</td>\n",
       "      <td>0</td>\n",
       "      <td>20</td>\n",
       "      <td>2</td>\n",
       "      <td>Communication News</td>\n",
       "      <td>None</td>\n",
       "    </tr>\n",
       "  </tbody>\n",
       "</table>\n",
       "</div>"
      ],
      "text/plain": [
       "                                                text user_lang  \\\n",
       "0  RT @JessikaDommeUK: I am now available for #Di...        en   \n",
       "1  yNewsbot: Bugtraq: #Cisco #Security #Advisory:...        en   \n",
       "2  RT @mims: Amazon is going to compete directly ...        en   \n",
       "3  #Cisco Battles Shadow Broker Exploits. Read mo...        en   \n",
       "4  #Cisco Battles Shadow Broker Exploits. Read mo...        en   \n",
       "\n",
       "                  location                                           hashtags  \\\n",
       "0                       UK  [{u'indices': [43, 54], u'text': u'DirectChat'...   \n",
       "1  tryingto #^fi~{|__#}%%*  [{u'indices': [19, 25], u'text': u'Cisco'}, {u...   \n",
       "2                     None                                                 []   \n",
       "3            San Mateo, CA          [{u'indices': [0, 6], u'text': u'Cisco'}]   \n",
       "4            San Mateo, CA          [{u'indices': [0, 6], u'text': u'Cisco'}]   \n",
       "\n",
       "  retweet  n_retweet  n_followers  n_friends                  name coords  \n",
       "0   False          0        12633        933  ⭐️AdultworksFinest⭐️   None  \n",
       "1   False          0         2636       1084      ❌Siraj Solution❌   None  \n",
       "2   False          0         2624       4916    Leroy Wesley Annon   None  \n",
       "3   False          0           86          2       Networking News   None  \n",
       "4   False          0           20          2    Communication News   None  "
      ]
     },
     "execution_count": 76,
     "metadata": {},
     "output_type": "execute_result"
    }
   ],
   "source": [
    "df.head()"
   ]
  },
  {
   "cell_type": "markdown",
   "metadata": {},
   "source": [
    "Latitude/longitude coordinates are potentially of interest to some applications.  Unfortunately, they exist for < 1% of the data."
   ]
  },
  {
   "cell_type": "code",
   "execution_count": 94,
   "metadata": {
    "collapsed": false
   },
   "outputs": [
    {
     "name": "stdout",
     "output_type": "stream",
     "text": [
      "15\n",
      "5007\n",
      "0.00299580587178\n",
      "{u'type': u'Point', u'coordinates': [-121.8863286, 37.3382082]} \n",
      "\n",
      "{u'type': u'Point', u'coordinates': [-84.3879824, 33.7489954]} \n",
      "\n",
      "{u'type': u'Point', u'coordinates': [7.5949121, 50.3680029]} \n",
      "\n",
      "{u'type': u'Point', u'coordinates': [-95.6090009, 29.7801889]} \n",
      "\n",
      "{u'type': u'Point', u'coordinates': [-82.21336234, 27.03644926]} \n",
      "\n",
      "{u'type': u'Point', u'coordinates': [-98.4936282, 29.4241219]} \n",
      "\n",
      "{u'type': u'Point', u'coordinates': [-76.7238, 39.192978]} \n",
      "\n",
      "{u'type': u'Point', u'coordinates': [-78.898619, 35.9940329]} \n",
      "\n",
      "{u'type': u'Point', u'coordinates': [-91.4894045, 41.6838135]} \n",
      "\n",
      "{u'type': u'Point', u'coordinates': [-97.7430608, 30.267153]} \n",
      "\n",
      "{u'type': u'Point', u'coordinates': [-1.5359478, 53.7988358]} \n",
      "\n",
      "{u'type': u'Point', u'coordinates': [-1.5359478, 53.7988358]} \n",
      "\n",
      "{u'type': u'Point', u'coordinates': [-87.6297982, 41.8781136]} \n",
      "\n",
      "{u'type': u'Point', u'coordinates': [-77.1772604, 38.9338676]} \n",
      "\n",
      "{u'type': u'Point', u'coordinates': [-122.2284532, 47.3073228]} \n",
      "\n"
     ]
    }
   ],
   "source": [
    "coords = [cd for cd in df['coords'] if cd is not None]\n",
    "print len(coords)\n",
    "print len(df['coords'])\n",
    "print float(len(coords)) / len(df['coords'])\n",
    "for c in coords:\n",
    "    print c, '\\n'\n",
    "    "
   ]
  },
  {
   "cell_type": "markdown",
   "metadata": {},
   "source": [
    "# (Some) Text Processing"
   ]
  },
  {
   "cell_type": "code",
   "execution_count": 96,
   "metadata": {
    "collapsed": true
   },
   "outputs": [],
   "source": [
    "def word_in_text(word, text):\n",
    "    '''                                                                         \n",
    "    Search for word in text (case insensitive), return True if found, else      \n",
    "    return False                                                                \n",
    "    '''\n",
    "    match =  re.search(word.lower(), text.lower())\n",
    "    if match:\n",
    "        return True\n",
    "    return False"
   ]
  },
  {
   "cell_type": "code",
   "execution_count": 106,
   "metadata": {
    "collapsed": false
   },
   "outputs": [
    {
     "name": "stdout",
     "output_type": "stream",
     "text": [
      "text: This is a text string.\n",
      "\"this\" in text: True\n",
      "\"TEXT\" in text: True\n",
      "\"word\" in text: False\n"
     ]
    }
   ],
   "source": [
    "# Test                                                                          \n",
    "ex_text = 'This is a text string.'  \n",
    "print 'text:', text\n",
    "print '\"this\" in text:', word_in_text('this', text)                            \n",
    "print '\"TEXT\" in text:', word_in_text('TEXT', text)                            \n",
    "print '\"word\" in text:', word_in_text('word', text)                            "
   ]
  },
  {
   "cell_type": "code",
   "execution_count": 107,
   "metadata": {
    "collapsed": true
   },
   "outputs": [],
   "source": [
    "keywords = ['Cisco', 'CCNA', 'AWS', 'Sharepoint', 'linux', 'powershell',\n",
    "            'itil', 'sql', 'azure', 'ceh']"
   ]
  },
  {
   "cell_type": "code",
   "execution_count": 127,
   "metadata": {
    "collapsed": false
   },
   "outputs": [
    {
     "data": {
      "text/html": [
       "<div>\n",
       "<table border=\"1\" class=\"dataframe\">\n",
       "  <thead>\n",
       "    <tr style=\"text-align: right;\">\n",
       "      <th></th>\n",
       "      <th>text</th>\n",
       "      <th>user_lang</th>\n",
       "      <th>location</th>\n",
       "      <th>hashtags</th>\n",
       "      <th>retweet</th>\n",
       "      <th>n_retweet</th>\n",
       "      <th>n_followers</th>\n",
       "      <th>n_friends</th>\n",
       "      <th>name</th>\n",
       "      <th>coords</th>\n",
       "      <th>Cisco</th>\n",
       "      <th>CCNA</th>\n",
       "      <th>AWS</th>\n",
       "      <th>Sharepoint</th>\n",
       "      <th>linux</th>\n",
       "      <th>powershell</th>\n",
       "      <th>itil</th>\n",
       "      <th>sql</th>\n",
       "      <th>azure</th>\n",
       "      <th>ceh</th>\n",
       "    </tr>\n",
       "  </thead>\n",
       "  <tbody>\n",
       "    <tr>\n",
       "      <th>0</th>\n",
       "      <td>RT @JessikaDommeUK: I am now available for #Di...</td>\n",
       "      <td>en</td>\n",
       "      <td>UK</td>\n",
       "      <td>[{u'indices': [43, 54], u'text': u'DirectChat'...</td>\n",
       "      <td>False</td>\n",
       "      <td>0</td>\n",
       "      <td>12633</td>\n",
       "      <td>933</td>\n",
       "      <td>⭐️AdultworksFinest⭐️</td>\n",
       "      <td>None</td>\n",
       "      <td>False</td>\n",
       "      <td>False</td>\n",
       "      <td>False</td>\n",
       "      <td>False</td>\n",
       "      <td>False</td>\n",
       "      <td>False</td>\n",
       "      <td>False</td>\n",
       "      <td>False</td>\n",
       "      <td>False</td>\n",
       "      <td>False</td>\n",
       "    </tr>\n",
       "    <tr>\n",
       "      <th>1</th>\n",
       "      <td>yNewsbot: Bugtraq: #Cisco #Security #Advisory:...</td>\n",
       "      <td>en</td>\n",
       "      <td>tryingto #^fi~{|__#}%%*</td>\n",
       "      <td>[{u'indices': [19, 25], u'text': u'Cisco'}, {u...</td>\n",
       "      <td>False</td>\n",
       "      <td>0</td>\n",
       "      <td>2636</td>\n",
       "      <td>1084</td>\n",
       "      <td>❌Siraj Solution❌</td>\n",
       "      <td>None</td>\n",
       "      <td>True</td>\n",
       "      <td>False</td>\n",
       "      <td>False</td>\n",
       "      <td>False</td>\n",
       "      <td>False</td>\n",
       "      <td>False</td>\n",
       "      <td>False</td>\n",
       "      <td>False</td>\n",
       "      <td>False</td>\n",
       "      <td>False</td>\n",
       "    </tr>\n",
       "    <tr>\n",
       "      <th>2</th>\n",
       "      <td>RT @mims: Amazon is going to compete directly ...</td>\n",
       "      <td>en</td>\n",
       "      <td>None</td>\n",
       "      <td>[]</td>\n",
       "      <td>False</td>\n",
       "      <td>0</td>\n",
       "      <td>2624</td>\n",
       "      <td>4916</td>\n",
       "      <td>Leroy Wesley Annon</td>\n",
       "      <td>None</td>\n",
       "      <td>False</td>\n",
       "      <td>False</td>\n",
       "      <td>True</td>\n",
       "      <td>False</td>\n",
       "      <td>False</td>\n",
       "      <td>False</td>\n",
       "      <td>False</td>\n",
       "      <td>False</td>\n",
       "      <td>False</td>\n",
       "      <td>False</td>\n",
       "    </tr>\n",
       "    <tr>\n",
       "      <th>3</th>\n",
       "      <td>#Cisco Battles Shadow Broker Exploits. Read mo...</td>\n",
       "      <td>en</td>\n",
       "      <td>San Mateo, CA</td>\n",
       "      <td>[{u'indices': [0, 6], u'text': u'Cisco'}]</td>\n",
       "      <td>False</td>\n",
       "      <td>0</td>\n",
       "      <td>86</td>\n",
       "      <td>2</td>\n",
       "      <td>Networking News</td>\n",
       "      <td>None</td>\n",
       "      <td>True</td>\n",
       "      <td>False</td>\n",
       "      <td>False</td>\n",
       "      <td>False</td>\n",
       "      <td>False</td>\n",
       "      <td>False</td>\n",
       "      <td>False</td>\n",
       "      <td>False</td>\n",
       "      <td>False</td>\n",
       "      <td>False</td>\n",
       "    </tr>\n",
       "    <tr>\n",
       "      <th>4</th>\n",
       "      <td>#Cisco Battles Shadow Broker Exploits. Read mo...</td>\n",
       "      <td>en</td>\n",
       "      <td>San Mateo, CA</td>\n",
       "      <td>[{u'indices': [0, 6], u'text': u'Cisco'}]</td>\n",
       "      <td>False</td>\n",
       "      <td>0</td>\n",
       "      <td>20</td>\n",
       "      <td>2</td>\n",
       "      <td>Communication News</td>\n",
       "      <td>None</td>\n",
       "      <td>True</td>\n",
       "      <td>False</td>\n",
       "      <td>False</td>\n",
       "      <td>False</td>\n",
       "      <td>False</td>\n",
       "      <td>False</td>\n",
       "      <td>False</td>\n",
       "      <td>False</td>\n",
       "      <td>False</td>\n",
       "      <td>False</td>\n",
       "    </tr>\n",
       "  </tbody>\n",
       "</table>\n",
       "</div>"
      ],
      "text/plain": [
       "                                                text user_lang  \\\n",
       "0  RT @JessikaDommeUK: I am now available for #Di...        en   \n",
       "1  yNewsbot: Bugtraq: #Cisco #Security #Advisory:...        en   \n",
       "2  RT @mims: Amazon is going to compete directly ...        en   \n",
       "3  #Cisco Battles Shadow Broker Exploits. Read mo...        en   \n",
       "4  #Cisco Battles Shadow Broker Exploits. Read mo...        en   \n",
       "\n",
       "                  location                                           hashtags  \\\n",
       "0                       UK  [{u'indices': [43, 54], u'text': u'DirectChat'...   \n",
       "1  tryingto #^fi~{|__#}%%*  [{u'indices': [19, 25], u'text': u'Cisco'}, {u...   \n",
       "2                     None                                                 []   \n",
       "3            San Mateo, CA          [{u'indices': [0, 6], u'text': u'Cisco'}]   \n",
       "4            San Mateo, CA          [{u'indices': [0, 6], u'text': u'Cisco'}]   \n",
       "\n",
       "  retweet  n_retweet  n_followers  n_friends                  name coords  \\\n",
       "0   False          0        12633        933  ⭐️AdultworksFinest⭐️   None   \n",
       "1   False          0         2636       1084      ❌Siraj Solution❌   None   \n",
       "2   False          0         2624       4916    Leroy Wesley Annon   None   \n",
       "3   False          0           86          2       Networking News   None   \n",
       "4   False          0           20          2    Communication News   None   \n",
       "\n",
       "   Cisco   CCNA    AWS Sharepoint  linux powershell   itil    sql  azure  \\\n",
       "0  False  False  False      False  False      False  False  False  False   \n",
       "1   True  False  False      False  False      False  False  False  False   \n",
       "2  False  False   True      False  False      False  False  False  False   \n",
       "3   True  False  False      False  False      False  False  False  False   \n",
       "4   True  False  False      False  False      False  False  False  False   \n",
       "\n",
       "     ceh  \n",
       "0  False  \n",
       "1  False  \n",
       "2  False  \n",
       "3  False  \n",
       "4  False  "
      ]
     },
     "execution_count": 127,
     "metadata": {},
     "output_type": "execute_result"
    }
   ],
   "source": [
    "for word in keywords:\n",
    "    df[word] = df['text'].apply(lambda tweet: word_in_text(word, tweet)\n",
    "                                if tweet else None)\n",
    "    \n",
    "df.head()"
   ]
  },
  {
   "cell_type": "markdown",
   "metadata": {},
   "source": [
    "Write DataFrame to .csv for potential further processing\n",
    "Note: encoding defaults to ascii, but will throw error if non-ascii text  found (e.g., international text), hence the utf-8 encoding argument."
   ]
  },
  {
   "cell_type": "code",
   "execution_count": 128,
   "metadata": {
    "collapsed": true
   },
   "outputs": [],
   "source": [
    "df.to_csv('twitter.csv', encoding = 'utf-8')"
   ]
  },
  {
   "cell_type": "code",
   "execution_count": 129,
   "metadata": {
    "collapsed": true
   },
   "outputs": [],
   "source": [
    "# Alternately pickle as a Python object\n",
    "df.to_pickle('twitter_pickle')"
   ]
  },
  {
   "cell_type": "markdown",
   "metadata": {},
   "source": [
    "Analyses are conducted in a separate notebook."
   ]
  }
 ],
 "metadata": {
  "kernelspec": {
   "display_name": "Python 2",
   "language": "python",
   "name": "python2"
  },
  "language_info": {
   "codemirror_mode": {
    "name": "ipython",
    "version": 2
   },
   "file_extension": ".py",
   "mimetype": "text/x-python",
   "name": "python",
   "nbconvert_exporter": "python",
   "pygments_lexer": "ipython2",
   "version": "2.7.12"
  }
 },
 "nbformat": 4,
 "nbformat_minor": 0
}
