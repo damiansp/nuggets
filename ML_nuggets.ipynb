{
 "cells": [
  {
   "cell_type": "markdown",
   "metadata": {},
   "source": [
    "# Import Python Modules"
   ]
  },
  {
   "cell_type": "code",
   "execution_count": 6,
   "metadata": {
    "collapsed": true
   },
   "outputs": [],
   "source": [
    "import matplotlib.pyplot as plt\n",
    "import numpy as np\n",
    "import pandas as pd\n",
    "from sklearn.cross_validation import train_test_split\n",
    "from sklearn.linear_model import LinearRegression"
   ]
  },
  {
   "cell_type": "markdown",
   "metadata": {},
   "source": [
    "## Approach\n",
    "In this notebook, revenue will be estimated with an ensemble of machine learning techniques. Specifically:\n",
    "* Because there are many predictors, the model space will be managed by\n",
    "    * PCA to compress variable space and/or\n",
    "    * Ridge Regression to minimize overfitting by large coefficient values \n",
    "* Regression \n",
    "* Regression Trees"
   ]
  },
  {
   "cell_type": "markdown",
   "metadata": {},
   "source": [
    "# Read in Data\n",
    "Some initial preprocessing was done:\n",
    "* Replaced blanks with NAs (NaN in df below)\n",
    "* Moved the reponse variable (revenue) to the first field\n",
    "\n",
    "Preprocessing done in R ('nuggetsPreprocess.R')\n",
    "* Changed binary variables to y/n for portability\n",
    "* Added variables rev1weekAgo - rev4weekAgo and weekOfYear for handling temporal autocorrelation and seasonality"
   ]
  },
  {
   "cell_type": "code",
   "execution_count": 2,
   "metadata": {
    "collapsed": false
   },
   "outputs": [
    {
     "data": {
      "text/html": [
       "<div>\n",
       "<table border=\"1\" class=\"dataframe\">\n",
       "  <thead>\n",
       "    <tr style=\"text-align: right;\">\n",
       "      <th></th>\n",
       "      <th>revenue</th>\n",
       "      <th>Week</th>\n",
       "      <th>weekno</th>\n",
       "      <th>highseason</th>\n",
       "      <th>holiday</th>\n",
       "      <th>displayimp</th>\n",
       "      <th>displaylag</th>\n",
       "      <th>brandpaid</th>\n",
       "      <th>brandclicks</th>\n",
       "      <th>nonbrandpaid</th>\n",
       "      <th>...</th>\n",
       "      <th>blogsignup</th>\n",
       "      <th>autoenroll</th>\n",
       "      <th>socialperson</th>\n",
       "      <th>promoteposts</th>\n",
       "      <th>learner</th>\n",
       "      <th>rev1weekAgo</th>\n",
       "      <th>rev2weekAgo</th>\n",
       "      <th>rev3weekAgo</th>\n",
       "      <th>rev4weekAgo</th>\n",
       "      <th>weekOfYear</th>\n",
       "    </tr>\n",
       "  </thead>\n",
       "  <tbody>\n",
       "    <tr>\n",
       "      <th>0</th>\n",
       "      <td>178480</td>\n",
       "      <td>2/2/14</td>\n",
       "      <td>1</td>\n",
       "      <td>y</td>\n",
       "      <td>n</td>\n",
       "      <td>987718</td>\n",
       "      <td>983958.0000</td>\n",
       "      <td>31589</td>\n",
       "      <td>4715</td>\n",
       "      <td>105901</td>\n",
       "      <td>...</td>\n",
       "      <td>18</td>\n",
       "      <td>y</td>\n",
       "      <td>y</td>\n",
       "      <td>n</td>\n",
       "      <td>n</td>\n",
       "      <td>NaN</td>\n",
       "      <td>NaN</td>\n",
       "      <td>NaN</td>\n",
       "      <td>NaN</td>\n",
       "      <td>5</td>\n",
       "    </tr>\n",
       "    <tr>\n",
       "      <th>1</th>\n",
       "      <td>185390</td>\n",
       "      <td>2/9/14</td>\n",
       "      <td>2</td>\n",
       "      <td>y</td>\n",
       "      <td>n</td>\n",
       "      <td>660136</td>\n",
       "      <td>907388.9167</td>\n",
       "      <td>30428</td>\n",
       "      <td>4540</td>\n",
       "      <td>108652</td>\n",
       "      <td>...</td>\n",
       "      <td>16</td>\n",
       "      <td>y</td>\n",
       "      <td>y</td>\n",
       "      <td>n</td>\n",
       "      <td>n</td>\n",
       "      <td>178480</td>\n",
       "      <td>NaN</td>\n",
       "      <td>NaN</td>\n",
       "      <td>NaN</td>\n",
       "      <td>6</td>\n",
       "    </tr>\n",
       "    <tr>\n",
       "      <th>2</th>\n",
       "      <td>178130</td>\n",
       "      <td>2/16/14</td>\n",
       "      <td>3</td>\n",
       "      <td>y</td>\n",
       "      <td>n</td>\n",
       "      <td>604606</td>\n",
       "      <td>852862.4167</td>\n",
       "      <td>30715</td>\n",
       "      <td>4417</td>\n",
       "      <td>119398</td>\n",
       "      <td>...</td>\n",
       "      <td>21</td>\n",
       "      <td>y</td>\n",
       "      <td>y</td>\n",
       "      <td>n</td>\n",
       "      <td>n</td>\n",
       "      <td>185390</td>\n",
       "      <td>178480</td>\n",
       "      <td>NaN</td>\n",
       "      <td>NaN</td>\n",
       "      <td>7</td>\n",
       "    </tr>\n",
       "    <tr>\n",
       "      <th>3</th>\n",
       "      <td>185020</td>\n",
       "      <td>2/23/14</td>\n",
       "      <td>4</td>\n",
       "      <td>y</td>\n",
       "      <td>n</td>\n",
       "      <td>560656</td>\n",
       "      <td>851885.3333</td>\n",
       "      <td>31632</td>\n",
       "      <td>4372</td>\n",
       "      <td>134819</td>\n",
       "      <td>...</td>\n",
       "      <td>19</td>\n",
       "      <td>y</td>\n",
       "      <td>y</td>\n",
       "      <td>n</td>\n",
       "      <td>n</td>\n",
       "      <td>178130</td>\n",
       "      <td>185390</td>\n",
       "      <td>178480</td>\n",
       "      <td>NaN</td>\n",
       "      <td>8</td>\n",
       "    </tr>\n",
       "    <tr>\n",
       "      <th>4</th>\n",
       "      <td>170950</td>\n",
       "      <td>3/2/14</td>\n",
       "      <td>5</td>\n",
       "      <td>y</td>\n",
       "      <td>n</td>\n",
       "      <td>326112</td>\n",
       "      <td>827164.4167</td>\n",
       "      <td>NaN</td>\n",
       "      <td>4431</td>\n",
       "      <td>115865</td>\n",
       "      <td>...</td>\n",
       "      <td>11</td>\n",
       "      <td>y</td>\n",
       "      <td>y</td>\n",
       "      <td>n</td>\n",
       "      <td>n</td>\n",
       "      <td>185020</td>\n",
       "      <td>178130</td>\n",
       "      <td>185390</td>\n",
       "      <td>178480</td>\n",
       "      <td>9</td>\n",
       "    </tr>\n",
       "  </tbody>\n",
       "</table>\n",
       "<p>5 rows × 47 columns</p>\n",
       "</div>"
      ],
      "text/plain": [
       "   revenue     Week  weekno highseason holiday  displayimp   displaylag  \\\n",
       "0   178480   2/2/14       1          y       n      987718  983958.0000   \n",
       "1   185390   2/9/14       2          y       n      660136  907388.9167   \n",
       "2   178130  2/16/14       3          y       n      604606  852862.4167   \n",
       "3   185020  2/23/14       4          y       n      560656  851885.3333   \n",
       "4   170950   3/2/14       5          y       n      326112  827164.4167   \n",
       "\n",
       "   brandpaid  brandclicks  nonbrandpaid     ...      blogsignup  autoenroll  \\\n",
       "0      31589         4715        105901     ...              18           y   \n",
       "1      30428         4540        108652     ...              16           y   \n",
       "2      30715         4417        119398     ...              21           y   \n",
       "3      31632         4372        134819     ...              19           y   \n",
       "4        NaN         4431        115865     ...              11           y   \n",
       "\n",
       "   socialperson  promoteposts  learner  rev1weekAgo  rev2weekAgo  rev3weekAgo  \\\n",
       "0             y             n        n          NaN          NaN          NaN   \n",
       "1             y             n        n       178480          NaN          NaN   \n",
       "2             y             n        n       185390       178480          NaN   \n",
       "3             y             n        n       178130       185390       178480   \n",
       "4             y             n        n       185020       178130       185390   \n",
       "\n",
       "   rev4weekAgo  weekOfYear  \n",
       "0          NaN           5  \n",
       "1          NaN           6  \n",
       "2          NaN           7  \n",
       "3          NaN           8  \n",
       "4       178480           9  \n",
       "\n",
       "[5 rows x 47 columns]"
      ]
     },
     "execution_count": 2,
     "metadata": {},
     "output_type": "execute_result"
    }
   ],
   "source": [
    "df = pd.read_csv('dataClean.csv')\n",
    "df2 = pd.read_csv('dataCleanNoOutlier.csv')\n",
    "df.head()"
   ]
  },
  {
   "cell_type": "markdown",
   "metadata": {},
   "source": [
    "## Parse Data into Train and Test Sets\n",
    "Because we are looking at two data sets (with and without \"outliers\" removed), we want the same data to be in each Test and Training set for direct comparison."
   ]
  },
  {
   "cell_type": "code",
   "execution_count": 3,
   "metadata": {
    "collapsed": false
   },
   "outputs": [
    {
     "data": {
      "text/plain": [
       "(117, 47)"
      ]
     },
     "execution_count": 3,
     "metadata": {},
     "output_type": "execute_result"
    }
   ],
   "source": [
    "df.shape"
   ]
  },
  {
   "cell_type": "markdown",
   "metadata": {},
   "source": [
    "Hold out ~25% or 29 rows of data for the test set."
   ]
  },
  {
   "cell_type": "code",
   "execution_count": 4,
   "metadata": {
    "collapsed": false
   },
   "outputs": [],
   "source": [
    "# Separate df into X (predictors) and y (response)\n",
    "X = df.ix[:, 1:47]\n",
    "y = df.ix[:, 0]\n",
    "\n",
    "# Same for data with outliers removed\n",
    "X2 = df2.ix[:, 1:47]\n",
    "y2 = df2.ix[:, 0]\n",
    "\n",
    "# Now split each into testing and training sets\n",
    "# Ideally, we would stratify the data, but there are too few data in this\n",
    "# sample \n",
    "X_train, X_test, y_train, y_test = train_test_split(\n",
    "    X, y, test_size = 0.25, random_state = 11)\n",
    "X2_train, X2_test, y2_train, y2_test = train_test_split(\n",
    "    X2, y2, test_size = 0.25, random_state = 11)"
   ]
  },
  {
   "cell_type": "code",
   "execution_count": 5,
   "metadata": {
    "collapsed": false
   },
   "outputs": [
    {
     "name": "stdout",
     "output_type": "stream",
     "text": [
      "110    3/13/16\n",
      "28     8/17/14\n",
      "51     1/25/15\n",
      "56      3/1/15\n",
      "39     11/2/14\n",
      "Name: Week, dtype: object \n",
      "110    3/13/16\n",
      "28     8/17/14\n",
      "51     1/25/15\n",
      "56      3/1/15\n",
      "39     11/2/14\n",
      "Name: Week, dtype: object\n",
      "110    166860\n",
      "28     150160\n",
      "51     183670\n",
      "56     182780\n",
      "39     152870\n",
      "Name: revenue, dtype: int64 \n",
      "110    166860\n",
      "28     150160\n",
      "51     183670\n",
      "56     182780\n",
      "39     152870\n",
      "Name: revenue, dtype: int64\n"
     ]
    }
   ],
   "source": [
    "# Verify that splitting was the same for both sets\n",
    "print X_train.Week[:5], '\\n', X2_train.Week[:5]\n",
    "print y_train[:5], '\\n', y2_train[:5]"
   ]
  },
  {
   "cell_type": "markdown",
   "metadata": {},
   "source": [
    "For now, ignore the outlier-removed data set (X2, y2), and work with X, y\n",
    "\n",
    "Start with a basic linear model and use its predictions as a baseline score to beat."
   ]
  },
  {
   "cell_type": "code",
   "execution_count": 7,
   "metadata": {
    "collapsed": false
   },
   "outputs": [
    {
     "ename": "ValueError",
     "evalue": "could not convert string to float: y",
     "output_type": "error",
     "traceback": [
      "\u001b[0;31m---------------------------------------------------------------------------\u001b[0m",
      "\u001b[0;31mValueError\u001b[0m                                Traceback (most recent call last)",
      "\u001b[0;32m<ipython-input-7-591b4b490f10>\u001b[0m in \u001b[0;36m<module>\u001b[0;34m()\u001b[0m\n\u001b[1;32m      1\u001b[0m \u001b[0mlr\u001b[0m \u001b[0;34m=\u001b[0m \u001b[0mLinearRegression\u001b[0m\u001b[0;34m(\u001b[0m\u001b[0;34m)\u001b[0m\u001b[0;34m\u001b[0m\u001b[0m\n\u001b[0;32m----> 2\u001b[0;31m \u001b[0mlr\u001b[0m\u001b[0;34m.\u001b[0m\u001b[0mfit\u001b[0m\u001b[0;34m(\u001b[0m\u001b[0mX_train\u001b[0m\u001b[0;34m,\u001b[0m \u001b[0my_train\u001b[0m\u001b[0;34m)\u001b[0m\u001b[0;34m\u001b[0m\u001b[0m\n\u001b[0m",
      "\u001b[0;32m/Users/dsp/anaconda/lib/python2.7/site-packages/sklearn/linear_model/base.pyc\u001b[0m in \u001b[0;36mfit\u001b[0;34m(self, X, y, sample_weight)\u001b[0m\n\u001b[1;32m    425\u001b[0m         \u001b[0mn_jobs_\u001b[0m \u001b[0;34m=\u001b[0m \u001b[0mself\u001b[0m\u001b[0;34m.\u001b[0m\u001b[0mn_jobs\u001b[0m\u001b[0;34m\u001b[0m\u001b[0m\n\u001b[1;32m    426\u001b[0m         X, y = check_X_y(X, y, accept_sparse=['csr', 'csc', 'coo'],\n\u001b[0;32m--> 427\u001b[0;31m                          y_numeric=True, multi_output=True)\n\u001b[0m\u001b[1;32m    428\u001b[0m \u001b[0;34m\u001b[0m\u001b[0m\n\u001b[1;32m    429\u001b[0m         \u001b[0;32mif\u001b[0m \u001b[0;34m(\u001b[0m\u001b[0;34m(\u001b[0m\u001b[0msample_weight\u001b[0m \u001b[0;32mis\u001b[0m \u001b[0;32mnot\u001b[0m \u001b[0mNone\u001b[0m\u001b[0;34m)\u001b[0m \u001b[0;32mand\u001b[0m \u001b[0mnp\u001b[0m\u001b[0;34m.\u001b[0m\u001b[0matleast_1d\u001b[0m\u001b[0;34m(\u001b[0m\u001b[0msample_weight\u001b[0m\u001b[0;34m)\u001b[0m\u001b[0;34m.\u001b[0m\u001b[0mndim\u001b[0m \u001b[0;34m>\u001b[0m \u001b[0;36m1\u001b[0m\u001b[0;34m)\u001b[0m\u001b[0;34m:\u001b[0m\u001b[0;34m\u001b[0m\u001b[0m\n",
      "\u001b[0;32m/Users/dsp/anaconda/lib/python2.7/site-packages/sklearn/utils/validation.pyc\u001b[0m in \u001b[0;36mcheck_X_y\u001b[0;34m(X, y, accept_sparse, dtype, order, copy, force_all_finite, ensure_2d, allow_nd, multi_output, ensure_min_samples, ensure_min_features, y_numeric, warn_on_dtype, estimator)\u001b[0m\n\u001b[1;32m    508\u001b[0m     X = check_array(X, accept_sparse, dtype, order, copy, force_all_finite,\n\u001b[1;32m    509\u001b[0m                     \u001b[0mensure_2d\u001b[0m\u001b[0;34m,\u001b[0m \u001b[0mallow_nd\u001b[0m\u001b[0;34m,\u001b[0m \u001b[0mensure_min_samples\u001b[0m\u001b[0;34m,\u001b[0m\u001b[0;34m\u001b[0m\u001b[0m\n\u001b[0;32m--> 510\u001b[0;31m                     ensure_min_features, warn_on_dtype, estimator)\n\u001b[0m\u001b[1;32m    511\u001b[0m     \u001b[0;32mif\u001b[0m \u001b[0mmulti_output\u001b[0m\u001b[0;34m:\u001b[0m\u001b[0;34m\u001b[0m\u001b[0m\n\u001b[1;32m    512\u001b[0m         y = check_array(y, 'csr', force_all_finite=True, ensure_2d=False,\n",
      "\u001b[0;32m/Users/dsp/anaconda/lib/python2.7/site-packages/sklearn/utils/validation.pyc\u001b[0m in \u001b[0;36mcheck_array\u001b[0;34m(array, accept_sparse, dtype, order, copy, force_all_finite, ensure_2d, allow_nd, ensure_min_samples, ensure_min_features, warn_on_dtype, estimator)\u001b[0m\n\u001b[1;32m    391\u001b[0m         \u001b[0;31m# make sure we acually converted to numeric:\u001b[0m\u001b[0;34m\u001b[0m\u001b[0;34m\u001b[0m\u001b[0m\n\u001b[1;32m    392\u001b[0m         \u001b[0;32mif\u001b[0m \u001b[0mdtype_numeric\u001b[0m \u001b[0;32mand\u001b[0m \u001b[0marray\u001b[0m\u001b[0;34m.\u001b[0m\u001b[0mdtype\u001b[0m\u001b[0;34m.\u001b[0m\u001b[0mkind\u001b[0m \u001b[0;34m==\u001b[0m \u001b[0;34m\"O\"\u001b[0m\u001b[0;34m:\u001b[0m\u001b[0;34m\u001b[0m\u001b[0m\n\u001b[0;32m--> 393\u001b[0;31m             \u001b[0marray\u001b[0m \u001b[0;34m=\u001b[0m \u001b[0marray\u001b[0m\u001b[0;34m.\u001b[0m\u001b[0mastype\u001b[0m\u001b[0;34m(\u001b[0m\u001b[0mnp\u001b[0m\u001b[0;34m.\u001b[0m\u001b[0mfloat64\u001b[0m\u001b[0;34m)\u001b[0m\u001b[0;34m\u001b[0m\u001b[0m\n\u001b[0m\u001b[1;32m    394\u001b[0m         \u001b[0;32mif\u001b[0m \u001b[0;32mnot\u001b[0m \u001b[0mallow_nd\u001b[0m \u001b[0;32mand\u001b[0m \u001b[0marray\u001b[0m\u001b[0;34m.\u001b[0m\u001b[0mndim\u001b[0m \u001b[0;34m>=\u001b[0m \u001b[0;36m3\u001b[0m\u001b[0;34m:\u001b[0m\u001b[0;34m\u001b[0m\u001b[0m\n\u001b[1;32m    395\u001b[0m             raise ValueError(\"Found array with dim %d. %s expected <= 2.\"\n",
      "\u001b[0;31mValueError\u001b[0m: could not convert string to float: y"
     ]
    }
   ],
   "source": [
    "lr = LinearRegression()\n",
    "lr.fit(X_train, y_train)"
   ]
  },
  {
   "cell_type": "code",
   "execution_count": null,
   "metadata": {
    "collapsed": true
   },
   "outputs": [],
   "source": []
  }
 ],
 "metadata": {
  "kernelspec": {
   "display_name": "Python 2",
   "language": "python",
   "name": "python2"
  },
  "language_info": {
   "codemirror_mode": {
    "name": "ipython",
    "version": 2
   },
   "file_extension": ".py",
   "mimetype": "text/x-python",
   "name": "python",
   "nbconvert_exporter": "python",
   "pygments_lexer": "ipython2",
   "version": "2.7.12"
  }
 },
 "nbformat": 4,
 "nbformat_minor": 0
}
