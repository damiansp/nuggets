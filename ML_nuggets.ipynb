{
 "cells": [
  {
   "cell_type": "markdown",
   "metadata": {},
   "source": [
    "# Import Python Modules"
   ]
  },
  {
   "cell_type": "code",
   "execution_count": 79,
   "metadata": {
    "collapsed": true
   },
   "outputs": [],
   "source": [
    "from __future__ import division\n",
    "import matplotlib.pyplot as plt\n",
    "import numpy as np\n",
    "import pandas as pd\n",
    "from sklearn.cross_validation import train_test_split\n",
    "from sklearn.ensemble import VotingClassifier\n",
    "from sklearn.grid_search import GridSearchCV\n",
    "from sklearn.learning_curve import learning_curve, validation_curve\n",
    "from sklearn.linear_model import Lasso, LinearRegression, Ridge\n",
    "from sklearn.pipeline import Pipeline\n",
    "from sklearn.preprocessing import OneHotEncoder\n",
    "\n",
    "%matplotlib inline"
   ]
  },
  {
   "cell_type": "markdown",
   "metadata": {},
   "source": [
    "## Approach\n",
    "In the R files, both regression and tree models were considered, and the best model found so-far was a regression model.  The tree model with the lowest cross-validation error on the training data did not perform nearly as well, but used only two variables.  Here both methods are combined into an ensemble."
   ]
  },
  {
   "cell_type": "markdown",
   "metadata": {},
   "source": [
    "# Read in Data\n",
    "Some initial preprocessing was done in the R files:\n",
    "* Replaced blanks with NAs (NaN in df below)\n",
    "* Moved the reponse variable (revenue) to the first field\n",
    "* Replaced some outliers with NAs"
   ]
  },
  {
   "cell_type": "code",
   "execution_count": 2,
   "metadata": {
    "collapsed": false
   },
   "outputs": [
    {
     "data": {
      "text/html": [
       "<div>\n",
       "<table border=\"1\" class=\"dataframe\">\n",
       "  <thead>\n",
       "    <tr style=\"text-align: right;\">\n",
       "      <th></th>\n",
       "      <th>revenue</th>\n",
       "      <th>weekno</th>\n",
       "      <th>highseason</th>\n",
       "      <th>holiday</th>\n",
       "      <th>displayimp</th>\n",
       "      <th>displaylag</th>\n",
       "      <th>brandpaid</th>\n",
       "      <th>brandclicks</th>\n",
       "      <th>nonbrandpaid</th>\n",
       "      <th>nonbrandclicks</th>\n",
       "      <th>...</th>\n",
       "      <th>logSocialpostlag</th>\n",
       "      <th>organicnew2</th>\n",
       "      <th>logOrganicnew</th>\n",
       "      <th>blognewusers2</th>\n",
       "      <th>blognewusersRecip</th>\n",
       "      <th>Fbpostimplag2</th>\n",
       "      <th>weekOfYear2</th>\n",
       "      <th>sinWeekOfYear</th>\n",
       "      <th>Twpostimp2</th>\n",
       "      <th>logTwpostimp</th>\n",
       "    </tr>\n",
       "  </thead>\n",
       "  <tbody>\n",
       "    <tr>\n",
       "      <th>0</th>\n",
       "      <td>178480</td>\n",
       "      <td>1</td>\n",
       "      <td>1</td>\n",
       "      <td>0</td>\n",
       "      <td>987718</td>\n",
       "      <td>983958.0000</td>\n",
       "      <td>31589</td>\n",
       "      <td>4715</td>\n",
       "      <td>105901</td>\n",
       "      <td>1519</td>\n",
       "      <td>...</td>\n",
       "      <td>198063.75</td>\n",
       "      <td>574369156</td>\n",
       "      <td>10.084391</td>\n",
       "      <td>3717184</td>\n",
       "      <td>0.000519</td>\n",
       "      <td>23343103440</td>\n",
       "      <td>25</td>\n",
       "      <td>0.822984</td>\n",
       "      <td>2245432996</td>\n",
       "      <td>10.766082</td>\n",
       "    </tr>\n",
       "    <tr>\n",
       "      <th>1</th>\n",
       "      <td>185390</td>\n",
       "      <td>2</td>\n",
       "      <td>1</td>\n",
       "      <td>0</td>\n",
       "      <td>660136</td>\n",
       "      <td>907388.9167</td>\n",
       "      <td>30428</td>\n",
       "      <td>4540</td>\n",
       "      <td>108652</td>\n",
       "      <td>1589</td>\n",
       "      <td>...</td>\n",
       "      <td>196355.00</td>\n",
       "      <td>600740100</td>\n",
       "      <td>10.106836</td>\n",
       "      <td>4137156</td>\n",
       "      <td>0.000492</td>\n",
       "      <td>21755266688</td>\n",
       "      <td>36</td>\n",
       "      <td>0.748511</td>\n",
       "      <td>8690900625</td>\n",
       "      <td>11.442771</td>\n",
       "    </tr>\n",
       "    <tr>\n",
       "      <th>2</th>\n",
       "      <td>178130</td>\n",
       "      <td>3</td>\n",
       "      <td>1</td>\n",
       "      <td>0</td>\n",
       "      <td>604606</td>\n",
       "      <td>852862.4167</td>\n",
       "      <td>30715</td>\n",
       "      <td>4417</td>\n",
       "      <td>119398</td>\n",
       "      <td>1595</td>\n",
       "      <td>...</td>\n",
       "      <td>194301.80</td>\n",
       "      <td>664144441</td>\n",
       "      <td>10.157005</td>\n",
       "      <td>10569001</td>\n",
       "      <td>0.000308</td>\n",
       "      <td>22414206939</td>\n",
       "      <td>49</td>\n",
       "      <td>0.663123</td>\n",
       "      <td>42966656656</td>\n",
       "      <td>12.241845</td>\n",
       "    </tr>\n",
       "    <tr>\n",
       "      <th>3</th>\n",
       "      <td>185020</td>\n",
       "      <td>4</td>\n",
       "      <td>1</td>\n",
       "      <td>0</td>\n",
       "      <td>560656</td>\n",
       "      <td>851885.3333</td>\n",
       "      <td>31632</td>\n",
       "      <td>4372</td>\n",
       "      <td>134819</td>\n",
       "      <td>1606</td>\n",
       "      <td>...</td>\n",
       "      <td>196355.00</td>\n",
       "      <td>679540624</td>\n",
       "      <td>10.168464</td>\n",
       "      <td>37601424</td>\n",
       "      <td>0.000163</td>\n",
       "      <td>21358244109</td>\n",
       "      <td>64</td>\n",
       "      <td>0.568065</td>\n",
       "      <td>4117917241</td>\n",
       "      <td>11.069307</td>\n",
       "    </tr>\n",
       "    <tr>\n",
       "      <th>4</th>\n",
       "      <td>170950</td>\n",
       "      <td>5</td>\n",
       "      <td>1</td>\n",
       "      <td>0</td>\n",
       "      <td>326112</td>\n",
       "      <td>827164.4167</td>\n",
       "      <td>NaN</td>\n",
       "      <td>4431</td>\n",
       "      <td>115865</td>\n",
       "      <td>1522</td>\n",
       "      <td>...</td>\n",
       "      <td>216089.00</td>\n",
       "      <td>581533225</td>\n",
       "      <td>10.090589</td>\n",
       "      <td>3069504</td>\n",
       "      <td>0.000571</td>\n",
       "      <td>NaN</td>\n",
       "      <td>81</td>\n",
       "      <td>0.464723</td>\n",
       "      <td>2996248644</td>\n",
       "      <td>10.910313</td>\n",
       "    </tr>\n",
       "  </tbody>\n",
       "</table>\n",
       "<p>5 rows × 57 columns</p>\n",
       "</div>"
      ],
      "text/plain": [
       "   revenue  weekno  highseason  holiday  displayimp   displaylag  brandpaid  \\\n",
       "0   178480       1           1        0      987718  983958.0000      31589   \n",
       "1   185390       2           1        0      660136  907388.9167      30428   \n",
       "2   178130       3           1        0      604606  852862.4167      30715   \n",
       "3   185020       4           1        0      560656  851885.3333      31632   \n",
       "4   170950       5           1        0      326112  827164.4167        NaN   \n",
       "\n",
       "   brandclicks  nonbrandpaid  nonbrandclicks      ...       logSocialpostlag  \\\n",
       "0         4715        105901            1519      ...              198063.75   \n",
       "1         4540        108652            1589      ...              196355.00   \n",
       "2         4417        119398            1595      ...              194301.80   \n",
       "3         4372        134819            1606      ...              196355.00   \n",
       "4         4431        115865            1522      ...              216089.00   \n",
       "\n",
       "   organicnew2  logOrganicnew  blognewusers2  blognewusersRecip  \\\n",
       "0    574369156      10.084391        3717184           0.000519   \n",
       "1    600740100      10.106836        4137156           0.000492   \n",
       "2    664144441      10.157005       10569001           0.000308   \n",
       "3    679540624      10.168464       37601424           0.000163   \n",
       "4    581533225      10.090589        3069504           0.000571   \n",
       "\n",
       "   Fbpostimplag2  weekOfYear2  sinWeekOfYear   Twpostimp2  logTwpostimp  \n",
       "0    23343103440           25       0.822984   2245432996     10.766082  \n",
       "1    21755266688           36       0.748511   8690900625     11.442771  \n",
       "2    22414206939           49       0.663123  42966656656     12.241845  \n",
       "3    21358244109           64       0.568065   4117917241     11.069307  \n",
       "4            NaN           81       0.464723   2996248644     10.910313  \n",
       "\n",
       "[5 rows x 57 columns]"
      ]
     },
     "execution_count": 2,
     "metadata": {},
     "output_type": "execute_result"
    }
   ],
   "source": [
    "df = pd.read_csv('dataCleanNoOutlier.csv')\n",
    "# Drop the Week column, same info is captured in weekno\n",
    "df = df.drop('Week', 1)\n",
    "df.head()"
   ]
  },
  {
   "cell_type": "markdown",
   "metadata": {},
   "source": [
    "# Preprocessing\n",
    "### Repeat Scaling in Python\n",
    "As was done in R, variables are rescaled to be on the interval [0, 1]\n",
    "(This is done primarily for the sake of having a clear sequence of steps to perform when testing new data)"
   ]
  },
  {
   "cell_type": "code",
   "execution_count": 3,
   "metadata": {
    "collapsed": false
   },
   "outputs": [
    {
     "data": {
      "text/plain": [
       "array([ 0.3,  0.2,  0.8,  0. ,  0.6,  1. ])"
      ]
     },
     "execution_count": 3,
     "metadata": {},
     "output_type": "execute_result"
    }
   ],
   "source": [
    "def rescale(x):\n",
    "    '''\n",
    "    Rescale a vector x such that all values lie on the interval [0, 1]\n",
    "    x: an np.array\n",
    "    '''\n",
    "    x = x - np.min(x)\n",
    "    x = x / np.max(x)\n",
    "    return x\n",
    "\n",
    "# Test\n",
    "x = np.array([4, 3, 9, 1, 7, 11])\n",
    "rescale(x)"
   ]
  },
  {
   "cell_type": "code",
   "execution_count": 4,
   "metadata": {
    "collapsed": false
   },
   "outputs": [],
   "source": [
    "# Rescale all columns\n",
    "df.ix[:, 2:59] = df.ix[:, 2:59].apply(rescale) "
   ]
  },
  {
   "cell_type": "code",
   "execution_count": 5,
   "metadata": {
    "collapsed": false
   },
   "outputs": [
    {
     "data": {
      "image/png": "[encoded data removed]",
      "text/plain": [
       "<matplotlib.figure.Figure at 0x104129d10>"
      ]
     },
     "metadata": {},
     "output_type": "display_data"
    }
   ],
   "source": [
    "# Examine a column to verify that transformation was correct\n",
    "df['displaylag'].plot();"
   ]
  },
  {
   "cell_type": "markdown",
   "metadata": {},
   "source": [
    "### Normalizing Right-Skewed Distributions\n",
    "The details of how these exponents were found are provided in `nuggetAnalysis3.R`"
   ]
  },
  {
   "cell_type": "code",
   "execution_count": 6,
   "metadata": {
    "collapsed": false
   },
   "outputs": [
    {
     "data": {
      "image/png": "[encoded data removed]",
      "text/plain": [
       "<matplotlib.figure.Figure at 0x1171f4790>"
      ]
     },
     "metadata": {},
     "output_type": "display_data"
    }
   ],
   "source": [
    "# Transform each of the following by their optimal exponential transform\n",
    "df['socialpostimp'] = df['socialpostimp'] ** 0.29\n",
    "df['socialpostimp'].hist(bins = 20);"
   ]
  },
  {
   "cell_type": "code",
   "execution_count": 7,
   "metadata": {
    "collapsed": false
   },
   "outputs": [],
   "source": [
    "df['socialpostimp'] = df['socialpostimp'] ** 0.29\n",
    "df['Fbpostimp'] = df['Fbpostimp'] ** 0.33\n",
    "df['Fbpostimplag'] = df['Fbpostimplag'] ** 0.29\n",
    "df['Fblikes'] = df['Fblikes'] ** 0.60\n",
    "df['Fbengage'] = df['Fbengage'] ** 0.44\n",
    "df['Twpostimp'] = df['Twpostimp'] ** 0.29"
   ]
  },
  {
   "cell_type": "markdown",
   "metadata": {},
   "source": [
    "Rescale again so new transformed values also distributed over [0, 1]:"
   ]
  },
  {
   "cell_type": "code",
   "execution_count": 8,
   "metadata": {
    "collapsed": false
   },
   "outputs": [
    {
     "data": {
      "image/png": "[encoded data removed]",
      "text/plain": [
       "<matplotlib.figure.Figure at 0x1176376d0>"
      ]
     },
     "metadata": {},
     "output_type": "display_data"
    }
   ],
   "source": [
    "# Rescale all columns\n",
    "df.ix[:, 2:59] = df.ix[:, 2:59].apply(rescale) \n",
    "\n",
    "# Verify\n",
    "df['Twpostimp'].plot();"
   ]
  },
  {
   "cell_type": "code",
   "execution_count": 9,
   "metadata": {
    "collapsed": false
   },
   "outputs": [
    {
     "data": {
      "image/png": "[encoded data removed]",
      "text/plain": [
       "<matplotlib.figure.Figure at 0x1177728d0>"
      ]
     },
     "metadata": {},
     "output_type": "display_data"
    }
   ],
   "source": [
    "df.fillna(method = 'ffill', axis = 0, inplace = True)\n",
    "df.fillna(method = 'bfill', axis = 0, inplace = True)\n",
    "df['Twpostimp'].plot();"
   ]
  },
  {
   "cell_type": "markdown",
   "metadata": {},
   "source": [
    "## Parse Data into Train and Test Sets"
   ]
  },
  {
   "cell_type": "code",
   "execution_count": 10,
   "metadata": {
    "collapsed": false
   },
   "outputs": [
    {
     "data": {
      "text/plain": [
       "(117, 57)"
      ]
     },
     "execution_count": 10,
     "metadata": {},
     "output_type": "execute_result"
    }
   ],
   "source": [
    "df.shape"
   ]
  },
  {
   "cell_type": "markdown",
   "metadata": {},
   "source": [
    "Hold out ~25% or 29 rows of data for the test set."
   ]
  },
  {
   "cell_type": "code",
   "execution_count": 12,
   "metadata": {
    "collapsed": false
   },
   "outputs": [],
   "source": [
    "# Separate df into X (predictors) and y (response)\n",
    "X = df.ix[:, 1:58]\n",
    "y = df.ix[:, 0]\n",
    "\n",
    "# Now split each into testing and training sets\n",
    "# Ideally, we would stratify the data, but there are too few data in this\n",
    "# sample \n",
    "X_train, X_test, y_train, y_test = train_test_split(\n",
    "    X, y, test_size = 0.25, random_state = 11)"
   ]
  },
  {
   "cell_type": "markdown",
   "metadata": {},
   "source": [
    "In R, for the test set, we fill forward NaNs so they can be predicted using the models. The LinearRegression classifier in Python's sklearn module cannot handle missing data, so we fill for the training set as well."
   ]
  },
  {
   "cell_type": "markdown",
   "metadata": {},
   "source": [
    "# Linear Regression Models\n",
    "Recreate the best linear model found in R, and explore further"
   ]
  },
  {
   "cell_type": "code",
   "execution_count": 13,
   "metadata": {
    "collapsed": false
   },
   "outputs": [
    {
     "data": {
      "text/plain": [
       "LinearRegression(copy_X=True, fit_intercept=True, n_jobs=1, normalize=False)"
      ]
     },
     "execution_count": 13,
     "metadata": {},
     "output_type": "execute_result"
    }
   ],
   "source": [
    "lr_clf = LinearRegression()\n",
    "modTr_lm2 = [\n",
    "    'highseason', 'holiday', 'brandpaid', 'brandclicks', 'organicnew', \n",
    "    'youtube', 'youtubelag', 'socialpostlag', 'Fbengage', 'fbengagelag', \n",
    "    'TWimpLag', 'emailopen', 'blogvisits', 'blognewusers', 'blogsignup']\n",
    "lr_clf.fit(X = X_train.ix[:, modTr_lm2], y = y_train)"
   ]
  },
  {
   "cell_type": "markdown",
   "metadata": {},
   "source": [
    "### Compute RSS\n",
    "\n",
    "NOTE: sklearn models had a `residues_` member, but it is deprecated, and will be removed in 0.19, so a function is provided here"
   ]
  },
  {
   "cell_type": "code",
   "execution_count": 14,
   "metadata": {
    "collapsed": true
   },
   "outputs": [],
   "source": [
    "def get_rss(mod, X, y):\n",
    "    predictions = mod.predict(X)\n",
    "    sq_error = [\n",
    "        (pred - actual) ** 2 for (pred, actual) in zip(predictions, y)]\n",
    "    RSS = sum(sq_error)\n",
    "    \n",
    "    return(RSS)"
   ]
  },
  {
   "cell_type": "code",
   "execution_count": 15,
   "metadata": {
    "collapsed": false
   },
   "outputs": [
    {
     "data": {
      "text/plain": [
       "7685302034.6259289"
      ]
     },
     "execution_count": 15,
     "metadata": {},
     "output_type": "execute_result"
    }
   ],
   "source": [
    "get_rss(lr_clf, X_test.ix[:, modTr_lm2], y = y_test)"
   ]
  },
  {
   "cell_type": "markdown",
   "metadata": {},
   "source": [
    "*Note that the value here of 7.6853e+9 differs slightly from the value found in R: 7.6168e+9 because we had to fill the NaN values for sklearn's LinearRegression classifier*"
   ]
  },
  {
   "cell_type": "code",
   "execution_count": 68,
   "metadata": {
    "collapsed": false
   },
   "outputs": [],
   "source": [
    "currentBest = { \n",
    "    'model': 'lr_clf',\n",
    "    'rss': get_rss(lr_clf, X_test.ix[:, modTr_lm2], y = y_test) }"
   ]
  },
  {
   "cell_type": "markdown",
   "metadata": {},
   "source": [
    "### Explore Ridge and Lasso Regression Further"
   ]
  },
  {
   "cell_type": "code",
   "execution_count": 36,
   "metadata": {
    "collapsed": true
   },
   "outputs": [],
   "source": [
    "pipe_ridge = Pipeline([('clf', Ridge(random_state = 11))])"
   ]
  },
  {
   "cell_type": "code",
   "execution_count": 62,
   "metadata": {
    "collapsed": false
   },
   "outputs": [],
   "source": [
    "alpha_range = np.linspace(0, 3, 30)\n",
    "train_scores, test_scores = validation_curve(estimator = pipe_ridge,\n",
    "                                             X = X_train,\n",
    "                                             y = y_train,\n",
    "                                             param_name = 'clf__alpha',\n",
    "                                             param_range = alpha_range,\n",
    "                                             cv = 10,\n",
    "                                             n_jobs = -1)\n",
    "train_mean = np.mean(train_scores, axis = 1)\n",
    "train_std  = np.std(train_scores,  axis = 1)\n",
    "test_mean  = np.mean(test_scores,  axis = 1)\n",
    "test_std   = np.std(test_scores,   axis = 1)"
   ]
  },
  {
   "cell_type": "code",
   "execution_count": 65,
   "metadata": {
    "collapsed": false
   },
   "outputs": [
    {
     "data": {
      "image/png": "[encoded data removed]",
      "text/plain": [
       "<matplotlib.figure.Figure at 0x1171f4990>"
      ]
     },
     "metadata": {},
     "output_type": "display_data"
    }
   ],
   "source": [
    "plt.plot(alpha_range,\n",
    "         train_mean,\n",
    "         color = 'blue',\n",
    "         marker = 'o',\n",
    "         markersize = 5,\n",
    "         label = 'training accuracy');\n",
    "plt.fill_between(alpha_range,\n",
    "                 train_mean + train_std,\n",
    "                 train_mean - train_std,\n",
    "                 alpha = 0.15,\n",
    "                 color = 'blue');\n",
    "plt.plot(alpha_range,\n",
    "         test_mean,\n",
    "         color = 'red',\n",
    "         linestyle = '--',\n",
    "         marker = 's',\n",
    "         markersize = 5,\n",
    "         label = 'validation accuracy');\n",
    "plt.fill_between(alpha_range,\n",
    "                 test_mean + test_std,\n",
    "                 test_mean - test_std,\n",
    "                 alpha = 0.15,\n",
    "                 color = 'red');\n",
    "plt.grid();\n",
    "plt.legend(loc = 'lower right');\n",
    "plt.xlabel('Parameter alpha');\n",
    "plt.ylabel('Accuracy');\n",
    "plt.ylim([0, 1.0]);\n",
    "plt.show();"
   ]
  },
  {
   "cell_type": "code",
   "execution_count": 66,
   "metadata": {
    "collapsed": false
   },
   "outputs": [
    {
     "data": {
      "text/plain": [
       "5475076631.3099174"
      ]
     },
     "execution_count": 66,
     "metadata": {},
     "output_type": "execute_result"
    }
   ],
   "source": [
    "ridge_clf = Ridge(alpha = 0.9, random_state = 11)\n",
    "ridge_clf.fit(X_train, y_train)\n",
    "get_rss(ridge_clf, X_test, y_test)"
   ]
  },
  {
   "cell_type": "markdown",
   "metadata": {},
   "source": [
    "Compare to best so far:"
   ]
  },
  {
   "cell_type": "code",
   "execution_count": 69,
   "metadata": {
    "collapsed": false
   },
   "outputs": [
    {
     "data": {
      "text/plain": [
       "{'model': 'lr_clf', 'rss': 7685302034.6259289}"
      ]
     },
     "execution_count": 69,
     "metadata": {},
     "output_type": "execute_result"
    }
   ],
   "source": [
    "currentBest"
   ]
  },
  {
   "cell_type": "markdown",
   "metadata": {},
   "source": [
    "Update currentBest"
   ]
  },
  {
   "cell_type": "code",
   "execution_count": 74,
   "metadata": {
    "collapsed": false
   },
   "outputs": [],
   "source": [
    "currentBest = { 'model': 'ridge_clf',\n",
    "                'rss': get_rss(ridge_clf, X_test, y_test) }"
   ]
  },
  {
   "cell_type": "markdown",
   "metadata": {},
   "source": [
    "### Lasso Regression"
   ]
  },
  {
   "cell_type": "code",
   "execution_count": 83,
   "metadata": {
    "collapsed": false
   },
   "outputs": [],
   "source": [
    "pipe_lasso = Pipeline([(\n",
    "            'clf', Lasso(random_state = 11, max_iter = 100000))])\n",
    "alpha_range = np.linspace(1, 100, 30)\n",
    "train_scores, test_scores = validation_curve(estimator = pipe_lasso,\n",
    "                                             X = X_train,\n",
    "                                             y = y_train,\n",
    "                                             param_name = 'clf__alpha',\n",
    "                                             param_range = alpha_range,\n",
    "                                             cv = 10,\n",
    "                                             n_jobs = -1)\n",
    "train_mean = np.mean(train_scores, axis = 1)\n",
    "train_std  = np.std(train_scores,  axis = 1)\n",
    "test_mean  = np.mean(test_scores,  axis = 1)\n",
    "test_std   = np.std(test_scores,   axis = 1)"
   ]
  },
  {
   "cell_type": "code",
   "execution_count": 84,
   "metadata": {
    "collapsed": false
   },
   "outputs": [
    {
     "data": {
      "image/png": "[encoded data removed]",
      "text/plain": [
       "<matplotlib.figure.Figure at 0x11819c1d0>"
      ]
     },
     "metadata": {},
     "output_type": "display_data"
    }
   ],
   "source": [
    "plt.plot(alpha_range,\n",
    "         train_mean,\n",
    "         color = 'blue',\n",
    "         marker = 'o',\n",
    "         markersize = 5,\n",
    "         label = 'training accuracy');\n",
    "plt.fill_between(alpha_range,\n",
    "                 train_mean + train_std,\n",
    "                 train_mean - train_std,\n",
    "                 alpha = 0.15,\n",
    "                 color = 'blue');\n",
    "plt.plot(alpha_range,\n",
    "         test_mean,\n",
    "         color = 'red',\n",
    "         linestyle = '--',\n",
    "         marker = 's',\n",
    "         markersize = 5,\n",
    "         label = 'validation accuracy');\n",
    "plt.fill_between(alpha_range,\n",
    "                 test_mean + test_std,\n",
    "                 test_mean - test_std,\n",
    "                 alpha = 0.15,\n",
    "                 color = 'red');\n",
    "plt.grid();\n",
    "#plt.xscale('log');\n",
    "plt.legend(loc = 'lower right');\n",
    "plt.xlabel('Parameter alpha');\n",
    "plt.ylabel('Accuracy');\n",
    "plt.ylim([0, 1.0]);\n",
    "plt.show();"
   ]
  },
  {
   "cell_type": "code",
   "execution_count": 86,
   "metadata": {
    "collapsed": false
   },
   "outputs": [
    {
     "data": {
      "text/plain": [
       "5485779630.2985363"
      ]
     },
     "execution_count": 86,
     "metadata": {},
     "output_type": "execute_result"
    }
   ],
   "source": [
    "lasso_clf = Lasso(alpha = 70, random_state = 11)\n",
    "lasso_clf.fit(X_train, y_train)\n",
    "get_rss(lasso_clf, X_test, y_test)"
   ]
  },
  {
   "cell_type": "code",
   "execution_count": 87,
   "metadata": {
    "collapsed": false
   },
   "outputs": [
    {
     "data": {
      "text/plain": [
       "{'model': 'ridge_clf', 'rss': 5475076631.3099174}"
      ]
     },
     "execution_count": 87,
     "metadata": {},
     "output_type": "execute_result"
    }
   ],
   "source": [
    "currentBest"
   ]
  },
  {
   "cell_type": "markdown",
   "metadata": {},
   "source": [
    "The ridge regession model is better, but only marginally.  Lasso is helpful in any case as it helps to determine which of the predictors are actually useful, as it drives those predictors' coefficients that are less useful to 0.  This is useful if we are trying to prioritize which predictors to continue to make use of or invest in.  To observe:"
   ]
  },
  {
   "cell_type": "code",
   "execution_count": 90,
   "metadata": {
    "collapsed": false
   },
   "outputs": [
    {
     "data": {
      "text/plain": [
       "[('revenue', -342.22190142270057),\n",
       " ('weekno', -0.0),\n",
       " ('highseason', -28128.807507657315),\n",
       " ('holiday', 0.0),\n",
       " ('displayimp', 47120.078556263492),\n",
       " ('displaylag', -0.0),\n",
       " ('brandpaid', 20856.884904594979),\n",
       " ('brandclicks', -0.0),\n",
       " ('nonbrandpaid', -6187.7987763952278),\n",
       " ('nonbrandclicks', 0.0),\n",
       " ('organicnew', 0.0),\n",
       " ('youtube', 6270.840242106884),\n",
       " ('youtubelag', 0.0),\n",
       " ('socialpostimp', 0.0),\n",
       " ('socialpostlag', 0.0),\n",
       " ('socialimp', 0.0),\n",
       " ('socialimplag', 0.0),\n",
       " ('fbposts', 0.0),\n",
       " ('Fbpostimp', 0.0),\n",
       " ('Fbpostimplag', -0.0),\n",
       " ('Fbpageimp', 0.0),\n",
       " ('Fblikes', 23988.632078777264),\n",
       " ('Fbengage', -0.0),\n",
       " ('fbengagelag', -781.27069163935209),\n",
       " ('twposts', -0.0),\n",
       " ('Twpostimp', 383.12800367071782),\n",
       " ('TWimpLag', -0.0),\n",
       " ('twengage', -0.0),\n",
       " ('twengagelag', 0.0),\n",
       " ('emailsent', 26570.762168343877),\n",
       " ('emailopen', 0.0),\n",
       " ('emailclick', -37278.054235779302),\n",
       " ('blogvisits', 0.0),\n",
       " ('blognewusers', 0.0),\n",
       " ('blogrefer', 14681.341931338806),\n",
       " ('blogrefernew', 6216.3048514086122),\n",
       " ('blogsignup', -0.0),\n",
       " ('autoenroll', 252.4068642352307),\n",
       " ('socialperson', 7769.8932218742329),\n",
       " ('promoteposts', -0.0),\n",
       " ('learner', 5534.9169925512679),\n",
       " ('rev1weekAgo', 6181.4150716152544),\n",
       " ('rev2weekAgo', 0.0),\n",
       " ('rev3weekAgo', 0.0),\n",
       " ('rev4weekAgo', -0.0),\n",
       " ('weekOfYear', -0.0),\n",
       " ('fbEngage3', 0.0),\n",
       " ('logSocialpostlag', 0.0),\n",
       " ('organicnew2', 43602.127333783959),\n",
       " ('logOrganicnew', 16608.974621027141),\n",
       " ('blognewusers2', -0.0),\n",
       " ('blognewusersRecip', 0.0),\n",
       " ('Fbpostimplag2', 0.0),\n",
       " ('weekOfYear2', 16351.929343420739),\n",
       " ('sinWeekOfYear', -4435.4509354157435),\n",
       " ('Twpostimp2', -21333.758479051263)]"
      ]
     },
     "execution_count": 90,
     "metadata": {},
     "output_type": "execute_result"
    }
   ],
   "source": [
    "zip(df.columns.values, lasso_clf.coef_)\n",
    "# Note: the first predictor is the intercept, not \"revenue\", the above \n",
    "# syntax is just a quick and dirty way to do this"
   ]
  },
  {
   "cell_type": "markdown",
   "metadata": {},
   "source": [
    "# Tree Models"
   ]
  },
  {
   "cell_type": "code",
   "execution_count": null,
   "metadata": {
    "collapsed": true
   },
   "outputs": [],
   "source": []
  }
 ],
 "metadata": {
  "kernelspec": {
   "display_name": "Python 2",
   "language": "python",
   "name": "python2"
  },
  "language_info": {
   "codemirror_mode": {
    "name": "ipython",
    "version": 2
   },
   "file_extension": ".py",
   "mimetype": "text/x-python",
   "name": "python",
   "nbconvert_exporter": "python",
   "pygments_lexer": "ipython2",
   "version": "2.7.12"
  }
 },
 "nbformat": 4,
 "nbformat_minor": 0
}
