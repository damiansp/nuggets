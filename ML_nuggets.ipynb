{
 "cells": [
  {
   "cell_type": "markdown",
   "metadata": {},
   "source": [
    "# Import Python Modules"
   ]
  },
  {
   "cell_type": "code",
   "execution_count": 1,
   "metadata": {
    "collapsed": true
   },
   "outputs": [],
   "source": [
    "import matplotlib.pyplot as plt\n",
    "import numpy as np\n",
    "import pandas as pd"
   ]
  },
  {
   "cell_type": "markdown",
   "metadata": {},
   "source": [
    "## Approach\n",
    "In this notebook, revenue will be estimated with an ensemble of machine learning techniques. Specifically:\n",
    "* Because there are many predictors, the model space will be managed by\n",
    "    * PCA to compress variable space and/or\n",
    "    * Ridge Regression to minimize overfitting by large coefficient values \n",
    "* Regression \n",
    "* Regression Trees"
   ]
  },
  {
   "cell_type": "markdown",
   "metadata": {},
   "source": [
    "# Read in Data\n",
    "Some initial preprocessing was done:\n",
    "* Replaced blanks with NAs (NaN in df below)\n",
    "* Moved the reponse variable (revenue) to the first field\n",
    "\n",
    "Preprocessing done in R ('nuggetsPreprocess.R')\n",
    "* Changed binary variables to y/n for portability\n",
    "* Added variables diff1 - diff4 and weekOfYear for handling temporal autocorrelation and seasonality"
   ]
  },
  {
   "cell_type": "code",
   "execution_count": 13,
   "metadata": {
    "collapsed": false
   },
   "outputs": [
    {
     "data": {
      "text/html": [
       "<div>\n",
       "<table border=\"1\" class=\"dataframe\">\n",
       "  <thead>\n",
       "    <tr style=\"text-align: right;\">\n",
       "      <th></th>\n",
       "      <th>revenue</th>\n",
       "      <th>Week</th>\n",
       "      <th>weekno</th>\n",
       "      <th>highseason</th>\n",
       "      <th>holiday</th>\n",
       "      <th>displayimp</th>\n",
       "      <th>displaylag</th>\n",
       "      <th>brandpaid</th>\n",
       "      <th>brandclicks</th>\n",
       "      <th>nonbrandpaid</th>\n",
       "      <th>...</th>\n",
       "      <th>blogsignup</th>\n",
       "      <th>autoenroll</th>\n",
       "      <th>socialperson</th>\n",
       "      <th>promoteposts</th>\n",
       "      <th>learner</th>\n",
       "      <th>diff1</th>\n",
       "      <th>diff2</th>\n",
       "      <th>diff3</th>\n",
       "      <th>diff4</th>\n",
       "      <th>weekOfYear</th>\n",
       "    </tr>\n",
       "  </thead>\n",
       "  <tbody>\n",
       "    <tr>\n",
       "      <th>0</th>\n",
       "      <td>178480</td>\n",
       "      <td>2/2/14</td>\n",
       "      <td>1</td>\n",
       "      <td>y</td>\n",
       "      <td>n</td>\n",
       "      <td>987718</td>\n",
       "      <td>983958.0000</td>\n",
       "      <td>31589</td>\n",
       "      <td>4715</td>\n",
       "      <td>105901</td>\n",
       "      <td>...</td>\n",
       "      <td>18</td>\n",
       "      <td>y</td>\n",
       "      <td>y</td>\n",
       "      <td>n</td>\n",
       "      <td>n</td>\n",
       "      <td>NaN</td>\n",
       "      <td>NaN</td>\n",
       "      <td>NaN</td>\n",
       "      <td>NaN</td>\n",
       "      <td>5</td>\n",
       "    </tr>\n",
       "    <tr>\n",
       "      <th>1</th>\n",
       "      <td>185390</td>\n",
       "      <td>2/9/14</td>\n",
       "      <td>2</td>\n",
       "      <td>y</td>\n",
       "      <td>n</td>\n",
       "      <td>660136</td>\n",
       "      <td>907388.9167</td>\n",
       "      <td>30428</td>\n",
       "      <td>4540</td>\n",
       "      <td>108652</td>\n",
       "      <td>...</td>\n",
       "      <td>16</td>\n",
       "      <td>y</td>\n",
       "      <td>y</td>\n",
       "      <td>n</td>\n",
       "      <td>n</td>\n",
       "      <td>6910</td>\n",
       "      <td>NaN</td>\n",
       "      <td>NaN</td>\n",
       "      <td>NaN</td>\n",
       "      <td>6</td>\n",
       "    </tr>\n",
       "    <tr>\n",
       "      <th>2</th>\n",
       "      <td>178130</td>\n",
       "      <td>2/16/14</td>\n",
       "      <td>3</td>\n",
       "      <td>y</td>\n",
       "      <td>n</td>\n",
       "      <td>604606</td>\n",
       "      <td>852862.4167</td>\n",
       "      <td>30715</td>\n",
       "      <td>4417</td>\n",
       "      <td>119398</td>\n",
       "      <td>...</td>\n",
       "      <td>21</td>\n",
       "      <td>y</td>\n",
       "      <td>y</td>\n",
       "      <td>n</td>\n",
       "      <td>n</td>\n",
       "      <td>-7260</td>\n",
       "      <td>-14170</td>\n",
       "      <td>NaN</td>\n",
       "      <td>NaN</td>\n",
       "      <td>7</td>\n",
       "    </tr>\n",
       "    <tr>\n",
       "      <th>3</th>\n",
       "      <td>185020</td>\n",
       "      <td>2/23/14</td>\n",
       "      <td>4</td>\n",
       "      <td>y</td>\n",
       "      <td>n</td>\n",
       "      <td>560656</td>\n",
       "      <td>851885.3333</td>\n",
       "      <td>31632</td>\n",
       "      <td>4372</td>\n",
       "      <td>134819</td>\n",
       "      <td>...</td>\n",
       "      <td>19</td>\n",
       "      <td>y</td>\n",
       "      <td>y</td>\n",
       "      <td>n</td>\n",
       "      <td>n</td>\n",
       "      <td>6890</td>\n",
       "      <td>14150</td>\n",
       "      <td>28320</td>\n",
       "      <td>NaN</td>\n",
       "      <td>8</td>\n",
       "    </tr>\n",
       "    <tr>\n",
       "      <th>4</th>\n",
       "      <td>170950</td>\n",
       "      <td>3/2/14</td>\n",
       "      <td>5</td>\n",
       "      <td>y</td>\n",
       "      <td>n</td>\n",
       "      <td>326112</td>\n",
       "      <td>827164.4167</td>\n",
       "      <td>NaN</td>\n",
       "      <td>4431</td>\n",
       "      <td>115865</td>\n",
       "      <td>...</td>\n",
       "      <td>11</td>\n",
       "      <td>y</td>\n",
       "      <td>y</td>\n",
       "      <td>n</td>\n",
       "      <td>n</td>\n",
       "      <td>-14070</td>\n",
       "      <td>-20960</td>\n",
       "      <td>-35110</td>\n",
       "      <td>-63430</td>\n",
       "      <td>9</td>\n",
       "    </tr>\n",
       "  </tbody>\n",
       "</table>\n",
       "<p>5 rows × 47 columns</p>\n",
       "</div>"
      ],
      "text/plain": [
       "   revenue     Week  weekno highseason holiday  displayimp   displaylag  \\\n",
       "0   178480   2/2/14       1          y       n      987718  983958.0000   \n",
       "1   185390   2/9/14       2          y       n      660136  907388.9167   \n",
       "2   178130  2/16/14       3          y       n      604606  852862.4167   \n",
       "3   185020  2/23/14       4          y       n      560656  851885.3333   \n",
       "4   170950   3/2/14       5          y       n      326112  827164.4167   \n",
       "\n",
       "   brandpaid  brandclicks  nonbrandpaid     ...      blogsignup  autoenroll  \\\n",
       "0      31589         4715        105901     ...              18           y   \n",
       "1      30428         4540        108652     ...              16           y   \n",
       "2      30715         4417        119398     ...              21           y   \n",
       "3      31632         4372        134819     ...              19           y   \n",
       "4        NaN         4431        115865     ...              11           y   \n",
       "\n",
       "   socialperson  promoteposts  learner  diff1  diff2  diff3  diff4  weekOfYear  \n",
       "0             y             n        n    NaN    NaN    NaN    NaN           5  \n",
       "1             y             n        n   6910    NaN    NaN    NaN           6  \n",
       "2             y             n        n  -7260 -14170    NaN    NaN           7  \n",
       "3             y             n        n   6890  14150  28320    NaN           8  \n",
       "4             y             n        n -14070 -20960 -35110 -63430           9  \n",
       "\n",
       "[5 rows x 47 columns]"
      ]
     },
     "execution_count": 13,
     "metadata": {},
     "output_type": "execute_result"
    }
   ],
   "source": [
    "df = pd.read_csv('dataClean.csv')\n",
    "df2 = pd.read_csv('dataCleanNoOutlier.csv')\n",
    "df.head()"
   ]
  },
  {
   "cell_type": "markdown",
   "metadata": {},
   "source": [
    "## Parse Data into Train and Test Sets\n",
    "Because we are looking at two data sets (with and without \"outliers\" removed), we want the same data to be in each Test and Training set for direct comparison."
   ]
  },
  {
   "cell_type": "code",
   "execution_count": 11,
   "metadata": {
    "collapsed": false
   },
   "outputs": [
    {
     "data": {
      "text/plain": [
       "(117, 47)"
      ]
     },
     "execution_count": 11,
     "metadata": {},
     "output_type": "execute_result"
    }
   ],
   "source": [
    "df.shape"
   ]
  },
  {
   "cell_type": "code",
   "execution_count": null,
   "metadata": {
    "collapsed": true
   },
   "outputs": [],
   "source": []
  }
 ],
 "metadata": {
  "kernelspec": {
   "display_name": "Python 2",
   "language": "python",
   "name": "python2"
  },
  "language_info": {
   "codemirror_mode": {
    "name": "ipython",
    "version": 2
   },
   "file_extension": ".py",
   "mimetype": "text/x-python",
   "name": "python",
   "nbconvert_exporter": "python",
   "pygments_lexer": "ipython2",
   "version": "2.7.12"
  }
 },
 "nbformat": 4,
 "nbformat_minor": 0
}
