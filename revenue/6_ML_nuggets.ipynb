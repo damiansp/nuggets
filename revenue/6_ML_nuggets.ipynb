{
 "cells": [
  {
   "cell_type": "markdown",
   "metadata": {},
   "source": [
    "# Import Python Modules"
   ]
  },
  {
   "cell_type": "code",
   "execution_count": 1,
   "metadata": {
    "collapsed": true
   },
   "outputs": [],
   "source": [
    "from __future__ import division\n",
    "import matplotlib.pyplot as plt\n",
    "import numpy as np\n",
    "import pandas as pd\n",
    "from scipy.stats.stats import pearsonr \n",
    "from sklearn.cross_validation import cross_val_score, train_test_split\n",
    "from sklearn.decomposition import KernelPCA\n",
    "from sklearn.ensemble import RandomForestClassifier, VotingClassifier\n",
    "from sklearn.grid_search import GridSearchCV\n",
    "from sklearn.learning_curve import learning_curve, validation_curve\n",
    "from sklearn.linear_model import Lasso, LinearRegression, Ridge\n",
    "from sklearn.pipeline import Pipeline\n",
    "from sklearn.tree import DecisionTreeRegressor\n",
    "\n",
    "%matplotlib inline"
   ]
  },
  {
   "cell_type": "markdown",
   "metadata": {},
   "source": [
    "## Approach\n",
    "In the R files, both regression and tree models were considered, and the best model found so-far was a regression model.  The tree model with the lowest cross-validation error on the training data did not perform nearly as well, but was a very simple model.  Here some more advanced methods are explored."
   ]
  },
  {
   "cell_type": "markdown",
   "metadata": {},
   "source": [
    "# Read in Data\n",
    "Some initial preprocessing was done in the R files:\n",
    "* Replaced blanks with NAs (NaN in df below)\n",
    "* Moved the reponse variable (revenue) to the first field\n",
    "* Replaced some outliers with NAs"
   ]
  },
  {
   "cell_type": "code",
   "execution_count": 2,
   "metadata": {
    "collapsed": false
   },
   "outputs": [
    {
     "data": {
      "text/html": [
       "<div>\n",
       "<table border=\"1\" class=\"dataframe\">\n",
       "  <thead>\n",
       "    <tr style=\"text-align: right;\">\n",
       "      <th></th>\n",
       "      <th>revenue</th>\n",
       "      <th>weekno</th>\n",
       "      <th>highseason</th>\n",
       "      <th>holiday</th>\n",
       "      <th>displayimp</th>\n",
       "      <th>displaylag</th>\n",
       "      <th>brandpaid</th>\n",
       "      <th>brandclicks</th>\n",
       "      <th>nonbrandpaid</th>\n",
       "      <th>nonbrandclicks</th>\n",
       "      <th>...</th>\n",
       "      <th>logSocialpostlag</th>\n",
       "      <th>organicnew2</th>\n",
       "      <th>logOrganicnew</th>\n",
       "      <th>blognewusers2</th>\n",
       "      <th>blognewusersRecip</th>\n",
       "      <th>Fbpostimplag2</th>\n",
       "      <th>weekOfYear2</th>\n",
       "      <th>sinWeekOfYear</th>\n",
       "      <th>Twpostimp2</th>\n",
       "      <th>logTwpostimp</th>\n",
       "    </tr>\n",
       "  </thead>\n",
       "  <tbody>\n",
       "    <tr>\n",
       "      <th>0</th>\n",
       "      <td>178480</td>\n",
       "      <td>1</td>\n",
       "      <td>1</td>\n",
       "      <td>0</td>\n",
       "      <td>987718</td>\n",
       "      <td>983958.0000</td>\n",
       "      <td>31589</td>\n",
       "      <td>4715</td>\n",
       "      <td>105901</td>\n",
       "      <td>1519</td>\n",
       "      <td>...</td>\n",
       "      <td>198063.75</td>\n",
       "      <td>574369156</td>\n",
       "      <td>10.084391</td>\n",
       "      <td>3717184</td>\n",
       "      <td>0.000519</td>\n",
       "      <td>23343103440</td>\n",
       "      <td>25</td>\n",
       "      <td>0.822984</td>\n",
       "      <td>2245432996</td>\n",
       "      <td>10.766082</td>\n",
       "    </tr>\n",
       "    <tr>\n",
       "      <th>1</th>\n",
       "      <td>185390</td>\n",
       "      <td>2</td>\n",
       "      <td>1</td>\n",
       "      <td>0</td>\n",
       "      <td>660136</td>\n",
       "      <td>907388.9167</td>\n",
       "      <td>30428</td>\n",
       "      <td>4540</td>\n",
       "      <td>108652</td>\n",
       "      <td>1589</td>\n",
       "      <td>...</td>\n",
       "      <td>196355.00</td>\n",
       "      <td>600740100</td>\n",
       "      <td>10.106836</td>\n",
       "      <td>4137156</td>\n",
       "      <td>0.000492</td>\n",
       "      <td>21755266688</td>\n",
       "      <td>36</td>\n",
       "      <td>0.748511</td>\n",
       "      <td>8690900625</td>\n",
       "      <td>11.442771</td>\n",
       "    </tr>\n",
       "    <tr>\n",
       "      <th>2</th>\n",
       "      <td>178130</td>\n",
       "      <td>3</td>\n",
       "      <td>1</td>\n",
       "      <td>0</td>\n",
       "      <td>604606</td>\n",
       "      <td>852862.4167</td>\n",
       "      <td>30715</td>\n",
       "      <td>4417</td>\n",
       "      <td>119398</td>\n",
       "      <td>1595</td>\n",
       "      <td>...</td>\n",
       "      <td>194301.80</td>\n",
       "      <td>664144441</td>\n",
       "      <td>10.157005</td>\n",
       "      <td>10569001</td>\n",
       "      <td>0.000308</td>\n",
       "      <td>22414206939</td>\n",
       "      <td>49</td>\n",
       "      <td>0.663123</td>\n",
       "      <td>42966656656</td>\n",
       "      <td>12.241845</td>\n",
       "    </tr>\n",
       "    <tr>\n",
       "      <th>3</th>\n",
       "      <td>185020</td>\n",
       "      <td>4</td>\n",
       "      <td>1</td>\n",
       "      <td>0</td>\n",
       "      <td>560656</td>\n",
       "      <td>851885.3333</td>\n",
       "      <td>31632</td>\n",
       "      <td>4372</td>\n",
       "      <td>134819</td>\n",
       "      <td>1606</td>\n",
       "      <td>...</td>\n",
       "      <td>196355.00</td>\n",
       "      <td>679540624</td>\n",
       "      <td>10.168464</td>\n",
       "      <td>37601424</td>\n",
       "      <td>0.000163</td>\n",
       "      <td>21358244109</td>\n",
       "      <td>64</td>\n",
       "      <td>0.568065</td>\n",
       "      <td>4117917241</td>\n",
       "      <td>11.069307</td>\n",
       "    </tr>\n",
       "    <tr>\n",
       "      <th>4</th>\n",
       "      <td>170950</td>\n",
       "      <td>5</td>\n",
       "      <td>1</td>\n",
       "      <td>0</td>\n",
       "      <td>326112</td>\n",
       "      <td>827164.4167</td>\n",
       "      <td>NaN</td>\n",
       "      <td>4431</td>\n",
       "      <td>115865</td>\n",
       "      <td>1522</td>\n",
       "      <td>...</td>\n",
       "      <td>216089.00</td>\n",
       "      <td>581533225</td>\n",
       "      <td>10.090589</td>\n",
       "      <td>3069504</td>\n",
       "      <td>0.000571</td>\n",
       "      <td>NaN</td>\n",
       "      <td>81</td>\n",
       "      <td>0.464723</td>\n",
       "      <td>2996248644</td>\n",
       "      <td>10.910313</td>\n",
       "    </tr>\n",
       "  </tbody>\n",
       "</table>\n",
       "<p>5 rows × 57 columns</p>\n",
       "</div>"
      ],
      "text/plain": [
       "   revenue  weekno  highseason  holiday  displayimp   displaylag  brandpaid  \\\n",
       "0   178480       1           1        0      987718  983958.0000      31589   \n",
       "1   185390       2           1        0      660136  907388.9167      30428   \n",
       "2   178130       3           1        0      604606  852862.4167      30715   \n",
       "3   185020       4           1        0      560656  851885.3333      31632   \n",
       "4   170950       5           1        0      326112  827164.4167        NaN   \n",
       "\n",
       "   brandclicks  nonbrandpaid  nonbrandclicks      ...       logSocialpostlag  \\\n",
       "0         4715        105901            1519      ...              198063.75   \n",
       "1         4540        108652            1589      ...              196355.00   \n",
       "2         4417        119398            1595      ...              194301.80   \n",
       "3         4372        134819            1606      ...              196355.00   \n",
       "4         4431        115865            1522      ...              216089.00   \n",
       "\n",
       "   organicnew2  logOrganicnew  blognewusers2  blognewusersRecip  \\\n",
       "0    574369156      10.084391        3717184           0.000519   \n",
       "1    600740100      10.106836        4137156           0.000492   \n",
       "2    664144441      10.157005       10569001           0.000308   \n",
       "3    679540624      10.168464       37601424           0.000163   \n",
       "4    581533225      10.090589        3069504           0.000571   \n",
       "\n",
       "   Fbpostimplag2  weekOfYear2  sinWeekOfYear   Twpostimp2  logTwpostimp  \n",
       "0    23343103440           25       0.822984   2245432996     10.766082  \n",
       "1    21755266688           36       0.748511   8690900625     11.442771  \n",
       "2    22414206939           49       0.663123  42966656656     12.241845  \n",
       "3    21358244109           64       0.568065   4117917241     11.069307  \n",
       "4            NaN           81       0.464723   2996248644     10.910313  \n",
       "\n",
       "[5 rows x 57 columns]"
      ]
     },
     "execution_count": 2,
     "metadata": {},
     "output_type": "execute_result"
    }
   ],
   "source": [
    "df = pd.read_csv('dataCleanNoOutlier.csv')\n",
    "# Drop the Week column, same info is captured in weekno\n",
    "df = df.drop('Week', 1)\n",
    "df.head()"
   ]
  },
  {
   "cell_type": "markdown",
   "metadata": {},
   "source": [
    "# Preprocessing\n",
    "### Repeat Scaling in Python\n",
    "As was done in R, variables are rescaled to be on the interval [0, 1]\n",
    "(This is done primarily for the sake of having a clear sequence of steps to perform when testing new data)\n",
    "\n",
    "*Note: sklearn also has built-in scale functions, that work somewhat differently: http://scikit-learn.org/stable/modules/generated/sklearn.preprocessing.scale.html*"
   ]
  },
  {
   "cell_type": "code",
   "execution_count": 3,
   "metadata": {
    "collapsed": false
   },
   "outputs": [
    {
     "data": {
      "text/plain": [
       "array([ 0.3,  0.2,  0.8,  0. ,  0.6,  1. ])"
      ]
     },
     "execution_count": 3,
     "metadata": {},
     "output_type": "execute_result"
    }
   ],
   "source": [
    "def rescale(x):\n",
    "    '''\n",
    "    Rescale a vector x such that all values lie on the interval [0, 1]\n",
    "    x: an np.array\n",
    "    '''\n",
    "    x = x - np.min(x)\n",
    "    x = x / np.max(x)\n",
    "    return x\n",
    "\n",
    "# Test\n",
    "x = np.array([4, 3, 9, 1, 7, 11])\n",
    "rescale(x)"
   ]
  },
  {
   "cell_type": "code",
   "execution_count": 4,
   "metadata": {
    "collapsed": false
   },
   "outputs": [],
   "source": [
    "# Rescale all columns\n",
    "df.ix[:, 2:59] = df.ix[:, 2:59].apply(rescale) "
   ]
  },
  {
   "cell_type": "code",
   "execution_count": 5,
   "metadata": {
    "collapsed": false
   },
   "outputs": [
    {
     "data": {
      "image/png": "[encoded data removed]",
      "text/plain": [
       "<matplotlib.figure.Figure at 0x1172fd710>"
      ]
     },
     "metadata": {},
     "output_type": "display_data"
    }
   ],
   "source": [
    "# Examine a column to verify that transformation was correct\n",
    "df['displaylag'].plot();"
   ]
  },
  {
   "cell_type": "markdown",
   "metadata": {},
   "source": [
    "### Normalizing Right-Skewed Distributions\n",
    "The details of how these exponents were found are provided in `nuggetAnalysis3.R`"
   ]
  },
  {
   "cell_type": "code",
   "execution_count": 6,
   "metadata": {
    "collapsed": false
   },
   "outputs": [
    {
     "data": {
      "image/png": "[encoded data removed]",
      "text/plain": [
       "<matplotlib.figure.Figure at 0x117341e90>"
      ]
     },
     "metadata": {},
     "output_type": "display_data"
    }
   ],
   "source": [
    "# Transform each of the following by their optimal exponential transform\n",
    "df['socialpostimp'] = df['socialpostimp'] ** 0.29\n",
    "df['socialpostimp'].hist(bins = 20);"
   ]
  },
  {
   "cell_type": "code",
   "execution_count": 7,
   "metadata": {
    "collapsed": false
   },
   "outputs": [],
   "source": [
    "df['socialpostimp'] = df['socialpostimp'] ** 0.29\n",
    "df['Fbpostimp'] = df['Fbpostimp'] ** 0.33\n",
    "df['Fbpostimplag'] = df['Fbpostimplag'] ** 0.29\n",
    "df['Fblikes'] = df['Fblikes'] ** 0.60\n",
    "df['Fbengage'] = df['Fbengage'] ** 0.44\n",
    "df['Twpostimp'] = df['Twpostimp'] ** 0.29"
   ]
  },
  {
   "cell_type": "markdown",
   "metadata": {},
   "source": [
    "Rescale again so new transformed values also distributed over [0, 1]:"
   ]
  },
  {
   "cell_type": "code",
   "execution_count": 8,
   "metadata": {
    "collapsed": false
   },
   "outputs": [
    {
     "data": {
      "image/png": "[encoded data removed]",
      "text/plain": [
       "<matplotlib.figure.Figure at 0x1173705d0>"
      ]
     },
     "metadata": {},
     "output_type": "display_data"
    }
   ],
   "source": [
    "# Rescale all columns\n",
    "df.ix[:, 2:59] = df.ix[:, 2:59].apply(rescale) \n",
    "\n",
    "# Verify\n",
    "df['Twpostimp'].plot();"
   ]
  },
  {
   "cell_type": "code",
   "execution_count": 9,
   "metadata": {
    "collapsed": false
   },
   "outputs": [
    {
     "data": {
      "image/png": "[encoded data removed]",
      "text/plain": [
       "<matplotlib.figure.Figure at 0x1176adfd0>"
      ]
     },
     "metadata": {},
     "output_type": "display_data"
    }
   ],
   "source": [
    "df.fillna(method = 'ffill', axis = 0, inplace = True)\n",
    "df.fillna(method = 'bfill', axis = 0, inplace = True)\n",
    "df['Twpostimp'].plot();"
   ]
  },
  {
   "cell_type": "markdown",
   "metadata": {},
   "source": [
    "## Parse Data into Train and Test Sets"
   ]
  },
  {
   "cell_type": "code",
   "execution_count": 10,
   "metadata": {
    "collapsed": false
   },
   "outputs": [
    {
     "data": {
      "text/plain": [
       "(117, 57)"
      ]
     },
     "execution_count": 10,
     "metadata": {},
     "output_type": "execute_result"
    }
   ],
   "source": [
    "df.shape"
   ]
  },
  {
   "cell_type": "code",
   "execution_count": 11,
   "metadata": {
    "collapsed": false
   },
   "outputs": [
    {
     "data": {
      "text/html": [
       "<div>\n",
       "<table border=\"1\" class=\"dataframe\">\n",
       "  <thead>\n",
       "    <tr style=\"text-align: right;\">\n",
       "      <th></th>\n",
       "      <th>weekno</th>\n",
       "      <th>highseason</th>\n",
       "      <th>holiday</th>\n",
       "      <th>displayimp</th>\n",
       "      <th>displaylag</th>\n",
       "      <th>brandpaid</th>\n",
       "      <th>brandclicks</th>\n",
       "      <th>nonbrandpaid</th>\n",
       "      <th>nonbrandclicks</th>\n",
       "      <th>organicnew</th>\n",
       "      <th>...</th>\n",
       "      <th>logSocialpostlag</th>\n",
       "      <th>organicnew2</th>\n",
       "      <th>logOrganicnew</th>\n",
       "      <th>blognewusers2</th>\n",
       "      <th>blognewusersRecip</th>\n",
       "      <th>Fbpostimplag2</th>\n",
       "      <th>weekOfYear2</th>\n",
       "      <th>sinWeekOfYear</th>\n",
       "      <th>Twpostimp2</th>\n",
       "      <th>logTwpostimp</th>\n",
       "    </tr>\n",
       "  </thead>\n",
       "  <tbody>\n",
       "    <tr>\n",
       "      <th>110</th>\n",
       "      <td>111</td>\n",
       "      <td>1</td>\n",
       "      <td>0</td>\n",
       "      <td>0.504781</td>\n",
       "      <td>0.965312</td>\n",
       "      <td>0.442370</td>\n",
       "      <td>0.614227</td>\n",
       "      <td>0.370969</td>\n",
       "      <td>0.487954</td>\n",
       "      <td>0.518850</td>\n",
       "      <td>...</td>\n",
       "      <td>0.139337</td>\n",
       "      <td>0.451624</td>\n",
       "      <td>0.586457</td>\n",
       "      <td>0.252645</td>\n",
       "      <td>0.270984</td>\n",
       "      <td>0.037116</td>\n",
       "      <td>0.044395</td>\n",
       "      <td>0.619658</td>\n",
       "      <td>0.004636</td>\n",
       "      <td>0.585025</td>\n",
       "    </tr>\n",
       "    <tr>\n",
       "      <th>28</th>\n",
       "      <td>29</td>\n",
       "      <td>0</td>\n",
       "      <td>0</td>\n",
       "      <td>0.060270</td>\n",
       "      <td>0.060954</td>\n",
       "      <td>0.481003</td>\n",
       "      <td>0.601989</td>\n",
       "      <td>0.171516</td>\n",
       "      <td>0.268069</td>\n",
       "      <td>0.594431</td>\n",
       "      <td>...</td>\n",
       "      <td>0.237948</td>\n",
       "      <td>0.529510</td>\n",
       "      <td>0.658001</td>\n",
       "      <td>0.516228</td>\n",
       "      <td>0.115217</td>\n",
       "      <td>0.044957</td>\n",
       "      <td>0.402516</td>\n",
       "      <td>0.168439</td>\n",
       "      <td>0.136871</td>\n",
       "      <td>0.846416</td>\n",
       "    </tr>\n",
       "    <tr>\n",
       "      <th>51</th>\n",
       "      <td>52</td>\n",
       "      <td>1</td>\n",
       "      <td>0</td>\n",
       "      <td>0.402618</td>\n",
       "      <td>0.373283</td>\n",
       "      <td>0.595848</td>\n",
       "      <td>0.993881</td>\n",
       "      <td>0.534335</td>\n",
       "      <td>0.441127</td>\n",
       "      <td>0.834825</td>\n",
       "      <td>...</td>\n",
       "      <td>0.827902</td>\n",
       "      <td>0.797692</td>\n",
       "      <td>0.868410</td>\n",
       "      <td>0.456901</td>\n",
       "      <td>0.139625</td>\n",
       "      <td>0.645507</td>\n",
       "      <td>0.005549</td>\n",
       "      <td>0.942728</td>\n",
       "      <td>0.041569</td>\n",
       "      <td>0.754387</td>\n",
       "    </tr>\n",
       "    <tr>\n",
       "      <th>56</th>\n",
       "      <td>57</td>\n",
       "      <td>1</td>\n",
       "      <td>0</td>\n",
       "      <td>0.420757</td>\n",
       "      <td>0.605760</td>\n",
       "      <td>0.645554</td>\n",
       "      <td>0.648649</td>\n",
       "      <td>0.387652</td>\n",
       "      <td>0.377672</td>\n",
       "      <td>0.917639</td>\n",
       "      <td>...</td>\n",
       "      <td>0.603594</td>\n",
       "      <td>0.897286</td>\n",
       "      <td>0.935580</td>\n",
       "      <td>0.035775</td>\n",
       "      <td>0.736521</td>\n",
       "      <td>0.287995</td>\n",
       "      <td>0.029597</td>\n",
       "      <td>0.732362</td>\n",
       "      <td>0.000000</td>\n",
       "      <td>0.000000</td>\n",
       "    </tr>\n",
       "    <tr>\n",
       "      <th>39</th>\n",
       "      <td>40</td>\n",
       "      <td>1</td>\n",
       "      <td>0</td>\n",
       "      <td>0.201701</td>\n",
       "      <td>0.142477</td>\n",
       "      <td>0.703339</td>\n",
       "      <td>0.789648</td>\n",
       "      <td>0.341876</td>\n",
       "      <td>0.415677</td>\n",
       "      <td>0.707983</td>\n",
       "      <td>...</td>\n",
       "      <td>0.727319</td>\n",
       "      <td>0.652310</td>\n",
       "      <td>0.760441</td>\n",
       "      <td>0.265818</td>\n",
       "      <td>0.258958</td>\n",
       "      <td>0.478024</td>\n",
       "      <td>0.715871</td>\n",
       "      <td>0.784032</td>\n",
       "      <td>0.776346</td>\n",
       "      <td>0.980449</td>\n",
       "    </tr>\n",
       "  </tbody>\n",
       "</table>\n",
       "<p>5 rows × 56 columns</p>\n",
       "</div>"
      ],
      "text/plain": [
       "     weekno  highseason  holiday  displayimp  displaylag  brandpaid  \\\n",
       "110     111           1        0    0.504781    0.965312   0.442370   \n",
       "28       29           0        0    0.060270    0.060954   0.481003   \n",
       "51       52           1        0    0.402618    0.373283   0.595848   \n",
       "56       57           1        0    0.420757    0.605760   0.645554   \n",
       "39       40           1        0    0.201701    0.142477   0.703339   \n",
       "\n",
       "     brandclicks  nonbrandpaid  nonbrandclicks  organicnew      ...       \\\n",
       "110     0.614227      0.370969        0.487954    0.518850      ...        \n",
       "28      0.601989      0.171516        0.268069    0.594431      ...        \n",
       "51      0.993881      0.534335        0.441127    0.834825      ...        \n",
       "56      0.648649      0.387652        0.377672    0.917639      ...        \n",
       "39      0.789648      0.341876        0.415677    0.707983      ...        \n",
       "\n",
       "     logSocialpostlag  organicnew2  logOrganicnew  blognewusers2  \\\n",
       "110          0.139337     0.451624       0.586457       0.252645   \n",
       "28           0.237948     0.529510       0.658001       0.516228   \n",
       "51           0.827902     0.797692       0.868410       0.456901   \n",
       "56           0.603594     0.897286       0.935580       0.035775   \n",
       "39           0.727319     0.652310       0.760441       0.265818   \n",
       "\n",
       "     blognewusersRecip  Fbpostimplag2  weekOfYear2  sinWeekOfYear  Twpostimp2  \\\n",
       "110           0.270984       0.037116     0.044395       0.619658    0.004636   \n",
       "28            0.115217       0.044957     0.402516       0.168439    0.136871   \n",
       "51            0.139625       0.645507     0.005549       0.942728    0.041569   \n",
       "56            0.736521       0.287995     0.029597       0.732362    0.000000   \n",
       "39            0.258958       0.478024     0.715871       0.784032    0.776346   \n",
       "\n",
       "     logTwpostimp  \n",
       "110      0.585025  \n",
       "28       0.846416  \n",
       "51       0.754387  \n",
       "56       0.000000  \n",
       "39       0.980449  \n",
       "\n",
       "[5 rows x 56 columns]"
      ]
     },
     "execution_count": 11,
     "metadata": {},
     "output_type": "execute_result"
    }
   ],
   "source": [
    "X = df.ix[:, 1:58]\n",
    "y = df.ix[:, 0]\n",
    "\n",
    "# Now split each into testing and training sets\n",
    "# Ideally, we would stratify the data, but there are too few data in this\n",
    "# sample \n",
    "X_train, X_test, y_train, y_test = train_test_split(\n",
    "    X, y, test_size = 0.25, random_state = 11)\n",
    "X_train.head()"
   ]
  },
  {
   "cell_type": "markdown",
   "metadata": {},
   "source": [
    "Hold out ~25% or 29 rows of data for the test set."
   ]
  },
  {
   "cell_type": "markdown",
   "metadata": {},
   "source": [
    "# Linear Regression Models\n",
    "Recreate the best linear model found in R, and explore further"
   ]
  },
  {
   "cell_type": "code",
   "execution_count": 12,
   "metadata": {
    "collapsed": false
   },
   "outputs": [
    {
     "data": {
      "text/plain": [
       "LinearRegression(copy_X=True, fit_intercept=True, n_jobs=1, normalize=False)"
      ]
     },
     "execution_count": 12,
     "metadata": {},
     "output_type": "execute_result"
    }
   ],
   "source": [
    "lr_clf = LinearRegression()\n",
    "modTr_lm2 = [\n",
    "    'highseason', 'holiday', 'brandpaid', 'brandclicks', 'organicnew', \n",
    "    'youtube', 'youtubelag', 'socialpostlag', 'Fbengage', 'fbengagelag', \n",
    "    'TWimpLag', 'emailopen', 'blogvisits', 'blognewusers', 'blogsignup']\n",
    "lr_clf.fit(X = X_train.ix[:, modTr_lm2], y = y_train)"
   ]
  },
  {
   "cell_type": "markdown",
   "metadata": {},
   "source": [
    "### Compute SSE (sum of squared error)\n",
    "\n",
    "NOTE: sklearn models had a `residues_` member, but it is deprecated, and will be removed in 0.19, so a function is provided here"
   ]
  },
  {
   "cell_type": "code",
   "execution_count": 13,
   "metadata": {
    "collapsed": true
   },
   "outputs": [],
   "source": [
    "def sse(mod, X, y):\n",
    "    predictions = mod.predict(X)\n",
    "    sq_error = [\n",
    "        (pred - actual) ** 2 for (pred, actual) in zip(predictions, y)]\n",
    "    RSS = sum(sq_error)\n",
    "    \n",
    "    return(RSS)"
   ]
  },
  {
   "cell_type": "code",
   "execution_count": 14,
   "metadata": {
    "collapsed": false
   },
   "outputs": [
    {
     "data": {
      "text/plain": [
       "7685302034.6259289"
      ]
     },
     "execution_count": 14,
     "metadata": {},
     "output_type": "execute_result"
    }
   ],
   "source": [
    "sse(lr_clf, X_test.ix[:, modTr_lm2], y = y_test)"
   ]
  },
  {
   "cell_type": "markdown",
   "metadata": {},
   "source": [
    "*Note that the value here of 7.6853e+9 differs slightly from the value found in R: 7.6168e+9; this is because we had to fill the NaN values for sklearn's LinearRegression classifier, and because the data randomly selected for the test or training sets will differ*"
   ]
  },
  {
   "cell_type": "code",
   "execution_count": 15,
   "metadata": {
    "collapsed": false
   },
   "outputs": [],
   "source": [
    "currentBest = { \n",
    "    'model': 'lr_clf',\n",
    "    'sse': sse(lr_clf, X_test.ix[:, modTr_lm2], y = y_test) }"
   ]
  },
  {
   "cell_type": "markdown",
   "metadata": {},
   "source": [
    "### Explore Ridge and Lasso Regression"
   ]
  },
  {
   "cell_type": "code",
   "execution_count": 16,
   "metadata": {
    "collapsed": false
   },
   "outputs": [],
   "source": [
    "pipe_ridge = Pipeline([('clf', Ridge(random_state = 11))])\n",
    "\n",
    "alpha_range = np.linspace(0, 10, num = 30)\n",
    "train_scores, test_scores = validation_curve(estimator = pipe_ridge,\n",
    "                                             X = X_train,\n",
    "                                             y = y_train,\n",
    "                                             param_name = 'clf__alpha',\n",
    "                                             param_range = alpha_range,\n",
    "                                             cv = 30,\n",
    "                                             n_jobs = -1)\n",
    "train_mean = np.mean(train_scores, axis = 1)\n",
    "train_std  = np.std(train_scores,  axis = 1)\n",
    "test_mean  = np.mean(test_scores,  axis = 1)\n",
    "test_std   = np.std(test_scores,   axis = 1)"
   ]
  },
  {
   "cell_type": "code",
   "execution_count": 18,
   "metadata": {
    "collapsed": false
   },
   "outputs": [
    {
     "data": {
      "image/png": "[encoded data removed]",
      "text/plain": [
       "<matplotlib.figure.Figure at 0x11767b590>"
      ]
     },
     "metadata": {},
     "output_type": "display_data"
    }
   ],
   "source": [
    "plt.plot(alpha_range,\n",
    "         train_mean,\n",
    "         color = 'blue',\n",
    "         marker = 'o',\n",
    "         markersize = 5,\n",
    "         label = 'training score');\n",
    "plt.fill_between(alpha_range,\n",
    "                 train_mean + train_std,\n",
    "                 train_mean - train_std,\n",
    "                 alpha = 0.15,\n",
    "                 color = 'blue');\n",
    "plt.plot(alpha_range,\n",
    "         test_mean,\n",
    "         color = 'red',\n",
    "         linestyle = '--',\n",
    "         marker = 's',\n",
    "         markersize = 5,\n",
    "         label = 'validation score');\n",
    "plt.fill_between(alpha_range,\n",
    "                 test_mean + test_std,\n",
    "                 test_mean - test_std,\n",
    "                 alpha = 0.15,\n",
    "                 color = 'red');\n",
    "plt.grid();\n",
    "#plt.legend(loc = 'lower left');\n",
    "#plt.xscale('log');\n",
    "plt.xlabel('Parameter alpha');\n",
    "plt.ylabel('Score');\n",
    "#plt.ylim([-2, -1.9]);\n",
    "plt.show();"
   ]
  },
  {
   "cell_type": "code",
   "execution_count": 19,
   "metadata": {
    "collapsed": false
   },
   "outputs": [
    {
     "data": {
      "text/plain": [
       "4972864197.2487793"
      ]
     },
     "execution_count": 19,
     "metadata": {},
     "output_type": "execute_result"
    }
   ],
   "source": [
    "ridge_clf = Ridge(alpha = 8, random_state = 11)\n",
    "ridge_clf.fit(X_train, y_train)\n",
    "sse(ridge_clf, X_test, y_test)"
   ]
  },
  {
   "cell_type": "markdown",
   "metadata": {},
   "source": [
    "Compare to best so far:"
   ]
  },
  {
   "cell_type": "code",
   "execution_count": 20,
   "metadata": {
    "collapsed": false
   },
   "outputs": [
    {
     "data": {
      "text/plain": [
       "{'model': 'lr_clf', 'sse': 7685302034.6259289}"
      ]
     },
     "execution_count": 20,
     "metadata": {},
     "output_type": "execute_result"
    }
   ],
   "source": [
    "currentBest"
   ]
  },
  {
   "cell_type": "markdown",
   "metadata": {},
   "source": [
    "Wow. That is a substantial improvement already.  Update currentBest"
   ]
  },
  {
   "cell_type": "code",
   "execution_count": 21,
   "metadata": {
    "collapsed": false
   },
   "outputs": [],
   "source": [
    "currentBest = { 'model': 'ridge_clf',\n",
    "                'sse': sse(ridge_clf, X_test, y_test) }"
   ]
  },
  {
   "cell_type": "markdown",
   "metadata": {},
   "source": [
    "The best model found in R had an SSE of 7.6168e+9, or an average error of $16,206.  How does the new best model compare?"
   ]
  },
  {
   "cell_type": "code",
   "execution_count": 22,
   "metadata": {
    "collapsed": false
   },
   "outputs": [
    {
     "name": "stdout",
     "output_type": "stream",
     "text": [
      "Avg. error: $12874.86\n",
      "Std Dev. of revenue: $23841.97\n"
     ]
    }
   ],
   "source": [
    "print 'Avg. error: $%.2f' %np.sqrt(currentBest['sse'] / len(y_test))\n",
    "print 'Std Dev. of revenue: $%.2f'%np.std(df['revenue'])"
   ]
  },
  {
   "cell_type": "markdown",
   "metadata": {},
   "source": [
    "Lots better! The mean error now is almost half the standard deviation... but maybe we can do better still....?"
   ]
  },
  {
   "cell_type": "markdown",
   "metadata": {},
   "source": [
    "### Lasso Regression"
   ]
  },
  {
   "cell_type": "code",
   "execution_count": 23,
   "metadata": {
    "collapsed": false
   },
   "outputs": [],
   "source": [
    "pipe_lasso = Pipeline([(\n",
    "            'clf', Lasso(random_state = 11, max_iter = 100000))])\n",
    "alpha_range = np.linspace(1, 100, 30)\n",
    "train_scores, test_scores = validation_curve(estimator = pipe_lasso,\n",
    "                                             X = X_train,\n",
    "                                             y = y_train,\n",
    "                                             param_name = 'clf__alpha',\n",
    "                                             param_range = alpha_range,\n",
    "                                             cv = 30,\n",
    "                                             n_jobs = -1)\n",
    "train_mean = np.mean(train_scores, axis = 1)\n",
    "train_std  = np.std(train_scores,  axis = 1)\n",
    "test_mean  = np.mean(test_scores,  axis = 1)\n",
    "test_std   = np.std(test_scores,   axis = 1)"
   ]
  },
  {
   "cell_type": "code",
   "execution_count": 24,
   "metadata": {
    "collapsed": false
   },
   "outputs": [
    {
     "data": {
      "image/png": "[encoded data removed]",
      "text/plain": [
       "<matplotlib.figure.Figure at 0x1179146d0>"
      ]
     },
     "metadata": {},
     "output_type": "display_data"
    }
   ],
   "source": [
    "plt.plot(alpha_range,\n",
    "         train_mean,\n",
    "         color = 'blue',\n",
    "         marker = 'o',\n",
    "         markersize = 5,\n",
    "         label = 'training score');\n",
    "plt.fill_between(alpha_range,\n",
    "                 train_mean + train_std,\n",
    "                 train_mean - train_std,\n",
    "                 alpha = 0.15,\n",
    "                 color = 'blue');\n",
    "plt.plot(alpha_range,\n",
    "         test_mean,\n",
    "         color = 'red',\n",
    "         linestyle = '--',\n",
    "         marker = 's',\n",
    "         markersize = 5,\n",
    "         label = 'validation score');\n",
    "plt.fill_between(alpha_range,\n",
    "                 test_mean + test_std,\n",
    "                 test_mean - test_std,\n",
    "                 alpha = 0.15,\n",
    "                 color = 'red');\n",
    "plt.grid();\n",
    "#plt.xscale('log');\n",
    "plt.legend(loc = 'lower right');\n",
    "plt.xlabel('Parameter alpha');\n",
    "plt.ylabel('Score');\n",
    "#plt.ylim([-4, -1]);\n",
    "plt.show();"
   ]
  },
  {
   "cell_type": "code",
   "execution_count": 25,
   "metadata": {
    "collapsed": false
   },
   "outputs": [
    {
     "data": {
      "text/plain": [
       "5330949016.2342567"
      ]
     },
     "execution_count": 25,
     "metadata": {},
     "output_type": "execute_result"
    }
   ],
   "source": [
    "lasso_clf = Lasso(alpha = 80, random_state = 11)\n",
    "lasso_clf.fit(X_train, y_train)\n",
    "sse(lasso_clf, X_test, y_test)"
   ]
  },
  {
   "cell_type": "code",
   "execution_count": 26,
   "metadata": {
    "collapsed": false
   },
   "outputs": [
    {
     "data": {
      "text/plain": [
       "{'model': 'ridge_clf', 'sse': 4972864197.2487793}"
      ]
     },
     "execution_count": 26,
     "metadata": {},
     "output_type": "execute_result"
    }
   ],
   "source": [
    "currentBest"
   ]
  },
  {
   "cell_type": "markdown",
   "metadata": {},
   "source": [
    "The ridge regession model is somewhat better.  Lasso is helpful in any case, as it helps to determine which of the predictors are actually useful, as it drives those predictors' coefficients that are less useful to 0.  This is useful if we are trying to prioritize which predictors to continue to make use of or invest in.  To observe:"
   ]
  },
  {
   "cell_type": "code",
   "execution_count": 27,
   "metadata": {
    "collapsed": false
   },
   "outputs": [
    {
     "data": {
      "text/plain": [
       "[('revenue', -339.7471362239304),\n",
       " ('weekno', -0.0),\n",
       " ('highseason', -28349.553504529638),\n",
       " ('holiday', 0.0),\n",
       " ('displayimp', 45890.543238444858),\n",
       " ('displaylag', -0.0),\n",
       " ('brandpaid', 20390.644016701979),\n",
       " ('brandclicks', -0.0),\n",
       " ('nonbrandpaid', -5360.1004330457345),\n",
       " ('nonbrandclicks', 0.0),\n",
       " ('organicnew', 0.0),\n",
       " ('youtube', 6428.1250551517887),\n",
       " ('youtubelag', 0.0),\n",
       " ('socialpostimp', 0.0),\n",
       " ('socialpostlag', 0.0),\n",
       " ('socialimp', 0.0),\n",
       " ('socialimplag', 0.0),\n",
       " ('fbposts', -0.0),\n",
       " ('Fbpostimp', 0.0),\n",
       " ('Fbpostimplag', 0.0),\n",
       " ('Fbpageimp', 0.0),\n",
       " ('Fblikes', 22451.831385062094),\n",
       " ('Fbengage', 0.0),\n",
       " ('fbengagelag', -147.45467615459694),\n",
       " ('twposts', -0.0),\n",
       " ('Twpostimp', 0.0),\n",
       " ('TWimpLag', -0.0),\n",
       " ('twengage', -0.0),\n",
       " ('twengagelag', 0.0),\n",
       " ('emailsent', 25690.803372415499),\n",
       " ('emailopen', 0.0),\n",
       " ('emailclick', -33670.692056009713),\n",
       " ('blogvisits', 0.0),\n",
       " ('blognewusers', 0.0),\n",
       " ('blogrefer', 15722.651849020764),\n",
       " ('blogrefernew', 5594.9899343257493),\n",
       " ('blogsignup', -0.0),\n",
       " ('autoenroll', 816.31042781208339),\n",
       " ('socialperson', 7623.1387736633578),\n",
       " ('promoteposts', -0.0),\n",
       " ('learner', 6149.9085249206564),\n",
       " ('rev1weekAgo', 5999.1698293504332),\n",
       " ('rev2weekAgo', 0.0),\n",
       " ('rev3weekAgo', 124.51764007077465),\n",
       " ('rev4weekAgo', -0.0),\n",
       " ('weekOfYear', -0.0),\n",
       " ('fbEngage3', 0.0),\n",
       " ('logSocialpostlag', 0.0),\n",
       " ('organicnew2', 42716.478971805889),\n",
       " ('logOrganicnew', 11737.584384334645),\n",
       " ('blognewusers2', -0.0),\n",
       " ('blognewusersRecip', 0.0),\n",
       " ('Fbpostimplag2', -0.0),\n",
       " ('weekOfYear2', 16310.704103030021),\n",
       " ('sinWeekOfYear', -3826.2284763282537),\n",
       " ('Twpostimp2', -22611.632807680446)]"
      ]
     },
     "execution_count": 27,
     "metadata": {},
     "output_type": "execute_result"
    }
   ],
   "source": [
    "zip(df.columns.values, lasso_clf.coef_)\n",
    "# Note: the first predictor is the intercept, not \"revenue\", the above \n",
    "# syntax is just a quick and dirty way to do this"
   ]
  },
  {
   "cell_type": "markdown",
   "metadata": {},
   "source": [
    "# Tree Models Revisited"
   ]
  },
  {
   "cell_type": "code",
   "execution_count": 28,
   "metadata": {
    "collapsed": false
   },
   "outputs": [],
   "source": [
    "gs = GridSearchCV(\n",
    "    estimator = DecisionTreeRegressor(random_state = 11),\n",
    "    param_grid = [{ 'max_depth': [1, 2, 3, 4, 5, None],\n",
    "                    'min_samples_split': [1, 2, 3, 4, 8],\n",
    "                    'min_samples_leaf': [1, 2, 3, 4, 8, 10] }],\n",
    "    cv = 10,\n",
    "    n_jobs = -1)"
   ]
  },
  {
   "cell_type": "code",
   "execution_count": 29,
   "metadata": {
    "collapsed": false
   },
   "outputs": [
    {
     "data": {
      "text/plain": [
       "GridSearchCV(cv=10, error_score='raise',\n",
       "       estimator=DecisionTreeRegressor(criterion='mse', max_depth=None, max_features=None,\n",
       "           max_leaf_nodes=None, min_samples_leaf=1, min_samples_split=2,\n",
       "           min_weight_fraction_leaf=0.0, presort=False, random_state=11,\n",
       "           splitter='best'),\n",
       "       fit_params={}, iid=True, n_jobs=-1,\n",
       "       param_grid=[{'min_samples_split': [1, 2, 3, 4, 8], 'max_depth': [1, 2, 3, 4, 5, None], 'min_samples_leaf': [1, 2, 3, 4, 8, 10]}],\n",
       "       pre_dispatch='2*n_jobs', refit=True, scoring=None, verbose=0)"
      ]
     },
     "execution_count": 29,
     "metadata": {},
     "output_type": "execute_result"
    }
   ],
   "source": [
    "gs.fit(X_train, y_train)"
   ]
  },
  {
   "cell_type": "code",
   "execution_count": 30,
   "metadata": {
    "collapsed": false
   },
   "outputs": [
    {
     "name": "stdout",
     "output_type": "stream",
     "text": [
      "{'min_samples_split': 1, 'max_depth': 4, 'min_samples_leaf': 8}\n"
     ]
    }
   ],
   "source": [
    "print gs.best_params_"
   ]
  },
  {
   "cell_type": "code",
   "execution_count": 31,
   "metadata": {
    "collapsed": false
   },
   "outputs": [
    {
     "data": {
      "text/plain": [
       "DecisionTreeRegressor(criterion='mse', max_depth=4, max_features=None,\n",
       "           max_leaf_nodes=None, min_samples_leaf=8, min_samples_split=1,\n",
       "           min_weight_fraction_leaf=0.0, presort=False, random_state=11,\n",
       "           splitter='best')"
      ]
     },
     "execution_count": 31,
     "metadata": {},
     "output_type": "execute_result"
    }
   ],
   "source": [
    "tree_clf = gs.best_estimator_\n",
    "tree_clf.fit(X_train, y_train)"
   ]
  },
  {
   "cell_type": "code",
   "execution_count": 32,
   "metadata": {
    "collapsed": false
   },
   "outputs": [
    {
     "data": {
      "text/plain": [
       "11492526797.831745"
      ]
     },
     "execution_count": 32,
     "metadata": {},
     "output_type": "execute_result"
    }
   ],
   "source": [
    "sse(tree_clf, X_test, y_test)"
   ]
  },
  {
   "cell_type": "markdown",
   "metadata": {},
   "source": [
    "Not an improvement, but examine how the model uses the predictors."
   ]
  },
  {
   "cell_type": "code",
   "execution_count": 33,
   "metadata": {
    "collapsed": false
   },
   "outputs": [
    {
     "data": {
      "text/plain": [
       "[('weekno', 0.0),\n",
       " ('highseason', 0.0),\n",
       " ('holiday', 0.0),\n",
       " ('displayimp', 0.0),\n",
       " ('displaylag', 0.0),\n",
       " ('brandpaid', 0.48088552123869388),\n",
       " ('brandclicks', 0.0),\n",
       " ('nonbrandpaid', 0.027227972855735957),\n",
       " ('nonbrandclicks', 0.0),\n",
       " ('organicnew', 0.0),\n",
       " ('youtube', 0.0),\n",
       " ('youtubelag', 0.0),\n",
       " ('socialpostimp', 0.0),\n",
       " ('socialpostlag', 0.0),\n",
       " ('socialimp', 0.0),\n",
       " ('socialimplag', 0.10517011136998491),\n",
       " ('fbposts', 0.0),\n",
       " ('Fbpostimp', 0.0),\n",
       " ('Fbpostimplag', 0.0),\n",
       " ('Fbpageimp', 0.0),\n",
       " ('Fblikes', 0.0),\n",
       " ('Fbengage', 0.064716150634849132),\n",
       " ('fbengagelag', 0.0),\n",
       " ('twposts', 0.0),\n",
       " ('Twpostimp', 0.0),\n",
       " ('TWimpLag', 0.0),\n",
       " ('twengage', 0.0),\n",
       " ('twengagelag', 0.0),\n",
       " ('emailsent', 0.023462989849499731),\n",
       " ('emailopen', 0.0),\n",
       " ('emailclick', 0.0),\n",
       " ('blogvisits', 0.0),\n",
       " ('blognewusers', 0.0),\n",
       " ('blogrefer', 0.0),\n",
       " ('blogrefernew', 0.0),\n",
       " ('blogsignup', 0.0),\n",
       " ('autoenroll', 0.0),\n",
       " ('socialperson', 0.0),\n",
       " ('promoteposts', 0.0),\n",
       " ('learner', 0.0),\n",
       " ('rev1weekAgo', 0.22285674213716675),\n",
       " ('rev2weekAgo', 0.0),\n",
       " ('rev3weekAgo', 0.0),\n",
       " ('rev4weekAgo', 0.0),\n",
       " ('weekOfYear', 0.0),\n",
       " ('fbEngage3', 0.0),\n",
       " ('logSocialpostlag', 0.0),\n",
       " ('organicnew2', 0.075680511914069659),\n",
       " ('logOrganicnew', 0.0),\n",
       " ('blognewusers2', 0.0),\n",
       " ('blognewusersRecip', 0.0),\n",
       " ('Fbpostimplag2', 0.0),\n",
       " ('weekOfYear2', 0.0),\n",
       " ('sinWeekOfYear', 0.0),\n",
       " ('Twpostimp2', 0.0),\n",
       " ('logTwpostimp', 0.0)]"
      ]
     },
     "execution_count": 33,
     "metadata": {},
     "output_type": "execute_result"
    }
   ],
   "source": [
    "zip(X_test.columns.values, tree_clf.feature_importances_)"
   ]
  },
  {
   "cell_type": "markdown",
   "metadata": {},
   "source": [
    "There have been a lot of breakthroughs in recent ML by making ensembel tree methds to boost their power, such as AdaBoost and Random Forests used here.  See if an ensemble tree classifier can improve the results."
   ]
  },
  {
   "cell_type": "code",
   "execution_count": 34,
   "metadata": {
    "collapsed": false
   },
   "outputs": [],
   "source": [
    "forest_clf = RandomForestClassifier(criterion = 'entropy', \n",
    "                                    n_estimators = 50, \n",
    "                                    max_depth = 5,\n",
    "                                    min_samples_leaf = 7,\n",
    "                                    random_state = 11, \n",
    "                                    n_jobs = -1)"
   ]
  },
  {
   "cell_type": "code",
   "execution_count": 35,
   "metadata": {
    "collapsed": false
   },
   "outputs": [
    {
     "data": {
      "text/plain": [
       "RandomForestClassifier(bootstrap=True, class_weight=None, criterion='entropy',\n",
       "            max_depth=5, max_features='auto', max_leaf_nodes=None,\n",
       "            min_samples_leaf=7, min_samples_split=2,\n",
       "            min_weight_fraction_leaf=0.0, n_estimators=50, n_jobs=-1,\n",
       "            oob_score=False, random_state=11, verbose=0, warm_start=False)"
      ]
     },
     "execution_count": 35,
     "metadata": {},
     "output_type": "execute_result"
    }
   ],
   "source": [
    "forest_clf.fit(X_train, y_train)"
   ]
  },
  {
   "cell_type": "code",
   "execution_count": 36,
   "metadata": {
    "collapsed": false
   },
   "outputs": [
    {
     "data": {
      "text/plain": [
       "11034464500"
      ]
     },
     "execution_count": 36,
     "metadata": {},
     "output_type": "execute_result"
    }
   ],
   "source": [
    "sse(forest_clf, X_test, y_test)"
   ]
  },
  {
   "cell_type": "markdown",
   "metadata": {},
   "source": [
    "This is an improvement over the simple tree model, but as in R, the tree models pale in comparison with the regression models for this data set."
   ]
  },
  {
   "cell_type": "code",
   "execution_count": 37,
   "metadata": {
    "collapsed": false
   },
   "outputs": [
    {
     "data": {
      "text/plain": [
       "{'model': 'ridge_clf', 'sse': 4972864197.2487793}"
      ]
     },
     "execution_count": 37,
     "metadata": {},
     "output_type": "execute_result"
    }
   ],
   "source": [
    "currentBest"
   ]
  }
 ],
 "metadata": {
  "kernelspec": {
   "display_name": "Python 2",
   "language": "python",
   "name": "python2"
  },
  "language_info": {
   "codemirror_mode": {
    "name": "ipython",
    "version": 2
   },
   "file_extension": ".py",
   "mimetype": "text/x-python",
   "name": "python",
   "nbconvert_exporter": "python",
   "pygments_lexer": "ipython2",
   "version": "2.7.12"
  }
 },
 "nbformat": 4,
 "nbformat_minor": 0
}
