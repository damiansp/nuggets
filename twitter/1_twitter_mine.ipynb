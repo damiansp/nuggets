{
 "cells": [
  {
   "cell_type": "markdown",
   "metadata": {},
   "source": [
    "# Mine Data from Twitter\n",
    "This brief script uses the Twitter API to download tweets containing any of a set of keywords realtime.  It is intended to be run from the command line, with the data stream redirected to a .json file.\n",
    "\n",
    "**NOTE:** Running this code first requires that the user obtain the necessary API and token keys, and fill in the areas tagged &lt;insert yours here&gt; in the code below.  These may be obtained at https://apps.twitter.com/.  For additional info see also: https://twittercommunity.com/t/how-to-get-my-api-key/7033"
   ]
  },
  {
   "cell_type": "code",
   "execution_count": 1,
   "metadata": {
    "collapsed": true
   },
   "outputs": [],
   "source": [
    "from tweepy.streaming import StreamListener\n",
    "from tweepy import OAuthHandler, Stream"
   ]
  },
  {
   "cell_type": "code",
   "execution_count": null,
   "metadata": {
    "collapsed": true
   },
   "outputs": [],
   "source": [
    "API_key = '<insert yours here>'\n",
    "API_secret = '<insert yours here>'\n",
    "access_token = '<insert yours here>'\n",
    "access_token_secret = '<insert yours here>'\n",
    "\n",
    "keywords = ['Cisco', 'CCNA', 'AWS', 'Sharepoint', 'linux', 'powershell',\n",
    "            'itil', 'sql', 'azure', 'ceh']\n",
    "\n",
    "\n",
    "class StdOutListener(StreamListener):\n",
    "    def on_data(self, data):\n",
    "        print data\n",
    "        return True\n",
    "\n",
    "    def on_error(self, status):\n",
    "        print status\n",
    "\n",
    "\n",
    "if __name__ == '__main__':\n",
    "    # Authenticate and connect                                                  \n",
    "    listener = StdOutListener()\n",
    "    auth = OAuthHandler(API_key, API_secret)\n",
    "    auth.set_access_token(access_token, access_token_secret)\n",
    "    stream = Stream(auth, listener)\n",
    "\n",
    "    stream.filter(track = keywords)\n"
   ]
  },
  {
   "cell_type": "markdown",
   "metadata": {},
   "source": [
    "Run from command line and redirect output to .json via:                  \n",
    "\n",
    "> python twitter_mine.py > nuggests.json  \n",
    "\n",
    "OR >> to append to an existing document.\n",
    "\n",
    "Can track progress with, e.g.,\n",
    "> wc nuggets.json \n",
    "\n",
    "while python script is running (first field is the line count and includes a line for the tweet and line between tweets, so the number of tweets = line count / 2)                  \n",
    "Ran until samples >= 5000 "
   ]
  }
 ],
 "metadata": {
  "kernelspec": {
   "display_name": "Python 2",
   "language": "python",
   "name": "python2"
  },
  "language_info": {
   "codemirror_mode": {
    "name": "ipython",
    "version": 2
   },
   "file_extension": ".py",
   "mimetype": "text/x-python",
   "name": "python",
   "nbconvert_exporter": "python",
   "pygments_lexer": "ipython2",
   "version": "2.7.12"
  }
 },
 "nbformat": 4,
 "nbformat_minor": 0
}
