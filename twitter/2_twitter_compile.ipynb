{
 "cells": [
  {
   "cell_type": "markdown",
   "metadata": {},
   "source": [
    "# Compile Twitter Data\n",
    "Compile raw .json files from twitter feed into an organized file for performing analytics "
   ]
  },
  {
   "cell_type": "code",
   "execution_count": 1,
   "metadata": {
    "collapsed": true
   },
   "outputs": [],
   "source": [
    "import json\n",
    "import matplotlib.pyplot as plt\n",
    "import pandas as pd\n",
    "import re"
   ]
  },
  {
   "cell_type": "code",
   "execution_count": 2,
   "metadata": {
    "collapsed": false
   },
   "outputs": [],
   "source": [
    "path_to_data = 'nuggets5k.json' # use smaller file for development              \n",
    "tweet_data = []\n",
    "tweet_file = open(path_to_data, 'r')"
   ]
  },
  {
   "cell_type": "code",
   "execution_count": 3,
   "metadata": {
    "collapsed": false
   },
   "outputs": [
    {
     "name": "stdout",
     "output_type": "stream",
     "text": [
      "5007\n"
     ]
    }
   ],
   "source": [
    "for line in tweet_file:\n",
    "    try:\n",
    "        tweet = json.loads(line)\n",
    "        tweet_data.append(tweet)\n",
    "    except:\n",
    "        continue\n",
    "\n",
    "print len(tweet_data)"
   ]
  },
  {
   "cell_type": "markdown",
   "metadata": {},
   "source": [
    "There are 5007 total tweets that were stored in the `nuggets5k.json` file by the `twitter_mine.py` program."
   ]
  },
  {
   "cell_type": "markdown",
   "metadata": {},
   "source": [
    "# Extract and organize data"
   ]
  },
  {
   "cell_type": "markdown",
   "metadata": {},
   "source": [
    "Examine a tweet to see what kind of data are available "
   ]
  },
  {
   "cell_type": "code",
   "execution_count": 4,
   "metadata": {
    "collapsed": false
   },
   "outputs": [
    {
     "data": {
      "text/plain": [
       "{u'contributors': None,\n",
       " u'coordinates': None,\n",
       " u'created_at': u'Wed Sep 28 18:18:17 +0000 2016',\n",
       " u'entities': {u'hashtags': [{u'indices': [43, 54], u'text': u'DirectChat'},\n",
       "   {u'indices': [85, 95], u'text': u'AdultWork'}],\n",
       "  u'symbols': [],\n",
       "  u'urls': [],\n",
       "  u'user_mentions': [{u'id': 2574814004,\n",
       "    u'id_str': u'2574814004',\n",
       "    u'indices': [3, 18],\n",
       "    u'name': u'PrincessJessika',\n",
       "    u'screen_name': u'JessikaDommeUK'}]},\n",
       " u'favorite_count': 0,\n",
       " u'favorited': False,\n",
       " u'filter_level': u'low',\n",
       " u'geo': None,\n",
       " u'id': 781196347613536256,\n",
       " u'id_str': u'781196347613536256',\n",
       " u'in_reply_to_screen_name': None,\n",
       " u'in_reply_to_status_id': None,\n",
       " u'in_reply_to_status_id_str': None,\n",
       " u'in_reply_to_user_id': None,\n",
       " u'in_reply_to_user_id_str': None,\n",
       " u'is_quote_status': False,\n",
       " u'lang': u'en',\n",
       " u'place': None,\n",
       " u'retweet_count': 0,\n",
       " u'retweeted': False,\n",
       " u'retweeted_status': {u'contributors': None,\n",
       "  u'coordinates': None,\n",
       "  u'created_at': u'Wed Sep 28 17:32:21 +0000 2016',\n",
       "  u'entities': {u'hashtags': [{u'indices': [23, 34], u'text': u'DirectChat'},\n",
       "    {u'indices': [65, 75], u'text': u'AdultWork'}],\n",
       "   u'symbols': [],\n",
       "   u'urls': [{u'display_url': u'aws.im/hSS',\n",
       "     u'expanded_url': u'http://aws.im/hSS',\n",
       "     u'indices': [103, 126],\n",
       "     u'url': u'https://t.co/ujfstZJwSd'}],\n",
       "   u'user_mentions': []},\n",
       "  u'favorite_count': 0,\n",
       "  u'favorited': False,\n",
       "  u'filter_level': u'low',\n",
       "  u'geo': None,\n",
       "  u'id': 781184785016324096,\n",
       "  u'id_str': u'781184785016324096',\n",
       "  u'in_reply_to_screen_name': None,\n",
       "  u'in_reply_to_status_id': None,\n",
       "  u'in_reply_to_status_id_str': None,\n",
       "  u'in_reply_to_user_id': None,\n",
       "  u'in_reply_to_user_id_str': None,\n",
       "  u'is_quote_status': False,\n",
       "  u'lang': u'en',\n",
       "  u'place': None,\n",
       "  u'possibly_sensitive': False,\n",
       "  u'retweet_count': 2,\n",
       "  u'retweeted': False,\n",
       "  u'source': u'<a href=\"http://www.adultwork.com\" rel=\"nofollow\">AdultWork.com</a>',\n",
       "  u'text': u'I am now available for #DirectChat &amp; Phone Chat Bookings via #AdultWork.com.  Come give me a call! https://t.co/ujfstZJwSd',\n",
       "  u'truncated': False,\n",
       "  u'user': {u'contributors_enabled': False,\n",
       "   u'created_at': u'Wed Jun 18 13:04:34 +0000 2014',\n",
       "   u'default_profile': False,\n",
       "   u'default_profile_image': False,\n",
       "   u'description': u'Femdom Bitch #Dominatrix. Content Producer & #Webcam Princess http://refer.adultwork.com/?R=2546494&T=2546494 \\nhttps://www.amazon.co.uk/gp/registry/wishlist',\n",
       "   u'favourites_count': 3123,\n",
       "   u'follow_request_sent': None,\n",
       "   u'followers_count': 7159,\n",
       "   u'following': None,\n",
       "   u'friends_count': 815,\n",
       "   u'geo_enabled': False,\n",
       "   u'id': 2574814004,\n",
       "   u'id_str': u'2574814004',\n",
       "   u'is_translator': False,\n",
       "   u'lang': u'en-gb',\n",
       "   u'listed_count': 40,\n",
       "   u'location': u'London, England',\n",
       "   u'name': u'PrincessJessika',\n",
       "   u'notifications': None,\n",
       "   u'profile_background_color': u'000000',\n",
       "   u'profile_background_image_url': u'http://pbs.twimg.com/profile_background_images/491579500354732034/Lmv84mpB.png',\n",
       "   u'profile_background_image_url_https': u'https://pbs.twimg.com/profile_background_images/491579500354732034/Lmv84mpB.png',\n",
       "   u'profile_background_tile': True,\n",
       "   u'profile_banner_url': u'https://pbs.twimg.com/profile_banners/2574814004/1467775748',\n",
       "   u'profile_image_url': u'http://pbs.twimg.com/profile_images/771884537290821632/TzuZPgYT_normal.jpg',\n",
       "   u'profile_image_url_https': u'https://pbs.twimg.com/profile_images/771884537290821632/TzuZPgYT_normal.jpg',\n",
       "   u'profile_link_color': u'F58EA8',\n",
       "   u'profile_sidebar_border_color': u'000000',\n",
       "   u'profile_sidebar_fill_color': u'DDEEF6',\n",
       "   u'profile_text_color': u'333333',\n",
       "   u'profile_use_background_image': True,\n",
       "   u'protected': False,\n",
       "   u'screen_name': u'JessikaDommeUK',\n",
       "   u'statuses_count': 4512,\n",
       "   u'time_zone': u'London',\n",
       "   u'url': u'http://www.princessjessika.com/',\n",
       "   u'utc_offset': 3600,\n",
       "   u'verified': False}},\n",
       " u'source': u'<a href=\"https://roundteam.co\" rel=\"nofollow\">RoundTeam</a>',\n",
       " u'text': u'RT @JessikaDommeUK: I am now available for #DirectChat &amp; Phone Chat Bookings via #AdultWork.com.  Come give me a call! https://t.co/ujfstZJ\\u2026',\n",
       " u'timestamp_ms': u'1475086697854',\n",
       " u'truncated': False,\n",
       " u'user': {u'contributors_enabled': False,\n",
       "  u'created_at': u'Wed Feb 13 21:59:56 +0000 2013',\n",
       "  u'default_profile': False,\n",
       "  u'default_profile_image': False,\n",
       "  u'description': u'The DP Service offering FREE Dailypay on AW. http://goo.gl/WxccxG  No 20% VAT on AW Join here http://goo.gl/4N7LuK',\n",
       "  u'favourites_count': 1779,\n",
       "  u'follow_request_sent': None,\n",
       "  u'followers_count': 12633,\n",
       "  u'following': None,\n",
       "  u'friends_count': 933,\n",
       "  u'geo_enabled': False,\n",
       "  u'id': 1176955868,\n",
       "  u'id_str': u'1176955868',\n",
       "  u'is_translator': False,\n",
       "  u'lang': u'en',\n",
       "  u'listed_count': 403,\n",
       "  u'location': u'UK',\n",
       "  u'name': u'\\u2b50\\ufe0fAdultworksFinest\\u2b50\\ufe0f',\n",
       "  u'notifications': None,\n",
       "  u'profile_background_color': u'131516',\n",
       "  u'profile_background_image_url': u'http://pbs.twimg.com/profile_background_images/791859540/cce9309e96d21c80ebcf9b7e84e05d69.png',\n",
       "  u'profile_background_image_url_https': u'https://pbs.twimg.com/profile_background_images/791859540/cce9309e96d21c80ebcf9b7e84e05d69.png',\n",
       "  u'profile_background_tile': True,\n",
       "  u'profile_banner_url': u'https://pbs.twimg.com/profile_banners/1176955868/1434061130',\n",
       "  u'profile_image_url': u'http://pbs.twimg.com/profile_images/773823291811303426/jaHOMdqz_normal.jpg',\n",
       "  u'profile_image_url_https': u'https://pbs.twimg.com/profile_images/773823291811303426/jaHOMdqz_normal.jpg',\n",
       "  u'profile_link_color': u'8F0B47',\n",
       "  u'profile_sidebar_border_color': u'000000',\n",
       "  u'profile_sidebar_fill_color': u'DDEEF6',\n",
       "  u'profile_text_color': u'333333',\n",
       "  u'profile_use_background_image': True,\n",
       "  u'protected': False,\n",
       "  u'screen_name': u'AWs_Finest',\n",
       "  u'statuses_count': 148407,\n",
       "  u'time_zone': u'Casablanca',\n",
       "  u'url': u'http://groups.adultwork.com/4246',\n",
       "  u'utc_offset': 3600,\n",
       "  u'verified': False}}"
      ]
     },
     "execution_count": 4,
     "metadata": {},
     "output_type": "execute_result"
    }
   ],
   "source": [
    "tweet_data[0]"
   ]
  },
  {
   "cell_type": "markdown",
   "metadata": {},
   "source": [
    "To begin, extract the following fields into a data file:\n",
    "* text (the actual content of the tweet -- for which some NLP may be done)\n",
    "* lang\n",
    "* location\n",
    "* hashtags (keywords, can serve as proxy for the content subject)\n",
    "* retweeted (boolean -- is this content worth repeating?)\n",
    "* followers_count (how many people is this content reaching?)\n",
    "* friends_count (how many people is this content reaching?)\n",
    "* name (how many unique users posting about these topics?)"
   ]
  },
  {
   "cell_type": "code",
   "execution_count": 5,
   "metadata": {
    "collapsed": true
   },
   "outputs": [],
   "source": [
    "def add_column(keys, col_name):\n",
    "    '''\n",
    "    Most of the data that are of interest are at depth one or two in each ta\n",
    "    json object.  Obtain the data and append to the df as a new column.\n",
    "    \n",
    "    @param keys: array of keys that identify the value location of the \n",
    "       data.\n",
    "    @param col_name: name of the column to be created\n",
    "    \n",
    "    @return: void (modifies df in-place)\n",
    "    '''\n",
    "    data = []\n",
    "    \n",
    "    for tweet in tweet_data:\n",
    "        if len(keys) == 1:\n",
    "            if tweet.has_key(keys[0]):\n",
    "                data.append(tweet[keys[0]])\n",
    "            else:\n",
    "                data.append(None)\n",
    "        elif len(keys) == 2:\n",
    "            if tweet.has_key(keys[0]) and tweet[keys[0]].has_key(keys[1]):\n",
    "                data.append(tweet[keys[0]][keys[1]])\n",
    "            else:\n",
    "                data.append(None)\n",
    "        else: \n",
    "            print 'Function not designed to handle key depth > 2'\n",
    "            return\n",
    "    df[col_name] = data"
   ]
  },
  {
   "cell_type": "code",
   "execution_count": 6,
   "metadata": {
    "collapsed": false
   },
   "outputs": [],
   "source": [
    "df = pd.DataFrame()\n",
    "add_column(['text'], 'text')\n",
    "add_column(['user', 'lang'], 'user_lang')\n",
    "add_column(['user', 'location'], 'location')\n",
    "add_column(['entities', 'hashtags'], 'hashtags')\n",
    "add_column(['retweeted'], 'retweet')\n",
    "add_column(['retweet_count'], 'n_retweet')\n",
    "add_column(['user', 'followers_count'], 'n_followers')\n",
    "add_column(['user', 'friends_count'], 'n_friends')\n",
    "add_column(['user', 'name'], 'name')\n",
    "add_column(['coordinates'], 'coords')"
   ]
  },
  {
   "cell_type": "code",
   "execution_count": 7,
   "metadata": {
    "collapsed": false
   },
   "outputs": [
    {
     "data": {
      "text/html": [
       "<div>\n",
       "<table border=\"1\" class=\"dataframe\">\n",
       "  <thead>\n",
       "    <tr style=\"text-align: right;\">\n",
       "      <th></th>\n",
       "      <th>text</th>\n",
       "      <th>user_lang</th>\n",
       "      <th>location</th>\n",
       "      <th>hashtags</th>\n",
       "      <th>retweet</th>\n",
       "      <th>n_retweet</th>\n",
       "      <th>n_followers</th>\n",
       "      <th>n_friends</th>\n",
       "      <th>name</th>\n",
       "      <th>coords</th>\n",
       "    </tr>\n",
       "  </thead>\n",
       "  <tbody>\n",
       "    <tr>\n",
       "      <th>0</th>\n",
       "      <td>RT @JessikaDommeUK: I am now available for #Di...</td>\n",
       "      <td>en</td>\n",
       "      <td>UK</td>\n",
       "      <td>[{u'indices': [43, 54], u'text': u'DirectChat'...</td>\n",
       "      <td>False</td>\n",
       "      <td>0</td>\n",
       "      <td>12633</td>\n",
       "      <td>933</td>\n",
       "      <td>⭐️AdultworksFinest⭐️</td>\n",
       "      <td>None</td>\n",
       "    </tr>\n",
       "    <tr>\n",
       "      <th>1</th>\n",
       "      <td>yNewsbot: Bugtraq: #Cisco #Security #Advisory:...</td>\n",
       "      <td>en</td>\n",
       "      <td>tryingto #^fi~{|__#}%%*</td>\n",
       "      <td>[{u'indices': [19, 25], u'text': u'Cisco'}, {u...</td>\n",
       "      <td>False</td>\n",
       "      <td>0</td>\n",
       "      <td>2636</td>\n",
       "      <td>1084</td>\n",
       "      <td>❌Siraj Solution❌</td>\n",
       "      <td>None</td>\n",
       "    </tr>\n",
       "    <tr>\n",
       "      <th>2</th>\n",
       "      <td>RT @mims: Amazon is going to compete directly ...</td>\n",
       "      <td>en</td>\n",
       "      <td>None</td>\n",
       "      <td>[]</td>\n",
       "      <td>False</td>\n",
       "      <td>0</td>\n",
       "      <td>2624</td>\n",
       "      <td>4916</td>\n",
       "      <td>Leroy Wesley Annon</td>\n",
       "      <td>None</td>\n",
       "    </tr>\n",
       "    <tr>\n",
       "      <th>3</th>\n",
       "      <td>#Cisco Battles Shadow Broker Exploits. Read mo...</td>\n",
       "      <td>en</td>\n",
       "      <td>San Mateo, CA</td>\n",
       "      <td>[{u'indices': [0, 6], u'text': u'Cisco'}]</td>\n",
       "      <td>False</td>\n",
       "      <td>0</td>\n",
       "      <td>86</td>\n",
       "      <td>2</td>\n",
       "      <td>Networking News</td>\n",
       "      <td>None</td>\n",
       "    </tr>\n",
       "    <tr>\n",
       "      <th>4</th>\n",
       "      <td>#Cisco Battles Shadow Broker Exploits. Read mo...</td>\n",
       "      <td>en</td>\n",
       "      <td>San Mateo, CA</td>\n",
       "      <td>[{u'indices': [0, 6], u'text': u'Cisco'}]</td>\n",
       "      <td>False</td>\n",
       "      <td>0</td>\n",
       "      <td>20</td>\n",
       "      <td>2</td>\n",
       "      <td>Communication News</td>\n",
       "      <td>None</td>\n",
       "    </tr>\n",
       "  </tbody>\n",
       "</table>\n",
       "</div>"
      ],
      "text/plain": [
       "                                                text user_lang  \\\n",
       "0  RT @JessikaDommeUK: I am now available for #Di...        en   \n",
       "1  yNewsbot: Bugtraq: #Cisco #Security #Advisory:...        en   \n",
       "2  RT @mims: Amazon is going to compete directly ...        en   \n",
       "3  #Cisco Battles Shadow Broker Exploits. Read mo...        en   \n",
       "4  #Cisco Battles Shadow Broker Exploits. Read mo...        en   \n",
       "\n",
       "                  location                                           hashtags  \\\n",
       "0                       UK  [{u'indices': [43, 54], u'text': u'DirectChat'...   \n",
       "1  tryingto #^fi~{|__#}%%*  [{u'indices': [19, 25], u'text': u'Cisco'}, {u...   \n",
       "2                     None                                                 []   \n",
       "3            San Mateo, CA          [{u'indices': [0, 6], u'text': u'Cisco'}]   \n",
       "4            San Mateo, CA          [{u'indices': [0, 6], u'text': u'Cisco'}]   \n",
       "\n",
       "  retweet  n_retweet  n_followers  n_friends                  name coords  \n",
       "0   False          0        12633        933  ⭐️AdultworksFinest⭐️   None  \n",
       "1   False          0         2636       1084      ❌Siraj Solution❌   None  \n",
       "2   False          0         2624       4916    Leroy Wesley Annon   None  \n",
       "3   False          0           86          2       Networking News   None  \n",
       "4   False          0           20          2    Communication News   None  "
      ]
     },
     "execution_count": 7,
     "metadata": {},
     "output_type": "execute_result"
    }
   ],
   "source": [
    "# Examine output\n",
    "df.head()"
   ]
  },
  {
   "cell_type": "markdown",
   "metadata": {},
   "source": [
    "Latitude/longitude coordinates are potentially of interest to some applications.  Unfortunately, they exist for < 1% of the data."
   ]
  },
  {
   "cell_type": "code",
   "execution_count": 8,
   "metadata": {
    "collapsed": false
   },
   "outputs": [
    {
     "name": "stdout",
     "output_type": "stream",
     "text": [
      "No. data with coords: 15\n",
      "Total samples in data set: 5007\n",
      "Fraction with coords: 0.00299580587178\n",
      "{u'type': u'Point', u'coordinates': [-121.8863286, 37.3382082]} \n",
      "\n",
      "{u'type': u'Point', u'coordinates': [-84.3879824, 33.7489954]} \n",
      "\n",
      "{u'type': u'Point', u'coordinates': [7.5949121, 50.3680029]} \n",
      "\n",
      "{u'type': u'Point', u'coordinates': [-95.6090009, 29.7801889]} \n",
      "\n",
      "{u'type': u'Point', u'coordinates': [-82.21336234, 27.03644926]} \n",
      "\n",
      "{u'type': u'Point', u'coordinates': [-98.4936282, 29.4241219]} \n",
      "\n",
      "{u'type': u'Point', u'coordinates': [-76.7238, 39.192978]} \n",
      "\n",
      "{u'type': u'Point', u'coordinates': [-78.898619, 35.9940329]} \n",
      "\n",
      "{u'type': u'Point', u'coordinates': [-91.4894045, 41.6838135]} \n",
      "\n",
      "{u'type': u'Point', u'coordinates': [-97.7430608, 30.267153]} \n",
      "\n",
      "{u'type': u'Point', u'coordinates': [-1.5359478, 53.7988358]} \n",
      "\n",
      "{u'type': u'Point', u'coordinates': [-1.5359478, 53.7988358]} \n",
      "\n",
      "{u'type': u'Point', u'coordinates': [-87.6297982, 41.8781136]} \n",
      "\n",
      "{u'type': u'Point', u'coordinates': [-77.1772604, 38.9338676]} \n",
      "\n",
      "{u'type': u'Point', u'coordinates': [-122.2284532, 47.3073228]} \n",
      "\n"
     ]
    }
   ],
   "source": [
    "coords = [cd for cd in df['coords'] if cd is not None]\n",
    "print 'No. data with coords:', len(coords)\n",
    "print 'Total samples in data set:', len(df['coords'])\n",
    "print 'Fraction with coords:', float(len(coords)) / len(df['coords'])\n",
    "for c in coords:\n",
    "    print c, '\\n'\n",
    "    "
   ]
  },
  {
   "cell_type": "markdown",
   "metadata": {},
   "source": [
    "# Some Basic Text Processing\n",
    "In this section, determine which of the keywords are found in each tweet\n",
    "and keep track of this info in additional columns."
   ]
  },
  {
   "cell_type": "code",
   "execution_count": 9,
   "metadata": {
    "collapsed": true
   },
   "outputs": [],
   "source": [
    "def word_in_text(word, text):\n",
    "    '''                                                                         \n",
    "    Search for word in text (case insensitive), return True if found, else      \n",
    "    return False                                                                \n",
    "    '''\n",
    "    match =  re.search(word.lower(), text.lower())\n",
    "    if match:\n",
    "        return True\n",
    "    return False"
   ]
  },
  {
   "cell_type": "code",
   "execution_count": 10,
   "metadata": {
    "collapsed": false
   },
   "outputs": [
    {
     "name": "stdout",
     "output_type": "stream",
     "text": [
      "text: This is a text string.\n",
      "\"this\" in text: True\n",
      "\"TEXT\" in text: True\n",
      "\"word\" in text: False\n"
     ]
    }
   ],
   "source": [
    "# Test\n",
    "ex_text = 'This is a text string.'\n",
    "print 'text:', ex_text\n",
    "print '\"this\" in text:', word_in_text('this', ex_text)\n",
    "print '\"TEXT\" in text:', word_in_text('TEXT', ex_text)\n",
    "print '\"word\" in text:', word_in_text('word', ex_text)"
   ]
  },
  {
   "cell_type": "code",
   "execution_count": 11,
   "metadata": {
    "collapsed": true
   },
   "outputs": [],
   "source": [
    "keywords = ['Cisco', 'CCNA', 'AWS', 'Sharepoint', 'linux', 'powershell',\n",
    "            'itil', 'sql', 'azure', 'ceh']"
   ]
  },
  {
   "cell_type": "code",
   "execution_count": 12,
   "metadata": {
    "collapsed": false
   },
   "outputs": [
    {
     "data": {
      "text/html": [
       "<div>\n",
       "<table border=\"1\" class=\"dataframe\">\n",
       "  <thead>\n",
       "    <tr style=\"text-align: right;\">\n",
       "      <th></th>\n",
       "      <th>text</th>\n",
       "      <th>user_lang</th>\n",
       "      <th>location</th>\n",
       "      <th>hashtags</th>\n",
       "      <th>retweet</th>\n",
       "      <th>n_retweet</th>\n",
       "      <th>n_followers</th>\n",
       "      <th>n_friends</th>\n",
       "      <th>name</th>\n",
       "      <th>coords</th>\n",
       "      <th>Cisco</th>\n",
       "      <th>CCNA</th>\n",
       "      <th>AWS</th>\n",
       "      <th>Sharepoint</th>\n",
       "      <th>linux</th>\n",
       "      <th>powershell</th>\n",
       "      <th>itil</th>\n",
       "      <th>sql</th>\n",
       "      <th>azure</th>\n",
       "      <th>ceh</th>\n",
       "    </tr>\n",
       "  </thead>\n",
       "  <tbody>\n",
       "    <tr>\n",
       "      <th>0</th>\n",
       "      <td>RT @JessikaDommeUK: I am now available for #Di...</td>\n",
       "      <td>en</td>\n",
       "      <td>UK</td>\n",
       "      <td>[{u'indices': [43, 54], u'text': u'DirectChat'...</td>\n",
       "      <td>False</td>\n",
       "      <td>0</td>\n",
       "      <td>12633</td>\n",
       "      <td>933</td>\n",
       "      <td>⭐️AdultworksFinest⭐️</td>\n",
       "      <td>None</td>\n",
       "      <td>False</td>\n",
       "      <td>False</td>\n",
       "      <td>False</td>\n",
       "      <td>False</td>\n",
       "      <td>False</td>\n",
       "      <td>False</td>\n",
       "      <td>False</td>\n",
       "      <td>False</td>\n",
       "      <td>False</td>\n",
       "      <td>False</td>\n",
       "    </tr>\n",
       "    <tr>\n",
       "      <th>1</th>\n",
       "      <td>yNewsbot: Bugtraq: #Cisco #Security #Advisory:...</td>\n",
       "      <td>en</td>\n",
       "      <td>tryingto #^fi~{|__#}%%*</td>\n",
       "      <td>[{u'indices': [19, 25], u'text': u'Cisco'}, {u...</td>\n",
       "      <td>False</td>\n",
       "      <td>0</td>\n",
       "      <td>2636</td>\n",
       "      <td>1084</td>\n",
       "      <td>❌Siraj Solution❌</td>\n",
       "      <td>None</td>\n",
       "      <td>True</td>\n",
       "      <td>False</td>\n",
       "      <td>False</td>\n",
       "      <td>False</td>\n",
       "      <td>False</td>\n",
       "      <td>False</td>\n",
       "      <td>False</td>\n",
       "      <td>False</td>\n",
       "      <td>False</td>\n",
       "      <td>False</td>\n",
       "    </tr>\n",
       "    <tr>\n",
       "      <th>2</th>\n",
       "      <td>RT @mims: Amazon is going to compete directly ...</td>\n",
       "      <td>en</td>\n",
       "      <td>None</td>\n",
       "      <td>[]</td>\n",
       "      <td>False</td>\n",
       "      <td>0</td>\n",
       "      <td>2624</td>\n",
       "      <td>4916</td>\n",
       "      <td>Leroy Wesley Annon</td>\n",
       "      <td>None</td>\n",
       "      <td>False</td>\n",
       "      <td>False</td>\n",
       "      <td>True</td>\n",
       "      <td>False</td>\n",
       "      <td>False</td>\n",
       "      <td>False</td>\n",
       "      <td>False</td>\n",
       "      <td>False</td>\n",
       "      <td>False</td>\n",
       "      <td>False</td>\n",
       "    </tr>\n",
       "    <tr>\n",
       "      <th>3</th>\n",
       "      <td>#Cisco Battles Shadow Broker Exploits. Read mo...</td>\n",
       "      <td>en</td>\n",
       "      <td>San Mateo, CA</td>\n",
       "      <td>[{u'indices': [0, 6], u'text': u'Cisco'}]</td>\n",
       "      <td>False</td>\n",
       "      <td>0</td>\n",
       "      <td>86</td>\n",
       "      <td>2</td>\n",
       "      <td>Networking News</td>\n",
       "      <td>None</td>\n",
       "      <td>True</td>\n",
       "      <td>False</td>\n",
       "      <td>False</td>\n",
       "      <td>False</td>\n",
       "      <td>False</td>\n",
       "      <td>False</td>\n",
       "      <td>False</td>\n",
       "      <td>False</td>\n",
       "      <td>False</td>\n",
       "      <td>False</td>\n",
       "    </tr>\n",
       "    <tr>\n",
       "      <th>4</th>\n",
       "      <td>#Cisco Battles Shadow Broker Exploits. Read mo...</td>\n",
       "      <td>en</td>\n",
       "      <td>San Mateo, CA</td>\n",
       "      <td>[{u'indices': [0, 6], u'text': u'Cisco'}]</td>\n",
       "      <td>False</td>\n",
       "      <td>0</td>\n",
       "      <td>20</td>\n",
       "      <td>2</td>\n",
       "      <td>Communication News</td>\n",
       "      <td>None</td>\n",
       "      <td>True</td>\n",
       "      <td>False</td>\n",
       "      <td>False</td>\n",
       "      <td>False</td>\n",
       "      <td>False</td>\n",
       "      <td>False</td>\n",
       "      <td>False</td>\n",
       "      <td>False</td>\n",
       "      <td>False</td>\n",
       "      <td>False</td>\n",
       "    </tr>\n",
       "  </tbody>\n",
       "</table>\n",
       "</div>"
      ],
      "text/plain": [
       "                                                text user_lang  \\\n",
       "0  RT @JessikaDommeUK: I am now available for #Di...        en   \n",
       "1  yNewsbot: Bugtraq: #Cisco #Security #Advisory:...        en   \n",
       "2  RT @mims: Amazon is going to compete directly ...        en   \n",
       "3  #Cisco Battles Shadow Broker Exploits. Read mo...        en   \n",
       "4  #Cisco Battles Shadow Broker Exploits. Read mo...        en   \n",
       "\n",
       "                  location                                           hashtags  \\\n",
       "0                       UK  [{u'indices': [43, 54], u'text': u'DirectChat'...   \n",
       "1  tryingto #^fi~{|__#}%%*  [{u'indices': [19, 25], u'text': u'Cisco'}, {u...   \n",
       "2                     None                                                 []   \n",
       "3            San Mateo, CA          [{u'indices': [0, 6], u'text': u'Cisco'}]   \n",
       "4            San Mateo, CA          [{u'indices': [0, 6], u'text': u'Cisco'}]   \n",
       "\n",
       "  retweet  n_retweet  n_followers  n_friends                  name coords  \\\n",
       "0   False          0        12633        933  ⭐️AdultworksFinest⭐️   None   \n",
       "1   False          0         2636       1084      ❌Siraj Solution❌   None   \n",
       "2   False          0         2624       4916    Leroy Wesley Annon   None   \n",
       "3   False          0           86          2       Networking News   None   \n",
       "4   False          0           20          2    Communication News   None   \n",
       "\n",
       "   Cisco   CCNA    AWS Sharepoint  linux powershell   itil    sql  azure  \\\n",
       "0  False  False  False      False  False      False  False  False  False   \n",
       "1   True  False  False      False  False      False  False  False  False   \n",
       "2  False  False   True      False  False      False  False  False  False   \n",
       "3   True  False  False      False  False      False  False  False  False   \n",
       "4   True  False  False      False  False      False  False  False  False   \n",
       "\n",
       "     ceh  \n",
       "0  False  \n",
       "1  False  \n",
       "2  False  \n",
       "3  False  \n",
       "4  False  "
      ]
     },
     "execution_count": 12,
     "metadata": {},
     "output_type": "execute_result"
    }
   ],
   "source": [
    "for word in keywords:\n",
    "    df[word] = df['text'].apply(lambda tweet: word_in_text(word, tweet)\n",
    "                                if tweet else None)\n",
    "    \n",
    "df.head()"
   ]
  },
  {
   "cell_type": "markdown",
   "metadata": {},
   "source": [
    "Write DataFrame to .csv for potential further processing\n",
    "Note: encoding defaults to ascii, but will throw error if non-ascii text  found (e.g., international text), hence the utf-8 encoding argument."
   ]
  },
  {
   "cell_type": "code",
   "execution_count": 13,
   "metadata": {
    "collapsed": true
   },
   "outputs": [],
   "source": [
    "df.to_csv('twitter.csv', encoding = 'utf-8')"
   ]
  },
  {
   "cell_type": "code",
   "execution_count": 14,
   "metadata": {
    "collapsed": true
   },
   "outputs": [],
   "source": [
    "# Alternately pickle as a Python object\n",
    "df.to_pickle('twitter_pickle')"
   ]
  },
  {
   "cell_type": "markdown",
   "metadata": {},
   "source": [
    "Analyses are conducted in the following notebook: 3_twitter_analysis.ipynb"
   ]
  }
 ],
 "metadata": {
  "kernelspec": {
   "display_name": "Python 2",
   "language": "python",
   "name": "python2"
  },
  "language_info": {
   "codemirror_mode": {
    "name": "ipython",
    "version": 2
   },
   "file_extension": ".py",
   "mimetype": "text/x-python",
   "name": "python",
   "nbconvert_exporter": "python",
   "pygments_lexer": "ipython2",
   "version": "2.7.12"
  }
 },
 "nbformat": 4,
 "nbformat_minor": 0
}
